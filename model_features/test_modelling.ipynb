{
 "cells": [
  {
   "cell_type": "code",
   "execution_count": 1,
   "metadata": {},
   "outputs": [],
   "source": [
    "#!pip install langdetect"
   ]
  },
  {
   "cell_type": "code",
   "execution_count": 2,
   "metadata": {},
   "outputs": [],
   "source": [
    "#General purpose\n",
    "import os\n",
    "#Data handling\n",
    "import pandas as pd\n",
    "import numpy as np\n",
    "import datetime\n",
    "#Data Visualization\n",
    "import matplotlib as mpl\n",
    "import matplotlib.pyplot as plt\n",
    "%matplotlib inline \n",
    "#Modelling \n",
    "import nltk\n",
    "from nltk.tokenize import word_tokenize\n",
    "from nltk.corpus import stopwords\n",
    "from nltk.stem import PorterStemmer\n",
    "from nltk.stem import WordNetLemmatizer\n",
    "from langdetect import detect #to filter non-english reviews.\n",
    "import sklearn\n",
    "from sklearn.feature_extraction.text import CountVectorizer\n"
   ]
  },
  {
   "cell_type": "code",
   "execution_count": 3,
   "metadata": {
    "scrolled": true
   },
   "outputs": [
    {
     "data": {
      "text/html": [
       "<div>\n",
       "<style scoped>\n",
       "    .dataframe tbody tr th:only-of-type {\n",
       "        vertical-align: middle;\n",
       "    }\n",
       "\n",
       "    .dataframe tbody tr th {\n",
       "        vertical-align: top;\n",
       "    }\n",
       "\n",
       "    .dataframe thead th {\n",
       "        text-align: right;\n",
       "    }\n",
       "</style>\n",
       "<table border=\"1\" class=\"dataframe\">\n",
       "  <thead>\n",
       "    <tr style=\"text-align: right;\">\n",
       "      <th></th>\n",
       "      <th>Unnamed: 0</th>\n",
       "      <th>asin</th>\n",
       "      <th>review_date</th>\n",
       "      <th>reviewerID</th>\n",
       "      <th>reviewerName</th>\n",
       "      <th>summary</th>\n",
       "      <th>overall</th>\n",
       "      <th>reviewText</th>\n",
       "      <th>vote</th>\n",
       "      <th>date</th>\n",
       "      <th>title</th>\n",
       "      <th>description</th>\n",
       "      <th>image</th>\n",
       "      <th>main_cat</th>\n",
       "      <th>brand</th>\n",
       "      <th>rank</th>\n",
       "      <th>product_year</th>\n",
       "    </tr>\n",
       "  </thead>\n",
       "  <tbody>\n",
       "    <tr>\n",
       "      <th>0</th>\n",
       "      <td>0</td>\n",
       "      <td>B00009W3I4</td>\n",
       "      <td>2013-08-22</td>\n",
       "      <td>A34A1UP40713F8</td>\n",
       "      <td>James. Backus</td>\n",
       "      <td>Great product</td>\n",
       "      <td>5</td>\n",
       "      <td>I like this as a vent as well as something tha...</td>\n",
       "      <td>0</td>\n",
       "      <td>2003-05-14</td>\n",
       "      <td>HEARTLAND 21000 Energy Saving Dryer Vent Closure</td>\n",
       "      <td>Replace your old vent with the Heartland Natur...</td>\n",
       "      <td>1.0</td>\n",
       "      <td>Tools &amp; Home Improvement</td>\n",
       "      <td>HEARTLAND</td>\n",
       "      <td>5633.0</td>\n",
       "      <td>2003.0</td>\n",
       "    </tr>\n",
       "    <tr>\n",
       "      <th>1</th>\n",
       "      <td>1</td>\n",
       "      <td>B00009W3PA</td>\n",
       "      <td>2016-02-08</td>\n",
       "      <td>A1AHW6I678O6F2</td>\n",
       "      <td>kevin.</td>\n",
       "      <td>Five Stars</td>\n",
       "      <td>5</td>\n",
       "      <td>good item</td>\n",
       "      <td>0</td>\n",
       "      <td>2006-05-26</td>\n",
       "      <td>Certified Appliance Accessories 3-Wire Closed-...</td>\n",
       "      <td>Some people are surprised to learn that a new ...</td>\n",
       "      <td>1.0</td>\n",
       "      <td>Tools &amp; Home Improvement</td>\n",
       "      <td>Certified Appliance Accessories</td>\n",
       "      <td>135619.0</td>\n",
       "      <td>2006.0</td>\n",
       "    </tr>\n",
       "    <tr>\n",
       "      <th>2</th>\n",
       "      <td>2</td>\n",
       "      <td>B00009W3PA</td>\n",
       "      <td>2015-08-05</td>\n",
       "      <td>A8R48NKTGCJDQ</td>\n",
       "      <td>CDBrannom</td>\n",
       "      <td>Five Stars</td>\n",
       "      <td>5</td>\n",
       "      <td>Fit my new LG dryer perfectly.</td>\n",
       "      <td>0</td>\n",
       "      <td>2006-05-26</td>\n",
       "      <td>Certified Appliance Accessories 3-Wire Closed-...</td>\n",
       "      <td>Some people are surprised to learn that a new ...</td>\n",
       "      <td>1.0</td>\n",
       "      <td>Tools &amp; Home Improvement</td>\n",
       "      <td>Certified Appliance Accessories</td>\n",
       "      <td>135619.0</td>\n",
       "      <td>2006.0</td>\n",
       "    </tr>\n",
       "    <tr>\n",
       "      <th>3</th>\n",
       "      <td>3</td>\n",
       "      <td>B00009W3PA</td>\n",
       "      <td>2015-04-24</td>\n",
       "      <td>AR3OHHHW01A8E</td>\n",
       "      <td>Calvin E Reames</td>\n",
       "      <td>Perfect size</td>\n",
       "      <td>5</td>\n",
       "      <td>Good value for electric dryers</td>\n",
       "      <td>0</td>\n",
       "      <td>2006-05-26</td>\n",
       "      <td>Certified Appliance Accessories 3-Wire Closed-...</td>\n",
       "      <td>Some people are surprised to learn that a new ...</td>\n",
       "      <td>1.0</td>\n",
       "      <td>Tools &amp; Home Improvement</td>\n",
       "      <td>Certified Appliance Accessories</td>\n",
       "      <td>135619.0</td>\n",
       "      <td>2006.0</td>\n",
       "    </tr>\n",
       "    <tr>\n",
       "      <th>4</th>\n",
       "      <td>4</td>\n",
       "      <td>B00009W3PA</td>\n",
       "      <td>2015-03-21</td>\n",
       "      <td>A2CIEGHZ7L1WWR</td>\n",
       "      <td>albert j. kong</td>\n",
       "      <td>Five Stars</td>\n",
       "      <td>5</td>\n",
       "      <td>Price and delivery was excellent.</td>\n",
       "      <td>0</td>\n",
       "      <td>2006-05-26</td>\n",
       "      <td>Certified Appliance Accessories 3-Wire Closed-...</td>\n",
       "      <td>Some people are surprised to learn that a new ...</td>\n",
       "      <td>1.0</td>\n",
       "      <td>Tools &amp; Home Improvement</td>\n",
       "      <td>Certified Appliance Accessories</td>\n",
       "      <td>135619.0</td>\n",
       "      <td>2006.0</td>\n",
       "    </tr>\n",
       "  </tbody>\n",
       "</table>\n",
       "</div>"
      ],
      "text/plain": [
       "   Unnamed: 0        asin review_date      reviewerID     reviewerName  \\\n",
       "0           0  B00009W3I4  2013-08-22  A34A1UP40713F8    James. Backus   \n",
       "1           1  B00009W3PA  2016-02-08  A1AHW6I678O6F2           kevin.   \n",
       "2           2  B00009W3PA  2015-08-05   A8R48NKTGCJDQ        CDBrannom   \n",
       "3           3  B00009W3PA  2015-04-24   AR3OHHHW01A8E  Calvin E Reames   \n",
       "4           4  B00009W3PA  2015-03-21  A2CIEGHZ7L1WWR   albert j. kong   \n",
       "\n",
       "         summary  overall                                         reviewText  \\\n",
       "0  Great product        5  I like this as a vent as well as something tha...   \n",
       "1     Five Stars        5                                          good item   \n",
       "2     Five Stars        5                     Fit my new LG dryer perfectly.   \n",
       "3   Perfect size        5                     Good value for electric dryers   \n",
       "4     Five Stars        5                  Price and delivery was excellent.   \n",
       "\n",
       "   vote        date                                              title  \\\n",
       "0     0  2003-05-14   HEARTLAND 21000 Energy Saving Dryer Vent Closure   \n",
       "1     0  2006-05-26  Certified Appliance Accessories 3-Wire Closed-...   \n",
       "2     0  2006-05-26  Certified Appliance Accessories 3-Wire Closed-...   \n",
       "3     0  2006-05-26  Certified Appliance Accessories 3-Wire Closed-...   \n",
       "4     0  2006-05-26  Certified Appliance Accessories 3-Wire Closed-...   \n",
       "\n",
       "                                         description  image  \\\n",
       "0  Replace your old vent with the Heartland Natur...    1.0   \n",
       "1  Some people are surprised to learn that a new ...    1.0   \n",
       "2  Some people are surprised to learn that a new ...    1.0   \n",
       "3  Some people are surprised to learn that a new ...    1.0   \n",
       "4  Some people are surprised to learn that a new ...    1.0   \n",
       "\n",
       "                   main_cat                            brand      rank  \\\n",
       "0  Tools & Home Improvement                        HEARTLAND    5633.0   \n",
       "1  Tools & Home Improvement  Certified Appliance Accessories  135619.0   \n",
       "2  Tools & Home Improvement  Certified Appliance Accessories  135619.0   \n",
       "3  Tools & Home Improvement  Certified Appliance Accessories  135619.0   \n",
       "4  Tools & Home Improvement  Certified Appliance Accessories  135619.0   \n",
       "\n",
       "   product_year  \n",
       "0        2003.0  \n",
       "1        2006.0  \n",
       "2        2006.0  \n",
       "3        2006.0  \n",
       "4        2006.0  "
      ]
     },
     "execution_count": 3,
     "metadata": {},
     "output_type": "execute_result"
    }
   ],
   "source": [
    "#Load dataset\n",
    "df=pd.read_csv('../data/exports/test_appliances.csv')\n",
    "#df.drop('Unnamed: 0',axis=1, inplace=True)\n",
    "df.head()"
   ]
  },
  {
   "cell_type": "code",
   "execution_count": 4,
   "metadata": {},
   "outputs": [],
   "source": [
    "# Appending language\n",
    "df['reviewLang']=df['reviewText'].apply(lambda x : detect(x)) "
   ]
  },
  {
   "cell_type": "code",
   "execution_count": 5,
   "metadata": {},
   "outputs": [
    {
     "data": {
      "text/html": [
       "<div>\n",
       "<style scoped>\n",
       "    .dataframe tbody tr th:only-of-type {\n",
       "        vertical-align: middle;\n",
       "    }\n",
       "\n",
       "    .dataframe tbody tr th {\n",
       "        vertical-align: top;\n",
       "    }\n",
       "\n",
       "    .dataframe thead th {\n",
       "        text-align: right;\n",
       "    }\n",
       "</style>\n",
       "<table border=\"1\" class=\"dataframe\">\n",
       "  <thead>\n",
       "    <tr style=\"text-align: right;\">\n",
       "      <th></th>\n",
       "      <th>Unnamed: 0</th>\n",
       "      <th>asin</th>\n",
       "      <th>review_date</th>\n",
       "      <th>reviewerID</th>\n",
       "      <th>reviewerName</th>\n",
       "      <th>summary</th>\n",
       "      <th>overall</th>\n",
       "      <th>reviewText</th>\n",
       "      <th>vote</th>\n",
       "      <th>date</th>\n",
       "      <th>title</th>\n",
       "      <th>description</th>\n",
       "      <th>image</th>\n",
       "      <th>main_cat</th>\n",
       "      <th>brand</th>\n",
       "      <th>rank</th>\n",
       "      <th>product_year</th>\n",
       "      <th>reviewLang</th>\n",
       "    </tr>\n",
       "  </thead>\n",
       "  <tbody>\n",
       "    <tr>\n",
       "      <th>0</th>\n",
       "      <td>0</td>\n",
       "      <td>B00009W3I4</td>\n",
       "      <td>2013-08-22</td>\n",
       "      <td>A34A1UP40713F8</td>\n",
       "      <td>James. Backus</td>\n",
       "      <td>Great product</td>\n",
       "      <td>5</td>\n",
       "      <td>I like this as a vent as well as something tha...</td>\n",
       "      <td>0</td>\n",
       "      <td>2003-05-14</td>\n",
       "      <td>HEARTLAND 21000 Energy Saving Dryer Vent Closure</td>\n",
       "      <td>Replace your old vent with the Heartland Natur...</td>\n",
       "      <td>1.0</td>\n",
       "      <td>Tools &amp; Home Improvement</td>\n",
       "      <td>HEARTLAND</td>\n",
       "      <td>5633.0</td>\n",
       "      <td>2003.0</td>\n",
       "      <td>en</td>\n",
       "    </tr>\n",
       "    <tr>\n",
       "      <th>1</th>\n",
       "      <td>1</td>\n",
       "      <td>B00009W3PA</td>\n",
       "      <td>2016-02-08</td>\n",
       "      <td>A1AHW6I678O6F2</td>\n",
       "      <td>kevin.</td>\n",
       "      <td>Five Stars</td>\n",
       "      <td>5</td>\n",
       "      <td>good item</td>\n",
       "      <td>0</td>\n",
       "      <td>2006-05-26</td>\n",
       "      <td>Certified Appliance Accessories 3-Wire Closed-...</td>\n",
       "      <td>Some people are surprised to learn that a new ...</td>\n",
       "      <td>1.0</td>\n",
       "      <td>Tools &amp; Home Improvement</td>\n",
       "      <td>Certified Appliance Accessories</td>\n",
       "      <td>135619.0</td>\n",
       "      <td>2006.0</td>\n",
       "      <td>en</td>\n",
       "    </tr>\n",
       "    <tr>\n",
       "      <th>2</th>\n",
       "      <td>2</td>\n",
       "      <td>B00009W3PA</td>\n",
       "      <td>2015-08-05</td>\n",
       "      <td>A8R48NKTGCJDQ</td>\n",
       "      <td>CDBrannom</td>\n",
       "      <td>Five Stars</td>\n",
       "      <td>5</td>\n",
       "      <td>Fit my new LG dryer perfectly.</td>\n",
       "      <td>0</td>\n",
       "      <td>2006-05-26</td>\n",
       "      <td>Certified Appliance Accessories 3-Wire Closed-...</td>\n",
       "      <td>Some people are surprised to learn that a new ...</td>\n",
       "      <td>1.0</td>\n",
       "      <td>Tools &amp; Home Improvement</td>\n",
       "      <td>Certified Appliance Accessories</td>\n",
       "      <td>135619.0</td>\n",
       "      <td>2006.0</td>\n",
       "      <td>en</td>\n",
       "    </tr>\n",
       "    <tr>\n",
       "      <th>3</th>\n",
       "      <td>3</td>\n",
       "      <td>B00009W3PA</td>\n",
       "      <td>2015-04-24</td>\n",
       "      <td>AR3OHHHW01A8E</td>\n",
       "      <td>Calvin E Reames</td>\n",
       "      <td>Perfect size</td>\n",
       "      <td>5</td>\n",
       "      <td>Good value for electric dryers</td>\n",
       "      <td>0</td>\n",
       "      <td>2006-05-26</td>\n",
       "      <td>Certified Appliance Accessories 3-Wire Closed-...</td>\n",
       "      <td>Some people are surprised to learn that a new ...</td>\n",
       "      <td>1.0</td>\n",
       "      <td>Tools &amp; Home Improvement</td>\n",
       "      <td>Certified Appliance Accessories</td>\n",
       "      <td>135619.0</td>\n",
       "      <td>2006.0</td>\n",
       "      <td>en</td>\n",
       "    </tr>\n",
       "    <tr>\n",
       "      <th>4</th>\n",
       "      <td>4</td>\n",
       "      <td>B00009W3PA</td>\n",
       "      <td>2015-03-21</td>\n",
       "      <td>A2CIEGHZ7L1WWR</td>\n",
       "      <td>albert j. kong</td>\n",
       "      <td>Five Stars</td>\n",
       "      <td>5</td>\n",
       "      <td>Price and delivery was excellent.</td>\n",
       "      <td>0</td>\n",
       "      <td>2006-05-26</td>\n",
       "      <td>Certified Appliance Accessories 3-Wire Closed-...</td>\n",
       "      <td>Some people are surprised to learn that a new ...</td>\n",
       "      <td>1.0</td>\n",
       "      <td>Tools &amp; Home Improvement</td>\n",
       "      <td>Certified Appliance Accessories</td>\n",
       "      <td>135619.0</td>\n",
       "      <td>2006.0</td>\n",
       "      <td>en</td>\n",
       "    </tr>\n",
       "  </tbody>\n",
       "</table>\n",
       "</div>"
      ],
      "text/plain": [
       "   Unnamed: 0        asin review_date      reviewerID     reviewerName  \\\n",
       "0           0  B00009W3I4  2013-08-22  A34A1UP40713F8    James. Backus   \n",
       "1           1  B00009W3PA  2016-02-08  A1AHW6I678O6F2           kevin.   \n",
       "2           2  B00009W3PA  2015-08-05   A8R48NKTGCJDQ        CDBrannom   \n",
       "3           3  B00009W3PA  2015-04-24   AR3OHHHW01A8E  Calvin E Reames   \n",
       "4           4  B00009W3PA  2015-03-21  A2CIEGHZ7L1WWR   albert j. kong   \n",
       "\n",
       "         summary  overall                                         reviewText  \\\n",
       "0  Great product        5  I like this as a vent as well as something tha...   \n",
       "1     Five Stars        5                                          good item   \n",
       "2     Five Stars        5                     Fit my new LG dryer perfectly.   \n",
       "3   Perfect size        5                     Good value for electric dryers   \n",
       "4     Five Stars        5                  Price and delivery was excellent.   \n",
       "\n",
       "   vote        date                                              title  \\\n",
       "0     0  2003-05-14   HEARTLAND 21000 Energy Saving Dryer Vent Closure   \n",
       "1     0  2006-05-26  Certified Appliance Accessories 3-Wire Closed-...   \n",
       "2     0  2006-05-26  Certified Appliance Accessories 3-Wire Closed-...   \n",
       "3     0  2006-05-26  Certified Appliance Accessories 3-Wire Closed-...   \n",
       "4     0  2006-05-26  Certified Appliance Accessories 3-Wire Closed-...   \n",
       "\n",
       "                                         description  image  \\\n",
       "0  Replace your old vent with the Heartland Natur...    1.0   \n",
       "1  Some people are surprised to learn that a new ...    1.0   \n",
       "2  Some people are surprised to learn that a new ...    1.0   \n",
       "3  Some people are surprised to learn that a new ...    1.0   \n",
       "4  Some people are surprised to learn that a new ...    1.0   \n",
       "\n",
       "                   main_cat                            brand      rank  \\\n",
       "0  Tools & Home Improvement                        HEARTLAND    5633.0   \n",
       "1  Tools & Home Improvement  Certified Appliance Accessories  135619.0   \n",
       "2  Tools & Home Improvement  Certified Appliance Accessories  135619.0   \n",
       "3  Tools & Home Improvement  Certified Appliance Accessories  135619.0   \n",
       "4  Tools & Home Improvement  Certified Appliance Accessories  135619.0   \n",
       "\n",
       "   product_year reviewLang  \n",
       "0        2003.0         en  \n",
       "1        2006.0         en  \n",
       "2        2006.0         en  \n",
       "3        2006.0         en  \n",
       "4        2006.0         en  "
      ]
     },
     "execution_count": 5,
     "metadata": {},
     "output_type": "execute_result"
    }
   ],
   "source": [
    "df.head()"
   ]
  },
  {
   "cell_type": "code",
   "execution_count": 6,
   "metadata": {},
   "outputs": [
    {
     "data": {
      "text/plain": [
       "(2277, 18)"
      ]
     },
     "execution_count": 6,
     "metadata": {},
     "output_type": "execute_result"
    }
   ],
   "source": [
    "df.shape"
   ]
  },
  {
   "cell_type": "code",
   "execution_count": 7,
   "metadata": {},
   "outputs": [
    {
     "data": {
      "text/html": [
       "<div>\n",
       "<style scoped>\n",
       "    .dataframe tbody tr th:only-of-type {\n",
       "        vertical-align: middle;\n",
       "    }\n",
       "\n",
       "    .dataframe tbody tr th {\n",
       "        vertical-align: top;\n",
       "    }\n",
       "\n",
       "    .dataframe thead th {\n",
       "        text-align: right;\n",
       "    }\n",
       "</style>\n",
       "<table border=\"1\" class=\"dataframe\">\n",
       "  <thead>\n",
       "    <tr style=\"text-align: right;\">\n",
       "      <th></th>\n",
       "      <th>Unnamed: 0</th>\n",
       "      <th>asin</th>\n",
       "      <th>review_date</th>\n",
       "      <th>reviewerID</th>\n",
       "      <th>reviewerName</th>\n",
       "      <th>summary</th>\n",
       "      <th>overall</th>\n",
       "      <th>reviewText</th>\n",
       "      <th>vote</th>\n",
       "      <th>date</th>\n",
       "      <th>title</th>\n",
       "      <th>description</th>\n",
       "      <th>image</th>\n",
       "      <th>main_cat</th>\n",
       "      <th>brand</th>\n",
       "      <th>rank</th>\n",
       "      <th>product_year</th>\n",
       "      <th>reviewLang</th>\n",
       "    </tr>\n",
       "  </thead>\n",
       "  <tbody>\n",
       "    <tr>\n",
       "      <th>0</th>\n",
       "      <td>0</td>\n",
       "      <td>B00009W3I4</td>\n",
       "      <td>2013-08-22</td>\n",
       "      <td>A34A1UP40713F8</td>\n",
       "      <td>James. Backus</td>\n",
       "      <td>Great product</td>\n",
       "      <td>5</td>\n",
       "      <td>I like this as a vent as well as something tha...</td>\n",
       "      <td>0</td>\n",
       "      <td>2003-05-14</td>\n",
       "      <td>HEARTLAND 21000 Energy Saving Dryer Vent Closure</td>\n",
       "      <td>Replace your old vent with the Heartland Natur...</td>\n",
       "      <td>1.0</td>\n",
       "      <td>Tools &amp; Home Improvement</td>\n",
       "      <td>HEARTLAND</td>\n",
       "      <td>5633.0</td>\n",
       "      <td>2003.0</td>\n",
       "      <td>en</td>\n",
       "    </tr>\n",
       "    <tr>\n",
       "      <th>1</th>\n",
       "      <td>1</td>\n",
       "      <td>B00009W3PA</td>\n",
       "      <td>2016-02-08</td>\n",
       "      <td>A1AHW6I678O6F2</td>\n",
       "      <td>kevin.</td>\n",
       "      <td>Five Stars</td>\n",
       "      <td>5</td>\n",
       "      <td>good item</td>\n",
       "      <td>0</td>\n",
       "      <td>2006-05-26</td>\n",
       "      <td>Certified Appliance Accessories 3-Wire Closed-...</td>\n",
       "      <td>Some people are surprised to learn that a new ...</td>\n",
       "      <td>1.0</td>\n",
       "      <td>Tools &amp; Home Improvement</td>\n",
       "      <td>Certified Appliance Accessories</td>\n",
       "      <td>135619.0</td>\n",
       "      <td>2006.0</td>\n",
       "      <td>en</td>\n",
       "    </tr>\n",
       "    <tr>\n",
       "      <th>2</th>\n",
       "      <td>2</td>\n",
       "      <td>B00009W3PA</td>\n",
       "      <td>2015-08-05</td>\n",
       "      <td>A8R48NKTGCJDQ</td>\n",
       "      <td>CDBrannom</td>\n",
       "      <td>Five Stars</td>\n",
       "      <td>5</td>\n",
       "      <td>Fit my new LG dryer perfectly.</td>\n",
       "      <td>0</td>\n",
       "      <td>2006-05-26</td>\n",
       "      <td>Certified Appliance Accessories 3-Wire Closed-...</td>\n",
       "      <td>Some people are surprised to learn that a new ...</td>\n",
       "      <td>1.0</td>\n",
       "      <td>Tools &amp; Home Improvement</td>\n",
       "      <td>Certified Appliance Accessories</td>\n",
       "      <td>135619.0</td>\n",
       "      <td>2006.0</td>\n",
       "      <td>en</td>\n",
       "    </tr>\n",
       "    <tr>\n",
       "      <th>3</th>\n",
       "      <td>3</td>\n",
       "      <td>B00009W3PA</td>\n",
       "      <td>2015-04-24</td>\n",
       "      <td>AR3OHHHW01A8E</td>\n",
       "      <td>Calvin E Reames</td>\n",
       "      <td>Perfect size</td>\n",
       "      <td>5</td>\n",
       "      <td>Good value for electric dryers</td>\n",
       "      <td>0</td>\n",
       "      <td>2006-05-26</td>\n",
       "      <td>Certified Appliance Accessories 3-Wire Closed-...</td>\n",
       "      <td>Some people are surprised to learn that a new ...</td>\n",
       "      <td>1.0</td>\n",
       "      <td>Tools &amp; Home Improvement</td>\n",
       "      <td>Certified Appliance Accessories</td>\n",
       "      <td>135619.0</td>\n",
       "      <td>2006.0</td>\n",
       "      <td>en</td>\n",
       "    </tr>\n",
       "    <tr>\n",
       "      <th>4</th>\n",
       "      <td>4</td>\n",
       "      <td>B00009W3PA</td>\n",
       "      <td>2015-03-21</td>\n",
       "      <td>A2CIEGHZ7L1WWR</td>\n",
       "      <td>albert j. kong</td>\n",
       "      <td>Five Stars</td>\n",
       "      <td>5</td>\n",
       "      <td>Price and delivery was excellent.</td>\n",
       "      <td>0</td>\n",
       "      <td>2006-05-26</td>\n",
       "      <td>Certified Appliance Accessories 3-Wire Closed-...</td>\n",
       "      <td>Some people are surprised to learn that a new ...</td>\n",
       "      <td>1.0</td>\n",
       "      <td>Tools &amp; Home Improvement</td>\n",
       "      <td>Certified Appliance Accessories</td>\n",
       "      <td>135619.0</td>\n",
       "      <td>2006.0</td>\n",
       "      <td>en</td>\n",
       "    </tr>\n",
       "  </tbody>\n",
       "</table>\n",
       "</div>"
      ],
      "text/plain": [
       "   Unnamed: 0        asin review_date      reviewerID     reviewerName  \\\n",
       "0           0  B00009W3I4  2013-08-22  A34A1UP40713F8    James. Backus   \n",
       "1           1  B00009W3PA  2016-02-08  A1AHW6I678O6F2           kevin.   \n",
       "2           2  B00009W3PA  2015-08-05   A8R48NKTGCJDQ        CDBrannom   \n",
       "3           3  B00009W3PA  2015-04-24   AR3OHHHW01A8E  Calvin E Reames   \n",
       "4           4  B00009W3PA  2015-03-21  A2CIEGHZ7L1WWR   albert j. kong   \n",
       "\n",
       "         summary  overall                                         reviewText  \\\n",
       "0  Great product        5  I like this as a vent as well as something tha...   \n",
       "1     Five Stars        5                                          good item   \n",
       "2     Five Stars        5                     Fit my new LG dryer perfectly.   \n",
       "3   Perfect size        5                     Good value for electric dryers   \n",
       "4     Five Stars        5                  Price and delivery was excellent.   \n",
       "\n",
       "   vote        date                                              title  \\\n",
       "0     0  2003-05-14   HEARTLAND 21000 Energy Saving Dryer Vent Closure   \n",
       "1     0  2006-05-26  Certified Appliance Accessories 3-Wire Closed-...   \n",
       "2     0  2006-05-26  Certified Appliance Accessories 3-Wire Closed-...   \n",
       "3     0  2006-05-26  Certified Appliance Accessories 3-Wire Closed-...   \n",
       "4     0  2006-05-26  Certified Appliance Accessories 3-Wire Closed-...   \n",
       "\n",
       "                                         description  image  \\\n",
       "0  Replace your old vent with the Heartland Natur...    1.0   \n",
       "1  Some people are surprised to learn that a new ...    1.0   \n",
       "2  Some people are surprised to learn that a new ...    1.0   \n",
       "3  Some people are surprised to learn that a new ...    1.0   \n",
       "4  Some people are surprised to learn that a new ...    1.0   \n",
       "\n",
       "                   main_cat                            brand      rank  \\\n",
       "0  Tools & Home Improvement                        HEARTLAND    5633.0   \n",
       "1  Tools & Home Improvement  Certified Appliance Accessories  135619.0   \n",
       "2  Tools & Home Improvement  Certified Appliance Accessories  135619.0   \n",
       "3  Tools & Home Improvement  Certified Appliance Accessories  135619.0   \n",
       "4  Tools & Home Improvement  Certified Appliance Accessories  135619.0   \n",
       "\n",
       "   product_year reviewLang  \n",
       "0        2003.0         en  \n",
       "1        2006.0         en  \n",
       "2        2006.0         en  \n",
       "3        2006.0         en  \n",
       "4        2006.0         en  "
      ]
     },
     "execution_count": 7,
     "metadata": {},
     "output_type": "execute_result"
    }
   ],
   "source": [
    "#Filtering on english reviews\n",
    "dff=df[df['reviewLang']=='en']\n",
    "dff.head()"
   ]
  },
  {
   "cell_type": "code",
   "execution_count": 8,
   "metadata": {},
   "outputs": [
    {
     "data": {
      "text/plain": [
       "(2232, 18)"
      ]
     },
     "execution_count": 8,
     "metadata": {},
     "output_type": "execute_result"
    }
   ],
   "source": [
    "dff.shape"
   ]
  },
  {
   "cell_type": "code",
   "execution_count": 9,
   "metadata": {},
   "outputs": [
    {
     "name": "stderr",
     "output_type": "stream",
     "text": [
      "[nltk_data] Downloading package stopwords to\n",
      "[nltk_data]     C:\\Users\\viann\\AppData\\Roaming\\nltk_data...\n",
      "[nltk_data]   Package stopwords is already up-to-date!\n"
     ]
    }
   ],
   "source": [
    "#nltk.download('stopwords')\n",
    "stop_words=stopwords.words('english')"
   ]
  },
  {
   "cell_type": "code",
   "execution_count": 10,
   "metadata": {},
   "outputs": [],
   "source": [
    "reviews=dff['reviewText']\n",
    "REVIEWS=reviews.tolist()"
   ]
  },
  {
   "cell_type": "code",
   "execution_count": 11,
   "metadata": {},
   "outputs": [
    {
     "data": {
      "text/plain": [
       "list"
      ]
     },
     "execution_count": 11,
     "metadata": {},
     "output_type": "execute_result"
    }
   ],
   "source": [
    "type(REVIEWS)"
   ]
  },
  {
   "cell_type": "markdown",
   "metadata": {},
   "source": [
    "# Intro to NLP"
   ]
  },
  {
   "cell_type": "markdown",
   "metadata": {},
   "source": [
    "For all the below : Please refer to https://towardsdatascience.com/a-gentle-introduction-to-natural-language-processing-e716ed3c0863"
   ]
  },
  {
   "cell_type": "markdown",
   "metadata": {},
   "source": [
    "## Tokenization"
   ]
  },
  {
   "cell_type": "code",
   "execution_count": 12,
   "metadata": {},
   "outputs": [],
   "source": [
    "#nltk.download('punkt')\n",
    "reviews_tokenized=[word_tokenize(review) for review in REVIEWS]"
   ]
  },
  {
   "cell_type": "code",
   "execution_count": 13,
   "metadata": {},
   "outputs": [
    {
     "data": {
      "text/plain": [
       "['I',\n",
       " 'like',\n",
       " 'this',\n",
       " 'as',\n",
       " 'a',\n",
       " 'vent',\n",
       " 'as',\n",
       " 'well',\n",
       " 'as',\n",
       " 'something',\n",
       " 'that',\n",
       " 'will',\n",
       " 'keep',\n",
       " 'house',\n",
       " 'warmer',\n",
       " 'in',\n",
       " 'winter',\n",
       " '.',\n",
       " 'I',\n",
       " 'sanded',\n",
       " 'it',\n",
       " 'and',\n",
       " 'then',\n",
       " 'painted',\n",
       " 'it',\n",
       " 'the',\n",
       " 'same',\n",
       " 'color',\n",
       " 'as',\n",
       " 'the',\n",
       " 'house',\n",
       " '.',\n",
       " 'Looks',\n",
       " 'great',\n",
       " '.']"
      ]
     },
     "execution_count": 13,
     "metadata": {},
     "output_type": "execute_result"
    }
   ],
   "source": [
    "reviews_tokenized[0]"
   ]
  },
  {
   "cell_type": "code",
   "execution_count": 14,
   "metadata": {},
   "outputs": [],
   "source": [
    "reviews_filtered=[[]]*len(reviews)"
   ]
  },
  {
   "cell_type": "code",
   "execution_count": 15,
   "metadata": {},
   "outputs": [
    {
     "data": {
      "text/plain": [
       "list"
      ]
     },
     "execution_count": 15,
     "metadata": {},
     "output_type": "execute_result"
    }
   ],
   "source": [
    "type(reviews_filtered)"
   ]
  },
  {
   "cell_type": "code",
   "execution_count": 16,
   "metadata": {},
   "outputs": [
    {
     "data": {
      "text/plain": [
       "2232"
      ]
     },
     "execution_count": 16,
     "metadata": {},
     "output_type": "execute_result"
    }
   ],
   "source": [
    "len(reviews_filtered)"
   ]
  },
  {
   "cell_type": "code",
   "execution_count": 17,
   "metadata": {},
   "outputs": [
    {
     "data": {
      "text/plain": [
       "[]"
      ]
     },
     "execution_count": 17,
     "metadata": {},
     "output_type": "execute_result"
    }
   ],
   "source": [
    "reviews_filtered[0]"
   ]
  },
  {
   "cell_type": "code",
   "execution_count": 18,
   "metadata": {},
   "outputs": [],
   "source": [
    "for i,review in enumerate(reviews_tokenized):\n",
    "    #print(i)\n",
    "    reviews_filtered[i]=[word for word in review if word not in stop_words]"
   ]
  },
  {
   "cell_type": "code",
   "execution_count": 19,
   "metadata": {},
   "outputs": [
    {
     "data": {
      "text/plain": [
       "2232"
      ]
     },
     "execution_count": 19,
     "metadata": {},
     "output_type": "execute_result"
    }
   ],
   "source": [
    "len(reviews_filtered)"
   ]
  },
  {
   "cell_type": "markdown",
   "metadata": {},
   "source": [
    "## Stemming"
   ]
  },
  {
   "cell_type": "code",
   "execution_count": 20,
   "metadata": {},
   "outputs": [
    {
     "data": {
      "text/plain": [
       "'filter'"
      ]
     },
     "execution_count": 20,
     "metadata": {},
     "output_type": "execute_result"
    }
   ],
   "source": [
    "#Test\n",
    "stemmer=PorterStemmer()\n",
    "stemmed=stemmer.stem(\"Filtered\")\n",
    "stemmed"
   ]
  },
  {
   "cell_type": "code",
   "execution_count": 21,
   "metadata": {},
   "outputs": [
    {
     "data": {
      "text/plain": [
       "['I',\n",
       " 'like',\n",
       " 'vent',\n",
       " 'well',\n",
       " 'someth',\n",
       " 'keep',\n",
       " 'hous',\n",
       " 'warmer',\n",
       " 'winter',\n",
       " '.',\n",
       " 'I',\n",
       " 'sand',\n",
       " 'paint',\n",
       " 'color',\n",
       " 'hous',\n",
       " '.',\n",
       " 'look',\n",
       " 'great',\n",
       " '.']"
      ]
     },
     "execution_count": 21,
     "metadata": {},
     "output_type": "execute_result"
    }
   ],
   "source": [
    "reviews_stemmed=[[]]*len(reviews)\n",
    "for i,review in enumerate(reviews_filtered):\n",
    "    reviews_stemmed[i]=[stemmer.stem(word) for word in  review]\n",
    "reviews_stemmed[0]"
   ]
  },
  {
   "cell_type": "markdown",
   "metadata": {},
   "source": [
    "The stem word may or may not be a valid word in the language. For example ‘movi’ is the root word for ‘movie’, ‘emot’ is the root word for ‘emotion’."
   ]
  },
  {
   "cell_type": "markdown",
   "metadata": {},
   "source": [
    "## Lemmatization"
   ]
  },
  {
   "cell_type": "markdown",
   "metadata": {},
   "source": [
    "Lemmatization does the same thing as stemming, converting a word to its root form but with one difference i.e., the root word in this case belongs to a valid word in the language. For example the word caring would map to ‘care’ and not ‘car’ as the in case of stemming."
   ]
  },
  {
   "cell_type": "code",
   "execution_count": 22,
   "metadata": {},
   "outputs": [
    {
     "name": "stderr",
     "output_type": "stream",
     "text": [
      "[nltk_data] Downloading package wordnet to\n",
      "[nltk_data]     C:\\Users\\viann\\AppData\\Roaming\\nltk_data...\n",
      "[nltk_data]   Package wordnet is already up-to-date!\n"
     ]
    },
    {
     "data": {
      "text/plain": [
       "True"
      ]
     },
     "execution_count": 22,
     "metadata": {},
     "output_type": "execute_result"
    }
   ],
   "source": [
    "#nltk.download('wordnet')"
   ]
  },
  {
   "cell_type": "code",
   "execution_count": 23,
   "metadata": {},
   "outputs": [
    {
     "data": {
      "text/plain": [
       "['I',\n",
       " 'like',\n",
       " 'vent',\n",
       " 'well',\n",
       " 'something',\n",
       " 'keep',\n",
       " 'house',\n",
       " 'warmer',\n",
       " 'winter',\n",
       " '.',\n",
       " 'I',\n",
       " 'sanded',\n",
       " 'painted',\n",
       " 'color',\n",
       " 'house',\n",
       " '.',\n",
       " 'Looks',\n",
       " 'great',\n",
       " '.']"
      ]
     },
     "execution_count": 23,
     "metadata": {},
     "output_type": "execute_result"
    }
   ],
   "source": [
    "reviews_lemmed=[[]]*len(reviews)\n",
    "lemmatizer=WordNetLemmatizer()\n",
    "for i,review in enumerate(reviews_filtered):\n",
    "    reviews_lemmed[i]=[lemmatizer.lemmatize(word) for word in  review]\n",
    "reviews_lemmed[0]"
   ]
  },
  {
   "cell_type": "markdown",
   "metadata": {},
   "source": [
    "## Text Data Vectorization"
   ]
  },
  {
   "cell_type": "markdown",
   "metadata": {},
   "source": [
    "The process of converting text into numbers is called text data vectorization. Now after text preprocessing, we need to numerically represent text data i.e., encoding the data in numbers which can be further used by algorithms."
   ]
  },
  {
   "cell_type": "code",
   "execution_count": 24,
   "metadata": {},
   "outputs": [],
   "source": [
    "vect=CountVectorizer(min_df=5)"
   ]
  },
  {
   "cell_type": "code",
   "execution_count": 25,
   "metadata": {},
   "outputs": [
    {
     "data": {
      "text/plain": [
       "'I like vent well something keep house warmer winter . I sanded painted color house . Looks great .'"
      ]
     },
     "execution_count": 25,
     "metadata": {},
     "output_type": "execute_result"
    }
   ],
   "source": [
    "reviews_prep=['']*len(reviews)\n",
    "for i,review in enumerate(reviews_lemmed):\n",
    "    reviews_prep[i]=' '.join(review)\n",
    "reviews_prep[0]"
   ]
  },
  {
   "cell_type": "code",
   "execution_count": 26,
   "metadata": {},
   "outputs": [
    {
     "data": {
      "text/plain": [
       "<1x764 sparse matrix of type '<class 'numpy.int64'>'\n",
       "\twith 7 stored elements in Compressed Sparse Row format>"
      ]
     },
     "execution_count": 26,
     "metadata": {},
     "output_type": "execute_result"
    }
   ],
   "source": [
    "reviews_bow=vect.fit_transform(reviews_prep)\n",
    "reviews_bow[0]"
   ]
  },
  {
   "cell_type": "markdown",
   "metadata": {},
   "source": [
    "# Exploring other NLP techniques"
   ]
  },
  {
   "cell_type": "code",
   "execution_count": 29,
   "metadata": {
    "scrolled": true
   },
   "outputs": [
    {
     "name": "stdout",
     "output_type": "stream",
     "text": [
      "Collecting language_tool_python\n",
      "  Downloading language_tool_python-2.4.6-py3-none-any.whl (30 kB)\n",
      "Requirement already satisfied: tqdm in c:\\users\\viann\\anaconda3\\lib\\site-packages (from language_tool_python) (4.36.1)\n",
      "Requirement already satisfied: requests in c:\\users\\viann\\anaconda3\\lib\\site-packages (from language_tool_python) (2.22.0)\n",
      "Requirement already satisfied: urllib3!=1.25.0,!=1.25.1,<1.26,>=1.21.1 in c:\\users\\viann\\anaconda3\\lib\\site-packages (from requests->language_tool_python) (1.24.2)\n",
      "Requirement already satisfied: certifi>=2017.4.17 in c:\\users\\viann\\anaconda3\\lib\\site-packages (from requests->language_tool_python) (2019.9.11)\n",
      "Requirement already satisfied: idna<2.9,>=2.5 in c:\\users\\viann\\anaconda3\\lib\\site-packages (from requests->language_tool_python) (2.8)\n",
      "Requirement already satisfied: chardet<3.1.0,>=3.0.2 in c:\\users\\viann\\anaconda3\\lib\\site-packages (from requests->language_tool_python) (3.0.4)\n",
      "Installing collected packages: language-tool-python\n",
      "Successfully installed language-tool-python-2.4.6\n"
     ]
    },
    {
     "name": "stderr",
     "output_type": "stream",
     "text": [
      "WARNING: pip is being invoked by an old script wrapper. This will fail in a future version of pip.\n",
      "Please see https://github.com/pypa/pip/issues/5599 for advice on fixing the underlying issue.\n",
      "To avoid this problem you can invoke Python with '-m pip' instead of running pip directly.\n",
      "WARNING: You are using pip version 20.0.2; however, version 20.2.4 is available.\n",
      "You should consider upgrading via the 'C:\\Users\\viann\\Anaconda3\\python.exe -m pip install --upgrade pip' command.\n"
     ]
    },
    {
     "name": "stdout",
     "output_type": "stream",
     "text": [
      "Collecting language_check\n",
      "  Downloading language-check-1.1.tar.gz (33 kB)\n",
      "Building wheels for collected packages: language-check\n",
      "  Building wheel for language-check (setup.py): started\n",
      "  Building wheel for language-check (setup.py): still running...\n",
      "  Building wheel for language-check (setup.py): still running...\n",
      "  Building wheel for language-check (setup.py): finished with status 'done'\n",
      "  Created wheel for language-check: filename=language_check-1.1-py3-none-any.whl size=90190903 sha256=af714c3f5c6aac5e84466c61dc836cdf8e0d11147aaa8947dfeb5c08f585fb77\n",
      "  Stored in directory: c:\\users\\viann\\appdata\\local\\pip\\cache\\wheels\\e3\\2b\\2c\\1b03761170df12770003c26f532d89872c50988b090d6df135\n",
      "Successfully built language-check\n",
      "Installing collected packages: language-check\n",
      "Successfully installed language-check-1.1\n"
     ]
    },
    {
     "name": "stderr",
     "output_type": "stream",
     "text": [
      "WARNING: pip is being invoked by an old script wrapper. This will fail in a future version of pip.\n",
      "Please see https://github.com/pypa/pip/issues/5599 for advice on fixing the underlying issue.\n",
      "To avoid this problem you can invoke Python with '-m pip' instead of running pip directly.\n",
      "WARNING: You are using pip version 20.0.2; however, version 20.2.4 is available.\n",
      "You should consider upgrading via the 'C:\\Users\\viann\\Anaconda3\\python.exe -m pip install --upgrade pip' command.\n"
     ]
    }
   ],
   "source": [
    "#!pip install language_tool_python\n",
    "#!pip install language_check"
   ]
  },
  {
   "cell_type": "code",
   "execution_count": 30,
   "metadata": {},
   "outputs": [],
   "source": [
    "import language_check\n",
    "import language_tool_python"
   ]
  },
  {
   "cell_type": "markdown",
   "metadata": {},
   "source": [
    "## Grammar check"
   ]
  },
  {
   "cell_type": "markdown",
   "metadata": {},
   "source": [
    "### Langue Tool Python"
   ]
  },
  {
   "cell_type": "code",
   "execution_count": 31,
   "metadata": {},
   "outputs": [
    {
     "name": "stderr",
     "output_type": "stream",
     "text": [
      "Downloading LanguageTool: 100%|██████████| 189M/189M [00:23<00:00, 7.91MB/s] \n",
      "Unzipping C:\\Users\\viann\\AppData\\Local\\Temp\\tmp26uf4sk1.zip to C:\\Users\\viann\\.cache\\language_tool_python.\n",
      "Downloaded https://www.languagetool.org/download/LanguageTool-5.1.zip to C:\\Users\\viann\\.cache\\language_tool_python.\n"
     ]
    }
   ],
   "source": [
    "tool = language_tool_python.LanguageTool('en-US')"
   ]
  },
  {
   "cell_type": "code",
   "execution_count": 52,
   "metadata": {},
   "outputs": [
    {
     "data": {
      "text/plain": [
       "'LanguageTool offers spell and grammar checking. Just paste your text here and click the ‘Check Text’ button. Click the colored phrases for details on potential errors. or use this text too see an few of of the problems that LanguageTool can detecd. What do you thinks of grammar checkers? Please not that they are not perfect. Style issues get a blue marker: It’s 5 P.M. in the afternoon. The weather was nice on Thursday, 27 June 2017'"
      ]
     },
     "execution_count": 52,
     "metadata": {},
     "output_type": "execute_result"
    }
   ],
   "source": [
    "text=\"LanguageTool offers spell and grammar checking. Just paste your text here and click the ‘Check Text’ button. Click the colored phrases for details on potential errors. or use this text too see an few of of the problems that LanguageTool can detecd. What do you thinks of grammar checkers? Please not that they are not perfect. Style issues get a blue marker: It’s 5 P.M. in the afternoon. The weather was nice on Thursday, 27 June 2017\"\n",
    "text"
   ]
  },
  {
   "cell_type": "code",
   "execution_count": 53,
   "metadata": {},
   "outputs": [
    {
     "data": {
      "text/plain": [
       "[Match({'ruleId': 'UPPERCASE_SENTENCE_START', 'message': 'This sentence does not start with an uppercase letter.', 'replacements': ['Or'], 'offsetInContext': 43, 'context': '...hrases for details on potential errors. or use this text too see an few of of the ...', 'offset': 168, 'errorLength': 2, 'category': 'CASING', 'ruleIssueType': 'typographical', 'sentence': 'or use this text too see an few of of the problems that LanguageTool can detecd.'}),\n",
       " Match({'ruleId': 'TOO_TO', 'message': 'Did you mean “to see”?', 'replacements': ['to see'], 'offsetInContext': 43, 'context': '...s on potential errors. or use this text too see an few of of the problems that Language...', 'offset': 185, 'errorLength': 7, 'category': 'CONFUSED_WORDS', 'ruleIssueType': 'misspelling', 'sentence': 'or use this text too see an few of of the problems that LanguageTool can detecd.'}),\n",
       " Match({'ruleId': 'EN_A_VS_AN', 'message': 'Use “a” instead of ‘an’ if the following word doesn’t start with a vowel sound, e.g. ‘a sentence’, ‘a university’', 'replacements': ['a'], 'offsetInContext': 43, 'context': '...ential errors. or use this text too see an few of of the problems that LanguageToo...', 'offset': 193, 'errorLength': 2, 'category': 'MISC', 'ruleIssueType': 'misspelling', 'sentence': 'or use this text too see an few of of the problems that LanguageTool can detecd.'}),\n",
       " Match({'ruleId': 'ENGLISH_WORD_REPEAT_RULE', 'message': 'Possible typo: you repeated a word', 'replacements': ['of'], 'offsetInContext': 43, 'context': '...errors. or use this text too see an few of of the problems that LanguageTool can dete...', 'offset': 200, 'errorLength': 5, 'category': 'MISC', 'ruleIssueType': 'duplication', 'sentence': 'or use this text too see an few of of the problems that LanguageTool can detecd.'}),\n",
       " Match({'ruleId': 'MORFOLOGIK_RULE_EN_US', 'message': 'Possible spelling mistake found.', 'replacements': ['detect'], 'offsetInContext': 43, 'context': '...f of the problems that LanguageTool can detecd. What do you thinks of grammar checkers...', 'offset': 241, 'errorLength': 6, 'category': 'TYPOS', 'ruleIssueType': 'misspelling', 'sentence': 'or use this text too see an few of of the problems that LanguageTool can detecd.'}),\n",
       " Match({'ruleId': 'DO_VBZ', 'message': 'After the auxiliary verb ‘do’, use the base form of the main verb. Did you mean “think”?', 'replacements': ['think'], 'offsetInContext': 43, 'context': '...at LanguageTool can detecd. What do you thinks of grammar checkers? Please not that th...', 'offset': 261, 'errorLength': 6, 'category': 'GRAMMAR', 'ruleIssueType': 'grammar', 'sentence': 'What do you thinks of grammar checkers?'}),\n",
       " Match({'ruleId': 'PLEASE_NOT_THAT', 'message': 'Did you mean “note”?', 'replacements': ['note'], 'offsetInContext': 43, 'context': '... you thinks of grammar checkers? Please not that they are not perfect. Style issues...', 'offset': 296, 'errorLength': 3, 'category': 'TYPOS', 'ruleIssueType': 'misspelling', 'sentence': 'Please not that they are not perfect.'}),\n",
       " Match({'ruleId': 'PM_IN_THE_EVENING', 'message': 'This is redundant. Consider using “P.M.”', 'replacements': ['P.M.'], 'offsetInContext': 43, 'context': '... Style issues get a blue marker: It’s 5 P.M. in the afternoon. The weather was nice on Thursday, 27 J...', 'offset': 366, 'errorLength': 21, 'category': 'REDUNDANCY', 'ruleIssueType': 'style', 'sentence': 'Style issues get a blue marker: It’s 5 P.M. in the afternoon.'}),\n",
       " Match({'ruleId': 'DATE_WEEKDAY', 'message': 'The date 27 June 2017 is not a Thursday, but a Tuesday.', 'replacements': [], 'offsetInContext': 43, 'context': '... the afternoon. The weather was nice on Thursday, 27 June 2017', 'offset': 413, 'errorLength': 22, 'category': 'SEMANTICS', 'ruleIssueType': 'inconsistency', 'sentence': 'The weather was nice on Thursday, 27 June 2017'})]"
      ]
     },
     "execution_count": 53,
     "metadata": {},
     "output_type": "execute_result"
    }
   ],
   "source": [
    "matches=tool.check(text)\n",
    "matches"
   ]
  },
  {
   "cell_type": "code",
   "execution_count": 49,
   "metadata": {},
   "outputs": [
    {
     "data": {
      "text/plain": [
       "9"
      ]
     },
     "execution_count": 49,
     "metadata": {},
     "output_type": "execute_result"
    }
   ],
   "source": [
    "len(matches)"
   ]
  },
  {
   "cell_type": "code",
   "execution_count": 50,
   "metadata": {},
   "outputs": [
    {
     "data": {
      "text/plain": [
       "Match({'ruleId': 'UPPERCASE_SENTENCE_START', 'message': 'This sentence does not start with an uppercase letter.', 'replacements': ['Or'], 'offsetInContext': 43, 'context': '...hrases for details on potential errors. or use this text too see an few of of the ...', 'offset': 168, 'errorLength': 2, 'category': 'CASING', 'ruleIssueType': 'typographical', 'sentence': 'or use this text too see an few of of the problems that LanguageTool can detecd.'})"
      ]
     },
     "execution_count": 50,
     "metadata": {},
     "output_type": "execute_result"
    }
   ],
   "source": [
    "matches[0]"
   ]
  },
  {
   "cell_type": "code",
   "execution_count": 51,
   "metadata": {},
   "outputs": [
    {
     "data": {
      "text/plain": [
       "Match({'ruleId': 'TOO_TO', 'message': 'Did you mean “to see”?', 'replacements': ['to see'], 'offsetInContext': 43, 'context': '...s on potential errors. or use this text too see an few of of the problems that Language...', 'offset': 185, 'errorLength': 7, 'category': 'CONFUSED_WORDS', 'ruleIssueType': 'misspelling', 'sentence': 'or use this text too see an few of of the problems that LanguageTool can detecd.'})"
      ]
     },
     "execution_count": 51,
     "metadata": {},
     "output_type": "execute_result"
    }
   ],
   "source": [
    "matches[1]"
   ]
  },
  {
   "cell_type": "code",
   "execution_count": 54,
   "metadata": {},
   "outputs": [
    {
     "data": {
      "text/plain": [
       "'LanguageTool offers spell and grammar checking. Just paste your text here and click the ‘Check Text’ button. Click the colored phrases for details on potential errors. Or use this text to see a few of the problems that LanguageTool can detect. What do you think of grammar checkers? Please note that they are not perfect. Style issues get a blue marker: It’s 5 P.M.. The weather was nice on Thursday, 27 June 2017'"
      ]
     },
     "execution_count": 54,
     "metadata": {},
     "output_type": "execute_result"
    }
   ],
   "source": [
    "my_mistakes = []\n",
    "my_corrections = []\n",
    "start_positions = []\n",
    "end_positions = []\n",
    " \n",
    "for rules in matches:\n",
    "    if len(rules.replacements)>0:\n",
    "        start_positions.append(rules.offset)\n",
    "        end_positions.append(rules.errorLength+rules.offset)\n",
    "        my_mistakes.append(text[rules.offset:rules.errorLength+rules.offset])\n",
    "        my_corrections.append(rules.replacements[0])\n",
    "     \n",
    " \n",
    "     \n",
    "my_new_text = list(text)\n",
    " \n",
    " \n",
    "for m in range(len(start_positions)):\n",
    "    for i in range(len(text)):\n",
    "        my_new_text[start_positions[m]] = my_corrections[m]\n",
    "        if (i>start_positions[m] and i<end_positions[m]):\n",
    "            my_new_text[i]=\"\"\n",
    "     \n",
    "my_new_text = \"\".join(my_new_text)\n",
    "my_new_text"
   ]
  },
  {
   "cell_type": "code",
   "execution_count": 55,
   "metadata": {},
   "outputs": [
    {
     "data": {
      "text/plain": [
       "[('or', 'Or'),\n",
       " ('too see', 'to see'),\n",
       " ('an', 'a'),\n",
       " ('of of', 'of'),\n",
       " ('detecd', 'detect'),\n",
       " ('thinks', 'think'),\n",
       " ('not', 'note'),\n",
       " ('P.M. in the afternoon', 'P.M.')]"
      ]
     },
     "execution_count": 55,
     "metadata": {},
     "output_type": "execute_result"
    }
   ],
   "source": [
    "list(zip(my_mistakes,my_corrections))\n"
   ]
  },
  {
   "cell_type": "markdown",
   "metadata": {},
   "source": [
    "### Language Check"
   ]
  },
  {
   "cell_type": "code",
   "execution_count": 57,
   "metadata": {},
   "outputs": [],
   "source": [
    "tool2 = language_check.LanguageTool('en-US') "
   ]
  },
  {
   "cell_type": "code",
   "execution_count": 58,
   "metadata": {},
   "outputs": [
    {
     "data": {
      "text/plain": [
       "[Match({'ruleId': 'UPPERCASE_SENTENCE_START', 'message': 'This sentence does not start with an uppercase letter.', 'replacements': ['Or'], 'offsetInContext': 43, 'context': '...hrases for details on potential errors. or use this text too see an few of of the ...', 'offset': 168, 'errorLength': 2, 'category': 'CASING', 'ruleIssueType': 'typographical', 'sentence': 'or use this text too see an few of of the problems that LanguageTool can detecd.'}),\n",
       " Match({'ruleId': 'TOO_TO', 'message': 'Did you mean “to see”?', 'replacements': ['to see'], 'offsetInContext': 43, 'context': '...s on potential errors. or use this text too see an few of of the problems that Language...', 'offset': 185, 'errorLength': 7, 'category': 'CONFUSED_WORDS', 'ruleIssueType': 'misspelling', 'sentence': 'or use this text too see an few of of the problems that LanguageTool can detecd.'}),\n",
       " Match({'ruleId': 'EN_A_VS_AN', 'message': 'Use “a” instead of ‘an’ if the following word doesn’t start with a vowel sound, e.g. ‘a sentence’, ‘a university’', 'replacements': ['a'], 'offsetInContext': 43, 'context': '...ential errors. or use this text too see an few of of the problems that LanguageToo...', 'offset': 193, 'errorLength': 2, 'category': 'MISC', 'ruleIssueType': 'misspelling', 'sentence': 'or use this text too see an few of of the problems that LanguageTool can detecd.'}),\n",
       " Match({'ruleId': 'ENGLISH_WORD_REPEAT_RULE', 'message': 'Possible typo: you repeated a word', 'replacements': ['of'], 'offsetInContext': 43, 'context': '...errors. or use this text too see an few of of the problems that LanguageTool can dete...', 'offset': 200, 'errorLength': 5, 'category': 'MISC', 'ruleIssueType': 'duplication', 'sentence': 'or use this text too see an few of of the problems that LanguageTool can detecd.'}),\n",
       " Match({'ruleId': 'MORFOLOGIK_RULE_EN_US', 'message': 'Possible spelling mistake found.', 'replacements': ['detect'], 'offsetInContext': 43, 'context': '...f of the problems that LanguageTool can detecd. What do you thinks of grammar checkers...', 'offset': 241, 'errorLength': 6, 'category': 'TYPOS', 'ruleIssueType': 'misspelling', 'sentence': 'or use this text too see an few of of the problems that LanguageTool can detecd.'}),\n",
       " Match({'ruleId': 'DO_VBZ', 'message': 'After the auxiliary verb ‘do’, use the base form of the main verb. Did you mean “think”?', 'replacements': ['think'], 'offsetInContext': 43, 'context': '...at LanguageTool can detecd. What do you thinks of grammar checkers? Please not that th...', 'offset': 261, 'errorLength': 6, 'category': 'GRAMMAR', 'ruleIssueType': 'grammar', 'sentence': 'What do you thinks of grammar checkers?'}),\n",
       " Match({'ruleId': 'PLEASE_NOT_THAT', 'message': 'Did you mean “note”?', 'replacements': ['note'], 'offsetInContext': 43, 'context': '... you thinks of grammar checkers? Please not that they are not perfect. Style issues...', 'offset': 296, 'errorLength': 3, 'category': 'TYPOS', 'ruleIssueType': 'misspelling', 'sentence': 'Please not that they are not perfect.'}),\n",
       " Match({'ruleId': 'PM_IN_THE_EVENING', 'message': 'This is redundant. Consider using “P.M.”', 'replacements': ['P.M.'], 'offsetInContext': 43, 'context': '... Style issues get a blue marker: It’s 5 P.M. in the afternoon. The weather was nice on Thursday, 27 J...', 'offset': 366, 'errorLength': 21, 'category': 'REDUNDANCY', 'ruleIssueType': 'style', 'sentence': 'Style issues get a blue marker: It’s 5 P.M. in the afternoon.'}),\n",
       " Match({'ruleId': 'DATE_WEEKDAY', 'message': 'The date 27 June 2017 is not a Thursday, but a Tuesday.', 'replacements': [], 'offsetInContext': 43, 'context': '... the afternoon. The weather was nice on Thursday, 27 June 2017', 'offset': 413, 'errorLength': 22, 'category': 'SEMANTICS', 'ruleIssueType': 'inconsistency', 'sentence': 'The weather was nice on Thursday, 27 June 2017'})]"
      ]
     },
     "execution_count": 58,
     "metadata": {},
     "output_type": "execute_result"
    }
   ],
   "source": [
    "matches2=tool.check(text)\n",
    "matches2"
   ]
  },
  {
   "cell_type": "markdown",
   "metadata": {},
   "source": [
    "## String Similarity"
   ]
  },
  {
   "cell_type": "code",
   "execution_count": 59,
   "metadata": {},
   "outputs": [],
   "source": [
    "import string\n",
    "from sklearn.metrics.pairwise import cosine_similarity"
   ]
  },
  {
   "cell_type": "code",
   "execution_count": 60,
   "metadata": {},
   "outputs": [],
   "source": [
    "sentences= [\n",
    "    'This a foo bar sentence.',\n",
    "    'This sentence is similar to a foo bar sentence.',\n",
    "    'This is another string, but it is not quite similar to the previous ones.',\n",
    "    'I am also just another string.'\n",
    "]"
   ]
  },
  {
   "cell_type": "code",
   "execution_count": 65,
   "metadata": {},
   "outputs": [],
   "source": [
    "def clean_string(text):\n",
    "    text=''.join([word for word in text if word not in string.punctuation])\n",
    "    text=text.lower()\n",
    "    text=' '.join([word for word in text.split() if word not in stop_words])\n",
    "    \n",
    "    return text"
   ]
  },
  {
   "cell_type": "code",
   "execution_count": 66,
   "metadata": {},
   "outputs": [
    {
     "data": {
      "text/plain": [
       "['foo bar sentence',\n",
       " 'sentence similar foo bar sentence',\n",
       " 'another string quite similar previous ones',\n",
       " 'also another string']"
      ]
     },
     "execution_count": 66,
     "metadata": {},
     "output_type": "execute_result"
    }
   ],
   "source": [
    "cleaned = list(map(clean_string,sentences))\n",
    "cleaned"
   ]
  },
  {
   "cell_type": "code",
   "execution_count": 67,
   "metadata": {},
   "outputs": [
    {
     "data": {
      "text/plain": [
       "array([[0, 0, 1, 1, 0, 0, 0, 1, 0, 0],\n",
       "       [0, 0, 1, 1, 0, 0, 0, 2, 1, 0],\n",
       "       [0, 1, 0, 0, 1, 1, 1, 0, 1, 1],\n",
       "       [1, 1, 0, 0, 0, 0, 0, 0, 0, 1]], dtype=int64)"
      ]
     },
     "execution_count": 67,
     "metadata": {},
     "output_type": "execute_result"
    }
   ],
   "source": [
    "vectorizer = CountVectorizer().fit_transform(cleaned)\n",
    "vectors=vectorizer.toarray()\n",
    "vectors"
   ]
  },
  {
   "cell_type": "code",
   "execution_count": 69,
   "metadata": {},
   "outputs": [
    {
     "data": {
      "text/plain": [
       "array([[1.        , 0.87287156, 0.        , 0.        ],\n",
       "       [0.87287156, 1.        , 0.15430335, 0.        ],\n",
       "       [0.        , 0.15430335, 1.        , 0.47140452],\n",
       "       [0.        , 0.        , 0.47140452, 1.        ]])"
      ]
     },
     "execution_count": 69,
     "metadata": {},
     "output_type": "execute_result"
    }
   ],
   "source": [
    "csim = cosine_similarity(vectors)\n",
    "csim"
   ]
  },
  {
   "cell_type": "code",
   "execution_count": 70,
   "metadata": {},
   "outputs": [],
   "source": [
    "def cosine_sim_vectors(vec1,vec2):\n",
    "    vec1=vec1.reshape(1,-1)\n",
    "    vec2=vec2.reshape(1,-1)\n",
    "    \n",
    "    return cosine_similarity(vec1, vec2)[0][0]"
   ]
  },
  {
   "cell_type": "code",
   "execution_count": 72,
   "metadata": {},
   "outputs": [
    {
     "data": {
      "text/plain": [
       "array([[0, 0, 1, 1, 0, 0, 0, 1, 0, 0]], dtype=int64)"
      ]
     },
     "execution_count": 72,
     "metadata": {},
     "output_type": "execute_result"
    }
   ],
   "source": [
    "vectors[0].reshape(1,-1)"
   ]
  },
  {
   "cell_type": "code",
   "execution_count": 73,
   "metadata": {},
   "outputs": [
    {
     "data": {
      "text/html": [
       "<div>\n",
       "<style scoped>\n",
       "    .dataframe tbody tr th:only-of-type {\n",
       "        vertical-align: middle;\n",
       "    }\n",
       "\n",
       "    .dataframe tbody tr th {\n",
       "        vertical-align: top;\n",
       "    }\n",
       "\n",
       "    .dataframe thead th {\n",
       "        text-align: right;\n",
       "    }\n",
       "</style>\n",
       "<table border=\"1\" class=\"dataframe\">\n",
       "  <thead>\n",
       "    <tr style=\"text-align: right;\">\n",
       "      <th></th>\n",
       "      <th>Unnamed: 0</th>\n",
       "      <th>asin</th>\n",
       "      <th>review_date</th>\n",
       "      <th>reviewerID</th>\n",
       "      <th>reviewerName</th>\n",
       "      <th>summary</th>\n",
       "      <th>overall</th>\n",
       "      <th>reviewText</th>\n",
       "      <th>vote</th>\n",
       "      <th>date</th>\n",
       "      <th>title</th>\n",
       "      <th>description</th>\n",
       "      <th>image</th>\n",
       "      <th>main_cat</th>\n",
       "      <th>brand</th>\n",
       "      <th>rank</th>\n",
       "      <th>product_year</th>\n",
       "      <th>reviewLang</th>\n",
       "    </tr>\n",
       "  </thead>\n",
       "  <tbody>\n",
       "    <tr>\n",
       "      <th>0</th>\n",
       "      <td>0</td>\n",
       "      <td>B00009W3I4</td>\n",
       "      <td>2013-08-22</td>\n",
       "      <td>A34A1UP40713F8</td>\n",
       "      <td>James. Backus</td>\n",
       "      <td>Great product</td>\n",
       "      <td>5</td>\n",
       "      <td>I like this as a vent as well as something tha...</td>\n",
       "      <td>0</td>\n",
       "      <td>2003-05-14</td>\n",
       "      <td>HEARTLAND 21000 Energy Saving Dryer Vent Closure</td>\n",
       "      <td>Replace your old vent with the Heartland Natur...</td>\n",
       "      <td>1.0</td>\n",
       "      <td>Tools &amp; Home Improvement</td>\n",
       "      <td>HEARTLAND</td>\n",
       "      <td>5633.0</td>\n",
       "      <td>2003.0</td>\n",
       "      <td>en</td>\n",
       "    </tr>\n",
       "    <tr>\n",
       "      <th>1</th>\n",
       "      <td>1</td>\n",
       "      <td>B00009W3PA</td>\n",
       "      <td>2016-02-08</td>\n",
       "      <td>A1AHW6I678O6F2</td>\n",
       "      <td>kevin.</td>\n",
       "      <td>Five Stars</td>\n",
       "      <td>5</td>\n",
       "      <td>good item</td>\n",
       "      <td>0</td>\n",
       "      <td>2006-05-26</td>\n",
       "      <td>Certified Appliance Accessories 3-Wire Closed-...</td>\n",
       "      <td>Some people are surprised to learn that a new ...</td>\n",
       "      <td>1.0</td>\n",
       "      <td>Tools &amp; Home Improvement</td>\n",
       "      <td>Certified Appliance Accessories</td>\n",
       "      <td>135619.0</td>\n",
       "      <td>2006.0</td>\n",
       "      <td>en</td>\n",
       "    </tr>\n",
       "    <tr>\n",
       "      <th>2</th>\n",
       "      <td>2</td>\n",
       "      <td>B00009W3PA</td>\n",
       "      <td>2015-08-05</td>\n",
       "      <td>A8R48NKTGCJDQ</td>\n",
       "      <td>CDBrannom</td>\n",
       "      <td>Five Stars</td>\n",
       "      <td>5</td>\n",
       "      <td>Fit my new LG dryer perfectly.</td>\n",
       "      <td>0</td>\n",
       "      <td>2006-05-26</td>\n",
       "      <td>Certified Appliance Accessories 3-Wire Closed-...</td>\n",
       "      <td>Some people are surprised to learn that a new ...</td>\n",
       "      <td>1.0</td>\n",
       "      <td>Tools &amp; Home Improvement</td>\n",
       "      <td>Certified Appliance Accessories</td>\n",
       "      <td>135619.0</td>\n",
       "      <td>2006.0</td>\n",
       "      <td>en</td>\n",
       "    </tr>\n",
       "    <tr>\n",
       "      <th>3</th>\n",
       "      <td>3</td>\n",
       "      <td>B00009W3PA</td>\n",
       "      <td>2015-04-24</td>\n",
       "      <td>AR3OHHHW01A8E</td>\n",
       "      <td>Calvin E Reames</td>\n",
       "      <td>Perfect size</td>\n",
       "      <td>5</td>\n",
       "      <td>Good value for electric dryers</td>\n",
       "      <td>0</td>\n",
       "      <td>2006-05-26</td>\n",
       "      <td>Certified Appliance Accessories 3-Wire Closed-...</td>\n",
       "      <td>Some people are surprised to learn that a new ...</td>\n",
       "      <td>1.0</td>\n",
       "      <td>Tools &amp; Home Improvement</td>\n",
       "      <td>Certified Appliance Accessories</td>\n",
       "      <td>135619.0</td>\n",
       "      <td>2006.0</td>\n",
       "      <td>en</td>\n",
       "    </tr>\n",
       "    <tr>\n",
       "      <th>4</th>\n",
       "      <td>4</td>\n",
       "      <td>B00009W3PA</td>\n",
       "      <td>2015-03-21</td>\n",
       "      <td>A2CIEGHZ7L1WWR</td>\n",
       "      <td>albert j. kong</td>\n",
       "      <td>Five Stars</td>\n",
       "      <td>5</td>\n",
       "      <td>Price and delivery was excellent.</td>\n",
       "      <td>0</td>\n",
       "      <td>2006-05-26</td>\n",
       "      <td>Certified Appliance Accessories 3-Wire Closed-...</td>\n",
       "      <td>Some people are surprised to learn that a new ...</td>\n",
       "      <td>1.0</td>\n",
       "      <td>Tools &amp; Home Improvement</td>\n",
       "      <td>Certified Appliance Accessories</td>\n",
       "      <td>135619.0</td>\n",
       "      <td>2006.0</td>\n",
       "      <td>en</td>\n",
       "    </tr>\n",
       "  </tbody>\n",
       "</table>\n",
       "</div>"
      ],
      "text/plain": [
       "   Unnamed: 0        asin review_date      reviewerID     reviewerName  \\\n",
       "0           0  B00009W3I4  2013-08-22  A34A1UP40713F8    James. Backus   \n",
       "1           1  B00009W3PA  2016-02-08  A1AHW6I678O6F2           kevin.   \n",
       "2           2  B00009W3PA  2015-08-05   A8R48NKTGCJDQ        CDBrannom   \n",
       "3           3  B00009W3PA  2015-04-24   AR3OHHHW01A8E  Calvin E Reames   \n",
       "4           4  B00009W3PA  2015-03-21  A2CIEGHZ7L1WWR   albert j. kong   \n",
       "\n",
       "         summary  overall                                         reviewText  \\\n",
       "0  Great product        5  I like this as a vent as well as something tha...   \n",
       "1     Five Stars        5                                          good item   \n",
       "2     Five Stars        5                     Fit my new LG dryer perfectly.   \n",
       "3   Perfect size        5                     Good value for electric dryers   \n",
       "4     Five Stars        5                  Price and delivery was excellent.   \n",
       "\n",
       "   vote        date                                              title  \\\n",
       "0     0  2003-05-14   HEARTLAND 21000 Energy Saving Dryer Vent Closure   \n",
       "1     0  2006-05-26  Certified Appliance Accessories 3-Wire Closed-...   \n",
       "2     0  2006-05-26  Certified Appliance Accessories 3-Wire Closed-...   \n",
       "3     0  2006-05-26  Certified Appliance Accessories 3-Wire Closed-...   \n",
       "4     0  2006-05-26  Certified Appliance Accessories 3-Wire Closed-...   \n",
       "\n",
       "                                         description  image  \\\n",
       "0  Replace your old vent with the Heartland Natur...    1.0   \n",
       "1  Some people are surprised to learn that a new ...    1.0   \n",
       "2  Some people are surprised to learn that a new ...    1.0   \n",
       "3  Some people are surprised to learn that a new ...    1.0   \n",
       "4  Some people are surprised to learn that a new ...    1.0   \n",
       "\n",
       "                   main_cat                            brand      rank  \\\n",
       "0  Tools & Home Improvement                        HEARTLAND    5633.0   \n",
       "1  Tools & Home Improvement  Certified Appliance Accessories  135619.0   \n",
       "2  Tools & Home Improvement  Certified Appliance Accessories  135619.0   \n",
       "3  Tools & Home Improvement  Certified Appliance Accessories  135619.0   \n",
       "4  Tools & Home Improvement  Certified Appliance Accessories  135619.0   \n",
       "\n",
       "   product_year reviewLang  \n",
       "0        2003.0         en  \n",
       "1        2006.0         en  \n",
       "2        2006.0         en  \n",
       "3        2006.0         en  \n",
       "4        2006.0         en  "
      ]
     },
     "execution_count": 73,
     "metadata": {},
     "output_type": "execute_result"
    }
   ],
   "source": [
    "df.head()"
   ]
  },
  {
   "cell_type": "code",
   "execution_count": 84,
   "metadata": {},
   "outputs": [
    {
     "data": {
      "text/html": [
       "<div>\n",
       "<style scoped>\n",
       "    .dataframe tbody tr th:only-of-type {\n",
       "        vertical-align: middle;\n",
       "    }\n",
       "\n",
       "    .dataframe tbody tr th {\n",
       "        vertical-align: top;\n",
       "    }\n",
       "\n",
       "    .dataframe thead th {\n",
       "        text-align: right;\n",
       "    }\n",
       "</style>\n",
       "<table border=\"1\" class=\"dataframe\">\n",
       "  <thead>\n",
       "    <tr style=\"text-align: right;\">\n",
       "      <th></th>\n",
       "      <th>reviewText</th>\n",
       "      <th>description</th>\n",
       "    </tr>\n",
       "  </thead>\n",
       "  <tbody>\n",
       "    <tr>\n",
       "      <th>0</th>\n",
       "      <td>I like this as a vent as well as something tha...</td>\n",
       "      <td>Replace your old vent with the Heartland Natur...</td>\n",
       "    </tr>\n",
       "    <tr>\n",
       "      <th>1</th>\n",
       "      <td>good item</td>\n",
       "      <td>Some people are surprised to learn that a new ...</td>\n",
       "    </tr>\n",
       "    <tr>\n",
       "      <th>2</th>\n",
       "      <td>Fit my new LG dryer perfectly.</td>\n",
       "      <td>Some people are surprised to learn that a new ...</td>\n",
       "    </tr>\n",
       "    <tr>\n",
       "      <th>3</th>\n",
       "      <td>Good value for electric dryers</td>\n",
       "      <td>Some people are surprised to learn that a new ...</td>\n",
       "    </tr>\n",
       "    <tr>\n",
       "      <th>4</th>\n",
       "      <td>Price and delivery was excellent.</td>\n",
       "      <td>Some people are surprised to learn that a new ...</td>\n",
       "    </tr>\n",
       "  </tbody>\n",
       "</table>\n",
       "</div>"
      ],
      "text/plain": [
       "                                          reviewText  \\\n",
       "0  I like this as a vent as well as something tha...   \n",
       "1                                          good item   \n",
       "2                     Fit my new LG dryer perfectly.   \n",
       "3                     Good value for electric dryers   \n",
       "4                  Price and delivery was excellent.   \n",
       "\n",
       "                                         description  \n",
       "0  Replace your old vent with the Heartland Natur...  \n",
       "1  Some people are surprised to learn that a new ...  \n",
       "2  Some people are surprised to learn that a new ...  \n",
       "3  Some people are surprised to learn that a new ...  \n",
       "4  Some people are surprised to learn that a new ...  "
      ]
     },
     "execution_count": 84,
     "metadata": {},
     "output_type": "execute_result"
    }
   ],
   "source": [
    "review_fit=df[['reviewText','description']]\n",
    "review_fit.head()"
   ]
  },
  {
   "cell_type": "code",
   "execution_count": 86,
   "metadata": {},
   "outputs": [],
   "source": [
    "review_fit=review_fit.dropna()"
   ]
  },
  {
   "cell_type": "code",
   "execution_count": 87,
   "metadata": {},
   "outputs": [
    {
     "data": {
      "text/html": [
       "<div>\n",
       "<style scoped>\n",
       "    .dataframe tbody tr th:only-of-type {\n",
       "        vertical-align: middle;\n",
       "    }\n",
       "\n",
       "    .dataframe tbody tr th {\n",
       "        vertical-align: top;\n",
       "    }\n",
       "\n",
       "    .dataframe thead th {\n",
       "        text-align: right;\n",
       "    }\n",
       "</style>\n",
       "<table border=\"1\" class=\"dataframe\">\n",
       "  <thead>\n",
       "    <tr style=\"text-align: right;\">\n",
       "      <th></th>\n",
       "      <th>reviewText</th>\n",
       "      <th>description</th>\n",
       "    </tr>\n",
       "  </thead>\n",
       "  <tbody>\n",
       "    <tr>\n",
       "      <th>0</th>\n",
       "      <td>like vent well something keep house warmer win...</td>\n",
       "      <td>replace old vent heartland natural vent easyto...</td>\n",
       "    </tr>\n",
       "    <tr>\n",
       "      <th>1</th>\n",
       "      <td>good item</td>\n",
       "      <td>people surprised learn new dryer may come powe...</td>\n",
       "    </tr>\n",
       "    <tr>\n",
       "      <th>2</th>\n",
       "      <td>fit new lg dryer perfectly</td>\n",
       "      <td>people surprised learn new dryer may come powe...</td>\n",
       "    </tr>\n",
       "    <tr>\n",
       "      <th>3</th>\n",
       "      <td>good value electric dryers</td>\n",
       "      <td>people surprised learn new dryer may come powe...</td>\n",
       "    </tr>\n",
       "    <tr>\n",
       "      <th>4</th>\n",
       "      <td>price delivery excellent</td>\n",
       "      <td>people surprised learn new dryer may come powe...</td>\n",
       "    </tr>\n",
       "  </tbody>\n",
       "</table>\n",
       "</div>"
      ],
      "text/plain": [
       "                                          reviewText  \\\n",
       "0  like vent well something keep house warmer win...   \n",
       "1                                          good item   \n",
       "2                         fit new lg dryer perfectly   \n",
       "3                         good value electric dryers   \n",
       "4                           price delivery excellent   \n",
       "\n",
       "                                         description  \n",
       "0  replace old vent heartland natural vent easyto...  \n",
       "1  people surprised learn new dryer may come powe...  \n",
       "2  people surprised learn new dryer may come powe...  \n",
       "3  people surprised learn new dryer may come powe...  \n",
       "4  people surprised learn new dryer may come powe...  "
      ]
     },
     "execution_count": 87,
     "metadata": {},
     "output_type": "execute_result"
    }
   ],
   "source": [
    "review_fit['reviewText']=review_fit['reviewText'].apply(lambda x : clean_string(x))\n",
    "review_fit['description']=review_fit['description'].apply(lambda x : clean_string(x))\n",
    "review_fit.head()"
   ]
  },
  {
   "cell_type": "code",
   "execution_count": 88,
   "metadata": {},
   "outputs": [],
   "source": [
    "reviews=review_fit['reviewText']\n",
    "descriptions=review_fit['description']"
   ]
  },
  {
   "cell_type": "code",
   "execution_count": 99,
   "metadata": {},
   "outputs": [],
   "source": [
    "vectorizer=CountVectorizer().fit(reviews,descriptions)"
   ]
  },
  {
   "cell_type": "code",
   "execution_count": 101,
   "metadata": {},
   "outputs": [],
   "source": [
    "reviews_vect=vectorizer.transform(reviews).toarray()\n",
    "descriptions_vect=vectorizer.transform(descriptions).toarray()"
   ]
  },
  {
   "cell_type": "code",
   "execution_count": 102,
   "metadata": {},
   "outputs": [
    {
     "data": {
      "text/plain": [
       "array([[0, 0, 0, ..., 0, 0, 0],\n",
       "       [0, 0, 0, ..., 0, 0, 0],\n",
       "       [0, 0, 0, ..., 0, 0, 0],\n",
       "       ...,\n",
       "       [0, 0, 0, ..., 0, 0, 0],\n",
       "       [0, 0, 0, ..., 0, 0, 0],\n",
       "       [0, 0, 0, ..., 0, 0, 0]], dtype=int64)"
      ]
     },
     "execution_count": 102,
     "metadata": {},
     "output_type": "execute_result"
    }
   ],
   "source": [
    "reviews_vect"
   ]
  },
  {
   "cell_type": "code",
   "execution_count": 92,
   "metadata": {},
   "outputs": [],
   "source": [
    "def cosine_sim_vectors(vec1,vec2):\n",
    "    vec1=vec1.reshape(1,-1)\n",
    "    vec2=vec2.reshape(1,-1)\n",
    "    \n",
    "    return cosine_similarity(vec1,vec2)[0][0]"
   ]
  },
  {
   "cell_type": "code",
   "execution_count": 103,
   "metadata": {},
   "outputs": [
    {
     "data": {
      "text/plain": [
       "788"
      ]
     },
     "execution_count": 103,
     "metadata": {},
     "output_type": "execute_result"
    }
   ],
   "source": [
    "len(reviews_vect[0])"
   ]
  },
  {
   "cell_type": "code",
   "execution_count": 104,
   "metadata": {},
   "outputs": [
    {
     "data": {
      "text/plain": [
       "788"
      ]
     },
     "execution_count": 104,
     "metadata": {},
     "output_type": "execute_result"
    }
   ],
   "source": [
    "len(descriptions_vect[0])"
   ]
  },
  {
   "cell_type": "code",
   "execution_count": 105,
   "metadata": {},
   "outputs": [
    {
     "data": {
      "text/plain": [
       "0.21442250696755896"
      ]
     },
     "execution_count": 105,
     "metadata": {},
     "output_type": "execute_result"
    }
   ],
   "source": [
    "cosine_sim_vectors(reviews_vect[0],descriptions_vect[0])"
   ]
  },
  {
   "cell_type": "code",
   "execution_count": null,
   "metadata": {},
   "outputs": [],
   "source": []
  }
 ],
 "metadata": {
  "kernelspec": {
   "display_name": "Python 3",
   "language": "python",
   "name": "python3"
  },
  "language_info": {
   "codemirror_mode": {
    "name": "ipython",
    "version": 3
   },
   "file_extension": ".py",
   "mimetype": "text/x-python",
   "name": "python",
   "nbconvert_exporter": "python",
   "pygments_lexer": "ipython3",
   "version": "3.7.4"
  }
 },
 "nbformat": 4,
 "nbformat_minor": 2
}
