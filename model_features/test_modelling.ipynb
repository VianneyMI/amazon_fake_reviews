{
 "cells": [
  {
   "cell_type": "code",
   "execution_count": 17,
   "metadata": {},
   "outputs": [
    {
     "name": "stdout",
     "output_type": "stream",
     "text": [
      "Collecting langdetect\n",
      "  Using cached langdetect-1.0.8.tar.gz (981 kB)\n",
      "Requirement already satisfied: six in c:\\users\\viann\\appdata\\roaming\\python\\python37\\site-packages (from langdetect) (1.14.0)\n",
      "Building wheels for collected packages: langdetect\n",
      "  Building wheel for langdetect (setup.py): started\n",
      "  Building wheel for langdetect (setup.py): finished with status 'done'\n",
      "  Created wheel for langdetect: filename=langdetect-1.0.8-py3-none-any.whl size=993196 sha256=16037fe5125b9806c4e7d82859250a7660d4ee0337797b844db025107b8e9e3a\n",
      "  Stored in directory: c:\\users\\viann\\appdata\\local\\pip\\cache\\wheels\\59\\f6\\9d\\85068904dba861c0b9af74e286265a08da438748ee5ae56067\n",
      "Successfully built langdetect\n",
      "Installing collected packages: langdetect\n",
      "Successfully installed langdetect-1.0.8\n"
     ]
    },
    {
     "name": "stderr",
     "output_type": "stream",
     "text": [
      "WARNING: pip is being invoked by an old script wrapper. This will fail in a future version of pip.\n",
      "Please see https://github.com/pypa/pip/issues/5599 for advice on fixing the underlying issue.\n",
      "To avoid this problem you can invoke Python with '-m pip' instead of running pip directly.\n",
      "WARNING: You are using pip version 20.0.2; however, version 20.2.4 is available.\n",
      "You should consider upgrading via the 'C:\\Users\\viann\\Anaconda3\\python.exe -m pip install --upgrade pip' command.\n"
     ]
    }
   ],
   "source": [
    "!pip install langdetect"
   ]
  },
  {
   "cell_type": "code",
   "execution_count": 102,
   "metadata": {},
   "outputs": [],
   "source": [
    "#General purpose\n",
    "import os\n",
    "#Data handling\n",
    "import pandas as pd\n",
    "import numpy as np\n",
    "import datetime\n",
    "#Data Visualization\n",
    "import matplotlib as mpl\n",
    "import matplotlib.pyplot as plt\n",
    "%matplotlib inline \n",
    "#Modelling \n",
    "import nltk\n",
    "from nltk.tokenize import word_tokenize\n",
    "from nltk.corpus import stopwords\n",
    "from nltk.stem import PorterStemmer\n",
    "from nltk.stem import WordNetLemmatizer\n",
    "from langdetect import detect #to filter non-english reviews.\n",
    "import sklearn\n"
   ]
  },
  {
   "cell_type": "code",
   "execution_count": 12,
   "metadata": {
    "scrolled": true
   },
   "outputs": [
    {
     "data": {
      "text/html": [
       "<div>\n",
       "<style scoped>\n",
       "    .dataframe tbody tr th:only-of-type {\n",
       "        vertical-align: middle;\n",
       "    }\n",
       "\n",
       "    .dataframe tbody tr th {\n",
       "        vertical-align: top;\n",
       "    }\n",
       "\n",
       "    .dataframe thead th {\n",
       "        text-align: right;\n",
       "    }\n",
       "</style>\n",
       "<table border=\"1\" class=\"dataframe\">\n",
       "  <thead>\n",
       "    <tr style=\"text-align: right;\">\n",
       "      <th></th>\n",
       "      <th>asin</th>\n",
       "      <th>review_date</th>\n",
       "      <th>reviewerID</th>\n",
       "      <th>reviewerName</th>\n",
       "      <th>summary</th>\n",
       "      <th>overall</th>\n",
       "      <th>reviewText</th>\n",
       "      <th>vote</th>\n",
       "      <th>date</th>\n",
       "      <th>title</th>\n",
       "      <th>description</th>\n",
       "      <th>image</th>\n",
       "      <th>main_cat</th>\n",
       "      <th>brand</th>\n",
       "      <th>rank</th>\n",
       "      <th>product_year</th>\n",
       "    </tr>\n",
       "  </thead>\n",
       "  <tbody>\n",
       "    <tr>\n",
       "      <th>0</th>\n",
       "      <td>B00009W3I4</td>\n",
       "      <td>2013-08-22</td>\n",
       "      <td>A34A1UP40713F8</td>\n",
       "      <td>James. Backus</td>\n",
       "      <td>Great product</td>\n",
       "      <td>5</td>\n",
       "      <td>I like this as a vent as well as something tha...</td>\n",
       "      <td>0</td>\n",
       "      <td>2003-05-14</td>\n",
       "      <td>HEARTLAND 21000 Energy Saving Dryer Vent Closure</td>\n",
       "      <td>Replace your old vent with the Heartland Natur...</td>\n",
       "      <td>1.0</td>\n",
       "      <td>Tools &amp; Home Improvement</td>\n",
       "      <td>HEARTLAND</td>\n",
       "      <td>5633.0</td>\n",
       "      <td>2003.0</td>\n",
       "    </tr>\n",
       "    <tr>\n",
       "      <th>1</th>\n",
       "      <td>B00009W3PA</td>\n",
       "      <td>2016-02-08</td>\n",
       "      <td>A1AHW6I678O6F2</td>\n",
       "      <td>kevin.</td>\n",
       "      <td>Five Stars</td>\n",
       "      <td>5</td>\n",
       "      <td>good item</td>\n",
       "      <td>0</td>\n",
       "      <td>2006-05-26</td>\n",
       "      <td>Certified Appliance Accessories 3-Wire Closed-...</td>\n",
       "      <td>Some people are surprised to learn that a new ...</td>\n",
       "      <td>1.0</td>\n",
       "      <td>Tools &amp; Home Improvement</td>\n",
       "      <td>Certified Appliance Accessories</td>\n",
       "      <td>135619.0</td>\n",
       "      <td>2006.0</td>\n",
       "    </tr>\n",
       "    <tr>\n",
       "      <th>2</th>\n",
       "      <td>B00009W3PA</td>\n",
       "      <td>2015-08-05</td>\n",
       "      <td>A8R48NKTGCJDQ</td>\n",
       "      <td>CDBrannom</td>\n",
       "      <td>Five Stars</td>\n",
       "      <td>5</td>\n",
       "      <td>Fit my new LG dryer perfectly.</td>\n",
       "      <td>0</td>\n",
       "      <td>2006-05-26</td>\n",
       "      <td>Certified Appliance Accessories 3-Wire Closed-...</td>\n",
       "      <td>Some people are surprised to learn that a new ...</td>\n",
       "      <td>1.0</td>\n",
       "      <td>Tools &amp; Home Improvement</td>\n",
       "      <td>Certified Appliance Accessories</td>\n",
       "      <td>135619.0</td>\n",
       "      <td>2006.0</td>\n",
       "    </tr>\n",
       "    <tr>\n",
       "      <th>3</th>\n",
       "      <td>B00009W3PA</td>\n",
       "      <td>2015-04-24</td>\n",
       "      <td>AR3OHHHW01A8E</td>\n",
       "      <td>Calvin E Reames</td>\n",
       "      <td>Perfect size</td>\n",
       "      <td>5</td>\n",
       "      <td>Good value for electric dryers</td>\n",
       "      <td>0</td>\n",
       "      <td>2006-05-26</td>\n",
       "      <td>Certified Appliance Accessories 3-Wire Closed-...</td>\n",
       "      <td>Some people are surprised to learn that a new ...</td>\n",
       "      <td>1.0</td>\n",
       "      <td>Tools &amp; Home Improvement</td>\n",
       "      <td>Certified Appliance Accessories</td>\n",
       "      <td>135619.0</td>\n",
       "      <td>2006.0</td>\n",
       "    </tr>\n",
       "    <tr>\n",
       "      <th>4</th>\n",
       "      <td>B00009W3PA</td>\n",
       "      <td>2015-03-21</td>\n",
       "      <td>A2CIEGHZ7L1WWR</td>\n",
       "      <td>albert j. kong</td>\n",
       "      <td>Five Stars</td>\n",
       "      <td>5</td>\n",
       "      <td>Price and delivery was excellent.</td>\n",
       "      <td>0</td>\n",
       "      <td>2006-05-26</td>\n",
       "      <td>Certified Appliance Accessories 3-Wire Closed-...</td>\n",
       "      <td>Some people are surprised to learn that a new ...</td>\n",
       "      <td>1.0</td>\n",
       "      <td>Tools &amp; Home Improvement</td>\n",
       "      <td>Certified Appliance Accessories</td>\n",
       "      <td>135619.0</td>\n",
       "      <td>2006.0</td>\n",
       "    </tr>\n",
       "  </tbody>\n",
       "</table>\n",
       "</div>"
      ],
      "text/plain": [
       "         asin review_date      reviewerID     reviewerName        summary  \\\n",
       "0  B00009W3I4  2013-08-22  A34A1UP40713F8    James. Backus  Great product   \n",
       "1  B00009W3PA  2016-02-08  A1AHW6I678O6F2           kevin.     Five Stars   \n",
       "2  B00009W3PA  2015-08-05   A8R48NKTGCJDQ        CDBrannom     Five Stars   \n",
       "3  B00009W3PA  2015-04-24   AR3OHHHW01A8E  Calvin E Reames   Perfect size   \n",
       "4  B00009W3PA  2015-03-21  A2CIEGHZ7L1WWR   albert j. kong     Five Stars   \n",
       "\n",
       "   overall                                         reviewText  vote  \\\n",
       "0        5  I like this as a vent as well as something tha...     0   \n",
       "1        5                                          good item     0   \n",
       "2        5                     Fit my new LG dryer perfectly.     0   \n",
       "3        5                     Good value for electric dryers     0   \n",
       "4        5                  Price and delivery was excellent.     0   \n",
       "\n",
       "         date                                              title  \\\n",
       "0  2003-05-14   HEARTLAND 21000 Energy Saving Dryer Vent Closure   \n",
       "1  2006-05-26  Certified Appliance Accessories 3-Wire Closed-...   \n",
       "2  2006-05-26  Certified Appliance Accessories 3-Wire Closed-...   \n",
       "3  2006-05-26  Certified Appliance Accessories 3-Wire Closed-...   \n",
       "4  2006-05-26  Certified Appliance Accessories 3-Wire Closed-...   \n",
       "\n",
       "                                         description  image  \\\n",
       "0  Replace your old vent with the Heartland Natur...    1.0   \n",
       "1  Some people are surprised to learn that a new ...    1.0   \n",
       "2  Some people are surprised to learn that a new ...    1.0   \n",
       "3  Some people are surprised to learn that a new ...    1.0   \n",
       "4  Some people are surprised to learn that a new ...    1.0   \n",
       "\n",
       "                   main_cat                            brand      rank  \\\n",
       "0  Tools & Home Improvement                        HEARTLAND    5633.0   \n",
       "1  Tools & Home Improvement  Certified Appliance Accessories  135619.0   \n",
       "2  Tools & Home Improvement  Certified Appliance Accessories  135619.0   \n",
       "3  Tools & Home Improvement  Certified Appliance Accessories  135619.0   \n",
       "4  Tools & Home Improvement  Certified Appliance Accessories  135619.0   \n",
       "\n",
       "   product_year  \n",
       "0        2003.0  \n",
       "1        2006.0  \n",
       "2        2006.0  \n",
       "3        2006.0  \n",
       "4        2006.0  "
      ]
     },
     "execution_count": 12,
     "metadata": {},
     "output_type": "execute_result"
    }
   ],
   "source": [
    "#Load dataset\n",
    "df=pd.read_csv('../data/exports/test_appliances.csv')\n",
    "#df.drop('Unnamed: 0',axis=1, inplace=True)\n",
    "df.head()"
   ]
  },
  {
   "cell_type": "code",
   "execution_count": 31,
   "metadata": {},
   "outputs": [],
   "source": [
    "# Appending language\n",
    "df['reviewLang']=df['reviewText'].apply(lambda x : detect(x)) "
   ]
  },
  {
   "cell_type": "code",
   "execution_count": 32,
   "metadata": {},
   "outputs": [
    {
     "data": {
      "text/html": [
       "<div>\n",
       "<style scoped>\n",
       "    .dataframe tbody tr th:only-of-type {\n",
       "        vertical-align: middle;\n",
       "    }\n",
       "\n",
       "    .dataframe tbody tr th {\n",
       "        vertical-align: top;\n",
       "    }\n",
       "\n",
       "    .dataframe thead th {\n",
       "        text-align: right;\n",
       "    }\n",
       "</style>\n",
       "<table border=\"1\" class=\"dataframe\">\n",
       "  <thead>\n",
       "    <tr style=\"text-align: right;\">\n",
       "      <th></th>\n",
       "      <th>asin</th>\n",
       "      <th>review_date</th>\n",
       "      <th>reviewerID</th>\n",
       "      <th>reviewerName</th>\n",
       "      <th>summary</th>\n",
       "      <th>overall</th>\n",
       "      <th>reviewText</th>\n",
       "      <th>vote</th>\n",
       "      <th>date</th>\n",
       "      <th>title</th>\n",
       "      <th>description</th>\n",
       "      <th>image</th>\n",
       "      <th>main_cat</th>\n",
       "      <th>brand</th>\n",
       "      <th>rank</th>\n",
       "      <th>product_year</th>\n",
       "      <th>reviewLang</th>\n",
       "    </tr>\n",
       "  </thead>\n",
       "  <tbody>\n",
       "    <tr>\n",
       "      <th>0</th>\n",
       "      <td>B00009W3I4</td>\n",
       "      <td>2013-08-22</td>\n",
       "      <td>A34A1UP40713F8</td>\n",
       "      <td>James. Backus</td>\n",
       "      <td>Great product</td>\n",
       "      <td>5</td>\n",
       "      <td>I like this as a vent as well as something tha...</td>\n",
       "      <td>0</td>\n",
       "      <td>2003-05-14</td>\n",
       "      <td>HEARTLAND 21000 Energy Saving Dryer Vent Closure</td>\n",
       "      <td>Replace your old vent with the Heartland Natur...</td>\n",
       "      <td>1.0</td>\n",
       "      <td>Tools &amp; Home Improvement</td>\n",
       "      <td>HEARTLAND</td>\n",
       "      <td>5633.0</td>\n",
       "      <td>2003.0</td>\n",
       "      <td>en</td>\n",
       "    </tr>\n",
       "    <tr>\n",
       "      <th>1</th>\n",
       "      <td>B00009W3PA</td>\n",
       "      <td>2016-02-08</td>\n",
       "      <td>A1AHW6I678O6F2</td>\n",
       "      <td>kevin.</td>\n",
       "      <td>Five Stars</td>\n",
       "      <td>5</td>\n",
       "      <td>good item</td>\n",
       "      <td>0</td>\n",
       "      <td>2006-05-26</td>\n",
       "      <td>Certified Appliance Accessories 3-Wire Closed-...</td>\n",
       "      <td>Some people are surprised to learn that a new ...</td>\n",
       "      <td>1.0</td>\n",
       "      <td>Tools &amp; Home Improvement</td>\n",
       "      <td>Certified Appliance Accessories</td>\n",
       "      <td>135619.0</td>\n",
       "      <td>2006.0</td>\n",
       "      <td>en</td>\n",
       "    </tr>\n",
       "    <tr>\n",
       "      <th>2</th>\n",
       "      <td>B00009W3PA</td>\n",
       "      <td>2015-08-05</td>\n",
       "      <td>A8R48NKTGCJDQ</td>\n",
       "      <td>CDBrannom</td>\n",
       "      <td>Five Stars</td>\n",
       "      <td>5</td>\n",
       "      <td>Fit my new LG dryer perfectly.</td>\n",
       "      <td>0</td>\n",
       "      <td>2006-05-26</td>\n",
       "      <td>Certified Appliance Accessories 3-Wire Closed-...</td>\n",
       "      <td>Some people are surprised to learn that a new ...</td>\n",
       "      <td>1.0</td>\n",
       "      <td>Tools &amp; Home Improvement</td>\n",
       "      <td>Certified Appliance Accessories</td>\n",
       "      <td>135619.0</td>\n",
       "      <td>2006.0</td>\n",
       "      <td>en</td>\n",
       "    </tr>\n",
       "    <tr>\n",
       "      <th>3</th>\n",
       "      <td>B00009W3PA</td>\n",
       "      <td>2015-04-24</td>\n",
       "      <td>AR3OHHHW01A8E</td>\n",
       "      <td>Calvin E Reames</td>\n",
       "      <td>Perfect size</td>\n",
       "      <td>5</td>\n",
       "      <td>Good value for electric dryers</td>\n",
       "      <td>0</td>\n",
       "      <td>2006-05-26</td>\n",
       "      <td>Certified Appliance Accessories 3-Wire Closed-...</td>\n",
       "      <td>Some people are surprised to learn that a new ...</td>\n",
       "      <td>1.0</td>\n",
       "      <td>Tools &amp; Home Improvement</td>\n",
       "      <td>Certified Appliance Accessories</td>\n",
       "      <td>135619.0</td>\n",
       "      <td>2006.0</td>\n",
       "      <td>en</td>\n",
       "    </tr>\n",
       "    <tr>\n",
       "      <th>4</th>\n",
       "      <td>B00009W3PA</td>\n",
       "      <td>2015-03-21</td>\n",
       "      <td>A2CIEGHZ7L1WWR</td>\n",
       "      <td>albert j. kong</td>\n",
       "      <td>Five Stars</td>\n",
       "      <td>5</td>\n",
       "      <td>Price and delivery was excellent.</td>\n",
       "      <td>0</td>\n",
       "      <td>2006-05-26</td>\n",
       "      <td>Certified Appliance Accessories 3-Wire Closed-...</td>\n",
       "      <td>Some people are surprised to learn that a new ...</td>\n",
       "      <td>1.0</td>\n",
       "      <td>Tools &amp; Home Improvement</td>\n",
       "      <td>Certified Appliance Accessories</td>\n",
       "      <td>135619.0</td>\n",
       "      <td>2006.0</td>\n",
       "      <td>en</td>\n",
       "    </tr>\n",
       "  </tbody>\n",
       "</table>\n",
       "</div>"
      ],
      "text/plain": [
       "         asin review_date      reviewerID     reviewerName        summary  \\\n",
       "0  B00009W3I4  2013-08-22  A34A1UP40713F8    James. Backus  Great product   \n",
       "1  B00009W3PA  2016-02-08  A1AHW6I678O6F2           kevin.     Five Stars   \n",
       "2  B00009W3PA  2015-08-05   A8R48NKTGCJDQ        CDBrannom     Five Stars   \n",
       "3  B00009W3PA  2015-04-24   AR3OHHHW01A8E  Calvin E Reames   Perfect size   \n",
       "4  B00009W3PA  2015-03-21  A2CIEGHZ7L1WWR   albert j. kong     Five Stars   \n",
       "\n",
       "   overall                                         reviewText  vote  \\\n",
       "0        5  I like this as a vent as well as something tha...     0   \n",
       "1        5                                          good item     0   \n",
       "2        5                     Fit my new LG dryer perfectly.     0   \n",
       "3        5                     Good value for electric dryers     0   \n",
       "4        5                  Price and delivery was excellent.     0   \n",
       "\n",
       "         date                                              title  \\\n",
       "0  2003-05-14   HEARTLAND 21000 Energy Saving Dryer Vent Closure   \n",
       "1  2006-05-26  Certified Appliance Accessories 3-Wire Closed-...   \n",
       "2  2006-05-26  Certified Appliance Accessories 3-Wire Closed-...   \n",
       "3  2006-05-26  Certified Appliance Accessories 3-Wire Closed-...   \n",
       "4  2006-05-26  Certified Appliance Accessories 3-Wire Closed-...   \n",
       "\n",
       "                                         description  image  \\\n",
       "0  Replace your old vent with the Heartland Natur...    1.0   \n",
       "1  Some people are surprised to learn that a new ...    1.0   \n",
       "2  Some people are surprised to learn that a new ...    1.0   \n",
       "3  Some people are surprised to learn that a new ...    1.0   \n",
       "4  Some people are surprised to learn that a new ...    1.0   \n",
       "\n",
       "                   main_cat                            brand      rank  \\\n",
       "0  Tools & Home Improvement                        HEARTLAND    5633.0   \n",
       "1  Tools & Home Improvement  Certified Appliance Accessories  135619.0   \n",
       "2  Tools & Home Improvement  Certified Appliance Accessories  135619.0   \n",
       "3  Tools & Home Improvement  Certified Appliance Accessories  135619.0   \n",
       "4  Tools & Home Improvement  Certified Appliance Accessories  135619.0   \n",
       "\n",
       "   product_year reviewLang  \n",
       "0        2003.0         en  \n",
       "1        2006.0         en  \n",
       "2        2006.0         en  \n",
       "3        2006.0         en  \n",
       "4        2006.0         en  "
      ]
     },
     "execution_count": 32,
     "metadata": {},
     "output_type": "execute_result"
    }
   ],
   "source": [
    "df.head()"
   ]
  },
  {
   "cell_type": "code",
   "execution_count": 33,
   "metadata": {},
   "outputs": [
    {
     "data": {
      "text/plain": [
       "(2277, 17)"
      ]
     },
     "execution_count": 33,
     "metadata": {},
     "output_type": "execute_result"
    }
   ],
   "source": [
    "df.shape"
   ]
  },
  {
   "cell_type": "code",
   "execution_count": 34,
   "metadata": {},
   "outputs": [
    {
     "data": {
      "text/html": [
       "<div>\n",
       "<style scoped>\n",
       "    .dataframe tbody tr th:only-of-type {\n",
       "        vertical-align: middle;\n",
       "    }\n",
       "\n",
       "    .dataframe tbody tr th {\n",
       "        vertical-align: top;\n",
       "    }\n",
       "\n",
       "    .dataframe thead th {\n",
       "        text-align: right;\n",
       "    }\n",
       "</style>\n",
       "<table border=\"1\" class=\"dataframe\">\n",
       "  <thead>\n",
       "    <tr style=\"text-align: right;\">\n",
       "      <th></th>\n",
       "      <th>asin</th>\n",
       "      <th>review_date</th>\n",
       "      <th>reviewerID</th>\n",
       "      <th>reviewerName</th>\n",
       "      <th>summary</th>\n",
       "      <th>overall</th>\n",
       "      <th>reviewText</th>\n",
       "      <th>vote</th>\n",
       "      <th>date</th>\n",
       "      <th>title</th>\n",
       "      <th>description</th>\n",
       "      <th>image</th>\n",
       "      <th>main_cat</th>\n",
       "      <th>brand</th>\n",
       "      <th>rank</th>\n",
       "      <th>product_year</th>\n",
       "      <th>reviewLang</th>\n",
       "    </tr>\n",
       "  </thead>\n",
       "  <tbody>\n",
       "    <tr>\n",
       "      <th>0</th>\n",
       "      <td>B00009W3I4</td>\n",
       "      <td>2013-08-22</td>\n",
       "      <td>A34A1UP40713F8</td>\n",
       "      <td>James. Backus</td>\n",
       "      <td>Great product</td>\n",
       "      <td>5</td>\n",
       "      <td>I like this as a vent as well as something tha...</td>\n",
       "      <td>0</td>\n",
       "      <td>2003-05-14</td>\n",
       "      <td>HEARTLAND 21000 Energy Saving Dryer Vent Closure</td>\n",
       "      <td>Replace your old vent with the Heartland Natur...</td>\n",
       "      <td>1.0</td>\n",
       "      <td>Tools &amp; Home Improvement</td>\n",
       "      <td>HEARTLAND</td>\n",
       "      <td>5633.0</td>\n",
       "      <td>2003.0</td>\n",
       "      <td>en</td>\n",
       "    </tr>\n",
       "    <tr>\n",
       "      <th>1</th>\n",
       "      <td>B00009W3PA</td>\n",
       "      <td>2016-02-08</td>\n",
       "      <td>A1AHW6I678O6F2</td>\n",
       "      <td>kevin.</td>\n",
       "      <td>Five Stars</td>\n",
       "      <td>5</td>\n",
       "      <td>good item</td>\n",
       "      <td>0</td>\n",
       "      <td>2006-05-26</td>\n",
       "      <td>Certified Appliance Accessories 3-Wire Closed-...</td>\n",
       "      <td>Some people are surprised to learn that a new ...</td>\n",
       "      <td>1.0</td>\n",
       "      <td>Tools &amp; Home Improvement</td>\n",
       "      <td>Certified Appliance Accessories</td>\n",
       "      <td>135619.0</td>\n",
       "      <td>2006.0</td>\n",
       "      <td>en</td>\n",
       "    </tr>\n",
       "    <tr>\n",
       "      <th>2</th>\n",
       "      <td>B00009W3PA</td>\n",
       "      <td>2015-08-05</td>\n",
       "      <td>A8R48NKTGCJDQ</td>\n",
       "      <td>CDBrannom</td>\n",
       "      <td>Five Stars</td>\n",
       "      <td>5</td>\n",
       "      <td>Fit my new LG dryer perfectly.</td>\n",
       "      <td>0</td>\n",
       "      <td>2006-05-26</td>\n",
       "      <td>Certified Appliance Accessories 3-Wire Closed-...</td>\n",
       "      <td>Some people are surprised to learn that a new ...</td>\n",
       "      <td>1.0</td>\n",
       "      <td>Tools &amp; Home Improvement</td>\n",
       "      <td>Certified Appliance Accessories</td>\n",
       "      <td>135619.0</td>\n",
       "      <td>2006.0</td>\n",
       "      <td>en</td>\n",
       "    </tr>\n",
       "    <tr>\n",
       "      <th>3</th>\n",
       "      <td>B00009W3PA</td>\n",
       "      <td>2015-04-24</td>\n",
       "      <td>AR3OHHHW01A8E</td>\n",
       "      <td>Calvin E Reames</td>\n",
       "      <td>Perfect size</td>\n",
       "      <td>5</td>\n",
       "      <td>Good value for electric dryers</td>\n",
       "      <td>0</td>\n",
       "      <td>2006-05-26</td>\n",
       "      <td>Certified Appliance Accessories 3-Wire Closed-...</td>\n",
       "      <td>Some people are surprised to learn that a new ...</td>\n",
       "      <td>1.0</td>\n",
       "      <td>Tools &amp; Home Improvement</td>\n",
       "      <td>Certified Appliance Accessories</td>\n",
       "      <td>135619.0</td>\n",
       "      <td>2006.0</td>\n",
       "      <td>en</td>\n",
       "    </tr>\n",
       "    <tr>\n",
       "      <th>4</th>\n",
       "      <td>B00009W3PA</td>\n",
       "      <td>2015-03-21</td>\n",
       "      <td>A2CIEGHZ7L1WWR</td>\n",
       "      <td>albert j. kong</td>\n",
       "      <td>Five Stars</td>\n",
       "      <td>5</td>\n",
       "      <td>Price and delivery was excellent.</td>\n",
       "      <td>0</td>\n",
       "      <td>2006-05-26</td>\n",
       "      <td>Certified Appliance Accessories 3-Wire Closed-...</td>\n",
       "      <td>Some people are surprised to learn that a new ...</td>\n",
       "      <td>1.0</td>\n",
       "      <td>Tools &amp; Home Improvement</td>\n",
       "      <td>Certified Appliance Accessories</td>\n",
       "      <td>135619.0</td>\n",
       "      <td>2006.0</td>\n",
       "      <td>en</td>\n",
       "    </tr>\n",
       "  </tbody>\n",
       "</table>\n",
       "</div>"
      ],
      "text/plain": [
       "         asin review_date      reviewerID     reviewerName        summary  \\\n",
       "0  B00009W3I4  2013-08-22  A34A1UP40713F8    James. Backus  Great product   \n",
       "1  B00009W3PA  2016-02-08  A1AHW6I678O6F2           kevin.     Five Stars   \n",
       "2  B00009W3PA  2015-08-05   A8R48NKTGCJDQ        CDBrannom     Five Stars   \n",
       "3  B00009W3PA  2015-04-24   AR3OHHHW01A8E  Calvin E Reames   Perfect size   \n",
       "4  B00009W3PA  2015-03-21  A2CIEGHZ7L1WWR   albert j. kong     Five Stars   \n",
       "\n",
       "   overall                                         reviewText  vote  \\\n",
       "0        5  I like this as a vent as well as something tha...     0   \n",
       "1        5                                          good item     0   \n",
       "2        5                     Fit my new LG dryer perfectly.     0   \n",
       "3        5                     Good value for electric dryers     0   \n",
       "4        5                  Price and delivery was excellent.     0   \n",
       "\n",
       "         date                                              title  \\\n",
       "0  2003-05-14   HEARTLAND 21000 Energy Saving Dryer Vent Closure   \n",
       "1  2006-05-26  Certified Appliance Accessories 3-Wire Closed-...   \n",
       "2  2006-05-26  Certified Appliance Accessories 3-Wire Closed-...   \n",
       "3  2006-05-26  Certified Appliance Accessories 3-Wire Closed-...   \n",
       "4  2006-05-26  Certified Appliance Accessories 3-Wire Closed-...   \n",
       "\n",
       "                                         description  image  \\\n",
       "0  Replace your old vent with the Heartland Natur...    1.0   \n",
       "1  Some people are surprised to learn that a new ...    1.0   \n",
       "2  Some people are surprised to learn that a new ...    1.0   \n",
       "3  Some people are surprised to learn that a new ...    1.0   \n",
       "4  Some people are surprised to learn that a new ...    1.0   \n",
       "\n",
       "                   main_cat                            brand      rank  \\\n",
       "0  Tools & Home Improvement                        HEARTLAND    5633.0   \n",
       "1  Tools & Home Improvement  Certified Appliance Accessories  135619.0   \n",
       "2  Tools & Home Improvement  Certified Appliance Accessories  135619.0   \n",
       "3  Tools & Home Improvement  Certified Appliance Accessories  135619.0   \n",
       "4  Tools & Home Improvement  Certified Appliance Accessories  135619.0   \n",
       "\n",
       "   product_year reviewLang  \n",
       "0        2003.0         en  \n",
       "1        2006.0         en  \n",
       "2        2006.0         en  \n",
       "3        2006.0         en  \n",
       "4        2006.0         en  "
      ]
     },
     "execution_count": 34,
     "metadata": {},
     "output_type": "execute_result"
    }
   ],
   "source": [
    "#Filtering on english reviews\n",
    "dff=df[df['reviewLang']=='en']\n",
    "dff.head()"
   ]
  },
  {
   "cell_type": "code",
   "execution_count": 35,
   "metadata": {},
   "outputs": [
    {
     "data": {
      "text/plain": [
       "(2236, 17)"
      ]
     },
     "execution_count": 35,
     "metadata": {},
     "output_type": "execute_result"
    }
   ],
   "source": [
    "dff.shape"
   ]
  },
  {
   "cell_type": "code",
   "execution_count": 24,
   "metadata": {},
   "outputs": [
    {
     "name": "stderr",
     "output_type": "stream",
     "text": [
      "[nltk_data] Downloading package stopwords to\n",
      "[nltk_data]     C:\\Users\\viann\\AppData\\Roaming\\nltk_data...\n",
      "[nltk_data]   Unzipping corpora\\stopwords.zip.\n"
     ]
    }
   ],
   "source": [
    "nltk.download('stopwords')\n",
    "stop_words=stopwords.words('english')"
   ]
  },
  {
   "cell_type": "code",
   "execution_count": 37,
   "metadata": {},
   "outputs": [],
   "source": [
    "reviews=dff['reviewText']\n",
    "REVIEWS=reviews.tolist()"
   ]
  },
  {
   "cell_type": "code",
   "execution_count": 38,
   "metadata": {},
   "outputs": [
    {
     "data": {
      "text/plain": [
       "list"
      ]
     },
     "execution_count": 38,
     "metadata": {},
     "output_type": "execute_result"
    }
   ],
   "source": [
    "type(REVIEWS)"
   ]
  },
  {
   "cell_type": "markdown",
   "metadata": {},
   "source": [
    "# Intro to NLP"
   ]
  },
  {
   "cell_type": "markdown",
   "metadata": {},
   "source": [
    "For all the below : Please refer to https://towardsdatascience.com/a-gentle-introduction-to-natural-language-processing-e716ed3c0863"
   ]
  },
  {
   "cell_type": "markdown",
   "metadata": {},
   "source": [
    "## Tokenization"
   ]
  },
  {
   "cell_type": "code",
   "execution_count": 75,
   "metadata": {},
   "outputs": [],
   "source": [
    "#nltk.download('punkt')\n",
    "reviews_tokenized=[word_tokenize(review) for review in REVIEWS]"
   ]
  },
  {
   "cell_type": "code",
   "execution_count": 76,
   "metadata": {},
   "outputs": [
    {
     "data": {
      "text/plain": [
       "['I',\n",
       " 'like',\n",
       " 'this',\n",
       " 'as',\n",
       " 'a',\n",
       " 'vent',\n",
       " 'as',\n",
       " 'well',\n",
       " 'as',\n",
       " 'something',\n",
       " 'that',\n",
       " 'will',\n",
       " 'keep',\n",
       " 'house',\n",
       " 'warmer',\n",
       " 'in',\n",
       " 'winter',\n",
       " '.',\n",
       " 'I',\n",
       " 'sanded',\n",
       " 'it',\n",
       " 'and',\n",
       " 'then',\n",
       " 'painted',\n",
       " 'it',\n",
       " 'the',\n",
       " 'same',\n",
       " 'color',\n",
       " 'as',\n",
       " 'the',\n",
       " 'house',\n",
       " '.',\n",
       " 'Looks',\n",
       " 'great',\n",
       " '.']"
      ]
     },
     "execution_count": 76,
     "metadata": {},
     "output_type": "execute_result"
    }
   ],
   "source": [
    "reviews_tokenized[0]"
   ]
  },
  {
   "cell_type": "code",
   "execution_count": 86,
   "metadata": {},
   "outputs": [],
   "source": [
    "reviews_filtered=[[]]*len(reviews)"
   ]
  },
  {
   "cell_type": "code",
   "execution_count": 87,
   "metadata": {},
   "outputs": [
    {
     "data": {
      "text/plain": [
       "list"
      ]
     },
     "execution_count": 87,
     "metadata": {},
     "output_type": "execute_result"
    }
   ],
   "source": [
    "type(reviews_filtered)"
   ]
  },
  {
   "cell_type": "code",
   "execution_count": 88,
   "metadata": {},
   "outputs": [
    {
     "data": {
      "text/plain": [
       "2236"
      ]
     },
     "execution_count": 88,
     "metadata": {},
     "output_type": "execute_result"
    }
   ],
   "source": [
    "len(reviews_filtered)"
   ]
  },
  {
   "cell_type": "code",
   "execution_count": 89,
   "metadata": {},
   "outputs": [
    {
     "data": {
      "text/plain": [
       "[]"
      ]
     },
     "execution_count": 89,
     "metadata": {},
     "output_type": "execute_result"
    }
   ],
   "source": [
    "reviews_filtered[0]"
   ]
  },
  {
   "cell_type": "code",
   "execution_count": 91,
   "metadata": {},
   "outputs": [],
   "source": [
    "for i,review in enumerate(reviews_tokenized):\n",
    "    #print(i)\n",
    "    reviews_filtered[i]=[word for word in review if word not in stop_words]"
   ]
  },
  {
   "cell_type": "code",
   "execution_count": 94,
   "metadata": {},
   "outputs": [
    {
     "data": {
      "text/plain": [
       "2236"
      ]
     },
     "execution_count": 94,
     "metadata": {},
     "output_type": "execute_result"
    }
   ],
   "source": [
    "len(reviews_filtered)"
   ]
  },
  {
   "cell_type": "markdown",
   "metadata": {},
   "source": [
    "## Stemming"
   ]
  },
  {
   "cell_type": "code",
   "execution_count": 96,
   "metadata": {},
   "outputs": [
    {
     "data": {
      "text/plain": [
       "'filter'"
      ]
     },
     "execution_count": 96,
     "metadata": {},
     "output_type": "execute_result"
    }
   ],
   "source": [
    "#Test\n",
    "stemmer=PorterStemmer()\n",
    "stemmed=stemmer.stem(\"Filtered\")\n",
    "stemmed"
   ]
  },
  {
   "cell_type": "code",
   "execution_count": 99,
   "metadata": {},
   "outputs": [
    {
     "data": {
      "text/plain": [
       "['I',\n",
       " 'like',\n",
       " 'vent',\n",
       " 'well',\n",
       " 'someth',\n",
       " 'keep',\n",
       " 'hous',\n",
       " 'warmer',\n",
       " 'winter',\n",
       " '.',\n",
       " 'I',\n",
       " 'sand',\n",
       " 'paint',\n",
       " 'color',\n",
       " 'hous',\n",
       " '.',\n",
       " 'look',\n",
       " 'great',\n",
       " '.']"
      ]
     },
     "execution_count": 99,
     "metadata": {},
     "output_type": "execute_result"
    }
   ],
   "source": [
    "reviews_stemmed=[[]]*len(reviews)\n",
    "for i,review in enumerate(reviews_filtered):\n",
    "    reviews_stemmed[i]=[stemmer.stem(word) for word in  review]\n",
    "reviews_stemmed[0]"
   ]
  },
  {
   "cell_type": "markdown",
   "metadata": {},
   "source": [
    "The stem word may or may not be a valid word in the language. For example ‘movi’ is the root word for ‘movie’, ‘emot’ is the root word for ‘emotion’."
   ]
  },
  {
   "cell_type": "markdown",
   "metadata": {},
   "source": [
    "## Lemmatization"
   ]
  },
  {
   "cell_type": "markdown",
   "metadata": {},
   "source": [
    "Lemmatization does the same thing as stemming, converting a word to its root form but with one difference i.e., the root word in this case belongs to a valid word in the language. For example the word caring would map to ‘care’ and not ‘car’ as the in case of stemming."
   ]
  },
  {
   "cell_type": "code",
   "execution_count": 101,
   "metadata": {},
   "outputs": [
    {
     "name": "stderr",
     "output_type": "stream",
     "text": [
      "[nltk_data] Downloading package wordnet to\n",
      "[nltk_data]     C:\\Users\\viann\\AppData\\Roaming\\nltk_data...\n",
      "[nltk_data]   Unzipping corpora\\wordnet.zip.\n"
     ]
    },
    {
     "data": {
      "text/plain": [
       "True"
      ]
     },
     "execution_count": 101,
     "metadata": {},
     "output_type": "execute_result"
    }
   ],
   "source": [
    "nltk.download('wordnet')"
   ]
  },
  {
   "cell_type": "code",
   "execution_count": 104,
   "metadata": {},
   "outputs": [
    {
     "data": {
      "text/plain": [
       "['I',\n",
       " 'like',\n",
       " 'vent',\n",
       " 'well',\n",
       " 'something',\n",
       " 'keep',\n",
       " 'house',\n",
       " 'warmer',\n",
       " 'winter',\n",
       " '.',\n",
       " 'I',\n",
       " 'sanded',\n",
       " 'painted',\n",
       " 'color',\n",
       " 'house',\n",
       " '.',\n",
       " 'Looks',\n",
       " 'great',\n",
       " '.']"
      ]
     },
     "execution_count": 104,
     "metadata": {},
     "output_type": "execute_result"
    }
   ],
   "source": [
    "reviews_lemmed=[[]]*len(reviews)\n",
    "lemmatizer=WordNetLemmatizer()\n",
    "for i,review in enumerate(reviews_filtered):\n",
    "    reviews_lemmed[i]=[lemmatizer.lemmatize(word) for word in  review]\n",
    "reviews_lemmed[0]"
   ]
  },
  {
   "cell_type": "markdown",
   "metadata": {},
   "source": [
    "## Text Data Vectorization"
   ]
  },
  {
   "cell_type": "markdown",
   "metadata": {},
   "source": [
    "The process of converting text into numbers is called text data vectorization. Now after text preprocessing, we need to numerically represent text data i.e., encoding the data in numbers which can be further used by algorithms."
   ]
  },
  {
   "cell_type": "code",
   "execution_count": null,
   "metadata": {},
   "outputs": [],
   "source": []
  }
 ],
 "metadata": {
  "kernelspec": {
   "display_name": "Python 3",
   "language": "python",
   "name": "python3"
  },
  "language_info": {
   "codemirror_mode": {
    "name": "ipython",
    "version": 3
   },
   "file_extension": ".py",
   "mimetype": "text/x-python",
   "name": "python",
   "nbconvert_exporter": "python",
   "pygments_lexer": "ipython3",
   "version": "3.7.4"
  }
 },
 "nbformat": 4,
 "nbformat_minor": 2
}
