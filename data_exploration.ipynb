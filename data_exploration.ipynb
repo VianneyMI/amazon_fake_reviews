{
 "cells": [
  {
   "cell_type": "code",
   "execution_count": 76,
   "metadata": {},
   "outputs": [],
   "source": [
    "#Data handling\n",
    "import pandas as pd\n",
    "import numpy as np\n",
    "import datetime\n",
    "#Data Visualization\n",
    "import matplotlib as mpl\n",
    "import matplotlib.pyplot as plt\n",
    "# use the inline backend to generate the plots within the browser\n",
    "%matplotlib inline "
   ]
  },
  {
   "cell_type": "code",
   "execution_count": 3,
   "metadata": {},
   "outputs": [],
   "source": [
    "#Loading datasets\n",
    "\n",
    "df_beauty=pd.read_json('data/ref/All_Beauty_5.json', lines=True)\n",
    "df_appliances=pd.read_json('data/ref/Appliances_5.json', lines=True)\n",
    "meta_data=pd.read_json('data/ref/meta_data.json', lines=True)"
   ]
  },
  {
   "cell_type": "markdown",
   "metadata": {},
   "source": [
    "Compared to the discovery phase, let's try to go further into the anlysis of the data, but let's aim at no modifying the data for now. The goal here is to list the actions that will need to be performed to clean the data and to identify the good features candidates"
   ]
  },
  {
   "cell_type": "markdown",
   "metadata": {},
   "source": [
    "# Meta Data Analysis"
   ]
  },
  {
   "cell_type": "code",
   "execution_count": 4,
   "metadata": {},
   "outputs": [
    {
     "ename": "TypeError",
     "evalue": "unhashable type: 'list'",
     "output_type": "error",
     "traceback": [
      "\u001b[1;31m---------------------------------------------------------------------------\u001b[0m",
      "\u001b[1;31mTypeError\u001b[0m                                 Traceback (most recent call last)",
      "\u001b[1;32mpandas\\_libs\\hashtable_class_helper.pxi\u001b[0m in \u001b[0;36mpandas._libs.hashtable.PyObjectHashTable.map_locations\u001b[1;34m()\u001b[0m\n",
      "\u001b[1;31mTypeError\u001b[0m: unhashable type: 'list'"
     ]
    },
    {
     "name": "stderr",
     "output_type": "stream",
     "text": [
      "Exception ignored in: 'pandas._libs.index.IndexEngine._call_map_locations'\n",
      "Traceback (most recent call last):\n",
      "  File \"pandas\\_libs\\hashtable_class_helper.pxi\", line 1652, in pandas._libs.hashtable.PyObjectHashTable.map_locations\n",
      "TypeError: unhashable type: 'list'\n"
     ]
    },
    {
     "data": {
      "text/html": [
       "<div>\n",
       "<style scoped>\n",
       "    .dataframe tbody tr th:only-of-type {\n",
       "        vertical-align: middle;\n",
       "    }\n",
       "\n",
       "    .dataframe tbody tr th {\n",
       "        vertical-align: top;\n",
       "    }\n",
       "\n",
       "    .dataframe thead th {\n",
       "        text-align: right;\n",
       "    }\n",
       "</style>\n",
       "<table border=\"1\" class=\"dataframe\">\n",
       "  <thead>\n",
       "    <tr style=\"text-align: right;\">\n",
       "      <th></th>\n",
       "      <th>asin</th>\n",
       "      <th>description</th>\n",
       "      <th>title</th>\n",
       "      <th>date</th>\n",
       "      <th>brand</th>\n",
       "    </tr>\n",
       "  </thead>\n",
       "  <tbody>\n",
       "    <tr>\n",
       "      <th>count</th>\n",
       "      <td>18772</td>\n",
       "      <td>5130</td>\n",
       "      <td>18771</td>\n",
       "      <td>18588</td>\n",
       "      <td>18295</td>\n",
       "    </tr>\n",
       "    <tr>\n",
       "      <th>unique</th>\n",
       "      <td>18521</td>\n",
       "      <td>4437</td>\n",
       "      <td>18417</td>\n",
       "      <td>3042</td>\n",
       "      <td>5785</td>\n",
       "    </tr>\n",
       "    <tr>\n",
       "      <th>top</th>\n",
       "      <td>B0000A277M</td>\n",
       "      <td>[]</td>\n",
       "      <td>onepix Hard Case for MacBook</td>\n",
       "      <td>2016-06-16 00:00:00</td>\n",
       "      <td>HP</td>\n",
       "    </tr>\n",
       "    <tr>\n",
       "      <th>freq</th>\n",
       "      <td>2</td>\n",
       "      <td>122</td>\n",
       "      <td>7</td>\n",
       "      <td>404</td>\n",
       "      <td>212</td>\n",
       "    </tr>\n",
       "    <tr>\n",
       "      <th>first</th>\n",
       "      <td>NaN</td>\n",
       "      <td>NaN</td>\n",
       "      <td>NaN</td>\n",
       "      <td>1973-09-04 00:00:00</td>\n",
       "      <td>NaN</td>\n",
       "    </tr>\n",
       "    <tr>\n",
       "      <th>last</th>\n",
       "      <td>NaN</td>\n",
       "      <td>NaN</td>\n",
       "      <td>NaN</td>\n",
       "      <td>2019-01-08 00:00:00</td>\n",
       "      <td>NaN</td>\n",
       "    </tr>\n",
       "  </tbody>\n",
       "</table>\n",
       "</div>"
      ],
      "text/plain": [
       "              asin description                         title  \\\n",
       "count        18772        5130                         18771   \n",
       "unique       18521        4437                         18417   \n",
       "top     B0000A277M          []  onepix Hard Case for MacBook   \n",
       "freq             2         122                             7   \n",
       "first          NaN         NaN                           NaN   \n",
       "last           NaN         NaN                           NaN   \n",
       "\n",
       "                       date  brand  \n",
       "count                 18588  18295  \n",
       "unique                 3042   5785  \n",
       "top     2016-06-16 00:00:00     HP  \n",
       "freq                    404    212  \n",
       "first   1973-09-04 00:00:00    NaN  \n",
       "last    2019-01-08 00:00:00    NaN  "
      ]
     },
     "execution_count": 4,
     "metadata": {},
     "output_type": "execute_result"
    }
   ],
   "source": [
    "meta_data[['asin','description','title','date','brand']].describe(include='all')\n",
    "#The other columns are causing issues because they contain list"
   ]
  },
  {
   "cell_type": "markdown",
   "metadata": {},
   "source": [
    "## Duplicates"
   ]
  },
  {
   "cell_type": "markdown",
   "metadata": {},
   "source": [
    "Let's check if the duplicates are true duplicates i.e same ID, description and title"
   ]
  },
  {
   "cell_type": "code",
   "execution_count": 5,
   "metadata": {},
   "outputs": [
    {
     "data": {
      "text/html": [
       "<div>\n",
       "<style scoped>\n",
       "    .dataframe tbody tr th:only-of-type {\n",
       "        vertical-align: middle;\n",
       "    }\n",
       "\n",
       "    .dataframe tbody tr th {\n",
       "        vertical-align: top;\n",
       "    }\n",
       "\n",
       "    .dataframe thead th {\n",
       "        text-align: right;\n",
       "    }\n",
       "</style>\n",
       "<table border=\"1\" class=\"dataframe\">\n",
       "  <thead>\n",
       "    <tr style=\"text-align: right;\">\n",
       "      <th></th>\n",
       "      <th>asin</th>\n",
       "      <th>description</th>\n",
       "      <th>title</th>\n",
       "    </tr>\n",
       "  </thead>\n",
       "  <tbody>\n",
       "    <tr>\n",
       "      <th>0</th>\n",
       "      <td>0321732960</td>\n",
       "      <td>[Brand new. Still in factory-sealed plastic.]</td>\n",
       "      <td>Kelby Training DVD: The Adobe Photoshop CS5 7-...</td>\n",
       "    </tr>\n",
       "    <tr>\n",
       "      <th>1</th>\n",
       "      <td>0321735722</td>\n",
       "      <td>[If you're already a Photoshop user and want a...</td>\n",
       "      <td>Kelby Training DVD: Adobe Photoshop CS5 Power ...</td>\n",
       "    </tr>\n",
       "    <tr>\n",
       "      <th>2</th>\n",
       "      <td>0439651859</td>\n",
       "      <td>[School To Home Notes: Note From the Teacher!\\...</td>\n",
       "      <td>TEACHERS FRIEND NOTE FROM THE TEACHER SCHOOL T...</td>\n",
       "    </tr>\n",
       "    <tr>\n",
       "      <th>3</th>\n",
       "      <td>0545729971</td>\n",
       "      <td>[Dooqi is a young brand specializing in high-e...</td>\n",
       "      <td>[3-pack]Ipad Mini Screen Protector, Dooqi Scre...</td>\n",
       "    </tr>\n",
       "    <tr>\n",
       "      <th>4</th>\n",
       "      <td>0594450284</td>\n",
       "      <td>[Cover for Nook HD]</td>\n",
       "      <td>Hd+ Cheetah Cover- Nook</td>\n",
       "    </tr>\n",
       "  </tbody>\n",
       "</table>\n",
       "</div>"
      ],
      "text/plain": [
       "         asin                                        description  \\\n",
       "0  0321732960      [Brand new. Still in factory-sealed plastic.]   \n",
       "1  0321735722  [If you're already a Photoshop user and want a...   \n",
       "2  0439651859  [School To Home Notes: Note From the Teacher!\\...   \n",
       "3  0545729971  [Dooqi is a young brand specializing in high-e...   \n",
       "4  0594450284                                [Cover for Nook HD]   \n",
       "\n",
       "                                               title  \n",
       "0  Kelby Training DVD: The Adobe Photoshop CS5 7-...  \n",
       "1  Kelby Training DVD: Adobe Photoshop CS5 Power ...  \n",
       "2  TEACHERS FRIEND NOTE FROM THE TEACHER SCHOOL T...  \n",
       "3  [3-pack]Ipad Mini Screen Protector, Dooqi Scre...  \n",
       "4                            Hd+ Cheetah Cover- Nook  "
      ]
     },
     "execution_count": 5,
     "metadata": {},
     "output_type": "execute_result"
    }
   ],
   "source": [
    "duplicates=meta_data[['asin','description','title']]\n",
    "duplicates.head()"
   ]
  },
  {
   "cell_type": "markdown",
   "metadata": {},
   "source": [
    "The descriptions are between brackets. This is causing an issue as well, let's remove them."
   ]
  },
  {
   "cell_type": "code",
   "execution_count": 6,
   "metadata": {},
   "outputs": [
    {
     "name": "stderr",
     "output_type": "stream",
     "text": [
      "C:\\Users\\viann\\Anaconda3\\lib\\site-packages\\ipykernel_launcher.py:1: SettingWithCopyWarning: \n",
      "A value is trying to be set on a copy of a slice from a DataFrame.\n",
      "Try using .loc[row_indexer,col_indexer] = value instead\n",
      "\n",
      "See the caveats in the documentation: https://pandas.pydata.org/pandas-docs/stable/user_guide/indexing.html#returning-a-view-versus-a-copy\n",
      "  \"\"\"Entry point for launching an IPython kernel.\n"
     ]
    },
    {
     "data": {
      "text/html": [
       "<div>\n",
       "<style scoped>\n",
       "    .dataframe tbody tr th:only-of-type {\n",
       "        vertical-align: middle;\n",
       "    }\n",
       "\n",
       "    .dataframe tbody tr th {\n",
       "        vertical-align: top;\n",
       "    }\n",
       "\n",
       "    .dataframe thead th {\n",
       "        text-align: right;\n",
       "    }\n",
       "</style>\n",
       "<table border=\"1\" class=\"dataframe\">\n",
       "  <thead>\n",
       "    <tr style=\"text-align: right;\">\n",
       "      <th></th>\n",
       "      <th>asin</th>\n",
       "      <th>description</th>\n",
       "      <th>title</th>\n",
       "    </tr>\n",
       "  </thead>\n",
       "  <tbody>\n",
       "    <tr>\n",
       "      <th>0</th>\n",
       "      <td>0321732960</td>\n",
       "      <td>Brand new. Still in factory-sealed plastic.</td>\n",
       "      <td>Kelby Training DVD: The Adobe Photoshop CS5 7-...</td>\n",
       "    </tr>\n",
       "    <tr>\n",
       "      <th>1</th>\n",
       "      <td>0321735722</td>\n",
       "      <td>If you're already a Photoshop user and want a ...</td>\n",
       "      <td>Kelby Training DVD: Adobe Photoshop CS5 Power ...</td>\n",
       "    </tr>\n",
       "    <tr>\n",
       "      <th>2</th>\n",
       "      <td>0439651859</td>\n",
       "      <td>School To Home Notes: Note From the Teacher!\\n...</td>\n",
       "      <td>TEACHERS FRIEND NOTE FROM THE TEACHER SCHOOL T...</td>\n",
       "    </tr>\n",
       "  </tbody>\n",
       "</table>\n",
       "</div>"
      ],
      "text/plain": [
       "         asin                                        description  \\\n",
       "0  0321732960        Brand new. Still in factory-sealed plastic.   \n",
       "1  0321735722  If you're already a Photoshop user and want a ...   \n",
       "2  0439651859  School To Home Notes: Note From the Teacher!\\n...   \n",
       "\n",
       "                                               title  \n",
       "0  Kelby Training DVD: The Adobe Photoshop CS5 7-...  \n",
       "1  Kelby Training DVD: Adobe Photoshop CS5 Power ...  \n",
       "2  TEACHERS FRIEND NOTE FROM THE TEACHER SCHOOL T...  "
      ]
     },
     "execution_count": 6,
     "metadata": {},
     "output_type": "execute_result"
    }
   ],
   "source": [
    "duplicates['description']=duplicates['description'].apply(lambda x: x[0] if isinstance(x,list) else str(x))\n",
    "duplicates.head(3)"
   ]
  },
  {
   "cell_type": "code",
   "execution_count": 7,
   "metadata": {},
   "outputs": [
    {
     "data": {
      "text/plain": [
       "count     18772\n",
       "unique     4192\n",
       "top         nan\n",
       "freq      13642\n",
       "Name: description, dtype: object"
      ]
     },
     "execution_count": 7,
     "metadata": {},
     "output_type": "execute_result"
    }
   ],
   "source": [
    "duplicates['description'].describe()"
   ]
  },
  {
   "cell_type": "code",
   "execution_count": 8,
   "metadata": {},
   "outputs": [
    {
     "data": {
      "text/html": [
       "<div>\n",
       "<style scoped>\n",
       "    .dataframe tbody tr th:only-of-type {\n",
       "        vertical-align: middle;\n",
       "    }\n",
       "\n",
       "    .dataframe tbody tr th {\n",
       "        vertical-align: top;\n",
       "    }\n",
       "\n",
       "    .dataframe thead th {\n",
       "        text-align: right;\n",
       "    }\n",
       "</style>\n",
       "<table border=\"1\" class=\"dataframe\">\n",
       "  <thead>\n",
       "    <tr style=\"text-align: right;\">\n",
       "      <th></th>\n",
       "      <th>asin</th>\n",
       "      <th>description</th>\n",
       "      <th>title</th>\n",
       "    </tr>\n",
       "  </thead>\n",
       "  <tbody>\n",
       "  </tbody>\n",
       "</table>\n",
       "</div>"
      ],
      "text/plain": [
       "Empty DataFrame\n",
       "Columns: [asin, description, title]\n",
       "Index: []"
      ]
     },
     "execution_count": 8,
     "metadata": {},
     "output_type": "execute_result"
    }
   ],
   "source": [
    "duplicates[pd.isnull(duplicates['description'])] #Checking the nan values"
   ]
  },
  {
   "cell_type": "code",
   "execution_count": 9,
   "metadata": {},
   "outputs": [
    {
     "data": {
      "text/html": [
       "<div>\n",
       "<style scoped>\n",
       "    .dataframe tbody tr th:only-of-type {\n",
       "        vertical-align: middle;\n",
       "    }\n",
       "\n",
       "    .dataframe tbody tr th {\n",
       "        vertical-align: top;\n",
       "    }\n",
       "\n",
       "    .dataframe thead th {\n",
       "        text-align: right;\n",
       "    }\n",
       "</style>\n",
       "<table border=\"1\" class=\"dataframe\">\n",
       "  <thead>\n",
       "    <tr style=\"text-align: right;\">\n",
       "      <th></th>\n",
       "      <th>asin</th>\n",
       "      <th>description</th>\n",
       "      <th>title</th>\n",
       "    </tr>\n",
       "  </thead>\n",
       "  <tbody>\n",
       "    <tr>\n",
       "      <th>7</th>\n",
       "      <td>0879394021</td>\n",
       "      <td>nan</td>\n",
       "      <td>Fire Detection &amp; Suppression Systems 4e USB St...</td>\n",
       "    </tr>\n",
       "    <tr>\n",
       "      <th>12</th>\n",
       "      <td>1616830867</td>\n",
       "      <td>nan</td>\n",
       "      <td>Airflow Lap Top Lap Desk</td>\n",
       "    </tr>\n",
       "    <tr>\n",
       "      <th>14</th>\n",
       "      <td>1848494483</td>\n",
       "      <td>nan</td>\n",
       "      <td>Music Theory Past Papers 2012, ABRSM Grade 1 (...</td>\n",
       "    </tr>\n",
       "    <tr>\n",
       "      <th>18</th>\n",
       "      <td>7884139057</td>\n",
       "      <td>nan</td>\n",
       "      <td>uxcell Flexible Neck Black Three Blade Compute...</td>\n",
       "    </tr>\n",
       "    <tr>\n",
       "      <th>19</th>\n",
       "      <td>9178910897</td>\n",
       "      <td>nan</td>\n",
       "      <td>IKEA - UPPTÄCKA Backpack, dark gray, yellow-or...</td>\n",
       "    </tr>\n",
       "    <tr>\n",
       "      <th>...</th>\n",
       "      <td>...</td>\n",
       "      <td>...</td>\n",
       "      <td>...</td>\n",
       "    </tr>\n",
       "    <tr>\n",
       "      <th>18766</th>\n",
       "      <td>B01HI76P24</td>\n",
       "      <td>nan</td>\n",
       "      <td>TURNMEON Smart Watch for Kids Children Smartwa...</td>\n",
       "    </tr>\n",
       "    <tr>\n",
       "      <th>18767</th>\n",
       "      <td>B01HI72XZW</td>\n",
       "      <td>nan</td>\n",
       "      <td>iPad Mini 4 Case, Aceguarder New Design [Dirtp...</td>\n",
       "    </tr>\n",
       "    <tr>\n",
       "      <th>18768</th>\n",
       "      <td>B01HIEI83Q</td>\n",
       "      <td>nan</td>\n",
       "      <td>MIJIU Nylon Canvas Military Tactical Men Waist...</td>\n",
       "    </tr>\n",
       "    <tr>\n",
       "      <th>18770</th>\n",
       "      <td>B01HIWBL46</td>\n",
       "      <td>nan</td>\n",
       "      <td>Funnel Cup (Ultra Pink)</td>\n",
       "    </tr>\n",
       "    <tr>\n",
       "      <th>18771</th>\n",
       "      <td>B01HJ49FSW</td>\n",
       "      <td>nan</td>\n",
       "      <td>Linux Ubuntu 16.04 Desktop Server 32bit 64bit ...</td>\n",
       "    </tr>\n",
       "  </tbody>\n",
       "</table>\n",
       "<p>13642 rows × 3 columns</p>\n",
       "</div>"
      ],
      "text/plain": [
       "             asin description  \\\n",
       "7      0879394021         nan   \n",
       "12     1616830867         nan   \n",
       "14     1848494483         nan   \n",
       "18     7884139057         nan   \n",
       "19     9178910897         nan   \n",
       "...           ...         ...   \n",
       "18766  B01HI76P24         nan   \n",
       "18767  B01HI72XZW         nan   \n",
       "18768  B01HIEI83Q         nan   \n",
       "18770  B01HIWBL46         nan   \n",
       "18771  B01HJ49FSW         nan   \n",
       "\n",
       "                                                   title  \n",
       "7      Fire Detection & Suppression Systems 4e USB St...  \n",
       "12                              Airflow Lap Top Lap Desk  \n",
       "14     Music Theory Past Papers 2012, ABRSM Grade 1 (...  \n",
       "18     uxcell Flexible Neck Black Three Blade Compute...  \n",
       "19     IKEA - UPPTÄCKA Backpack, dark gray, yellow-or...  \n",
       "...                                                  ...  \n",
       "18766  TURNMEON Smart Watch for Kids Children Smartwa...  \n",
       "18767  iPad Mini 4 Case, Aceguarder New Design [Dirtp...  \n",
       "18768  MIJIU Nylon Canvas Military Tactical Men Waist...  \n",
       "18770                            Funnel Cup (Ultra Pink)  \n",
       "18771  Linux Ubuntu 16.04 Desktop Server 32bit 64bit ...  \n",
       "\n",
       "[13642 rows x 3 columns]"
      ]
     },
     "execution_count": 9,
     "metadata": {},
     "output_type": "execute_result"
    }
   ],
   "source": [
    "duplicates[duplicates['description']==\"nan\"]"
   ]
  },
  {
   "cell_type": "markdown",
   "metadata": {},
   "source": [
    "Most of the descriptions are empty and are represented by a string \"nan\" and not by numpy NaN."
   ]
  },
  {
   "cell_type": "code",
   "execution_count": 10,
   "metadata": {},
   "outputs": [
    {
     "data": {
      "text/html": [
       "<div>\n",
       "<style scoped>\n",
       "    .dataframe tbody tr th:only-of-type {\n",
       "        vertical-align: middle;\n",
       "    }\n",
       "\n",
       "    .dataframe tbody tr th {\n",
       "        vertical-align: top;\n",
       "    }\n",
       "\n",
       "    .dataframe thead th {\n",
       "        text-align: right;\n",
       "    }\n",
       "</style>\n",
       "<table border=\"1\" class=\"dataframe\">\n",
       "  <thead>\n",
       "    <tr style=\"text-align: right;\">\n",
       "      <th></th>\n",
       "      <th>description</th>\n",
       "    </tr>\n",
       "    <tr>\n",
       "      <th>asin</th>\n",
       "      <th></th>\n",
       "    </tr>\n",
       "  </thead>\n",
       "  <tbody>\n",
       "    <tr>\n",
       "      <th>0321732960</th>\n",
       "      <td>1</td>\n",
       "    </tr>\n",
       "    <tr>\n",
       "      <th>0321735722</th>\n",
       "      <td>1</td>\n",
       "    </tr>\n",
       "    <tr>\n",
       "      <th>0439651859</th>\n",
       "      <td>1</td>\n",
       "    </tr>\n",
       "    <tr>\n",
       "      <th>0545729971</th>\n",
       "      <td>1</td>\n",
       "    </tr>\n",
       "    <tr>\n",
       "      <th>0594450284</th>\n",
       "      <td>1</td>\n",
       "    </tr>\n",
       "  </tbody>\n",
       "</table>\n",
       "</div>"
      ],
      "text/plain": [
       "            description\n",
       "asin                   \n",
       "0321732960            1\n",
       "0321735722            1\n",
       "0439651859            1\n",
       "0545729971            1\n",
       "0594450284            1"
      ]
     },
     "execution_count": 10,
     "metadata": {},
     "output_type": "execute_result"
    }
   ],
   "source": [
    "cnt=duplicates[['asin','description']].groupby('asin').count()\n",
    "cnt.head()"
   ]
  },
  {
   "cell_type": "code",
   "execution_count": 11,
   "metadata": {},
   "outputs": [
    {
     "data": {
      "text/plain": [
       "Index(['description'], dtype='object')"
      ]
     },
     "execution_count": 11,
     "metadata": {},
     "output_type": "execute_result"
    }
   ],
   "source": [
    "cnt.columns"
   ]
  },
  {
   "cell_type": "code",
   "execution_count": 12,
   "metadata": {},
   "outputs": [
    {
     "data": {
      "text/html": [
       "<div>\n",
       "<style scoped>\n",
       "    .dataframe tbody tr th:only-of-type {\n",
       "        vertical-align: middle;\n",
       "    }\n",
       "\n",
       "    .dataframe tbody tr th {\n",
       "        vertical-align: top;\n",
       "    }\n",
       "\n",
       "    .dataframe thead th {\n",
       "        text-align: right;\n",
       "    }\n",
       "</style>\n",
       "<table border=\"1\" class=\"dataframe\">\n",
       "  <thead>\n",
       "    <tr style=\"text-align: right;\">\n",
       "      <th></th>\n",
       "      <th>cnt</th>\n",
       "    </tr>\n",
       "    <tr>\n",
       "      <th>asin</th>\n",
       "      <th></th>\n",
       "    </tr>\n",
       "  </thead>\n",
       "  <tbody>\n",
       "    <tr>\n",
       "      <th>B00001MXZ7</th>\n",
       "      <td>2</td>\n",
       "    </tr>\n",
       "    <tr>\n",
       "      <th>B00003Q09I</th>\n",
       "      <td>2</td>\n",
       "    </tr>\n",
       "    <tr>\n",
       "      <th>B00004SYNG</th>\n",
       "      <td>2</td>\n",
       "    </tr>\n",
       "    <tr>\n",
       "      <th>B00004SYNK</th>\n",
       "      <td>2</td>\n",
       "    </tr>\n",
       "    <tr>\n",
       "      <th>B00004TEBU</th>\n",
       "      <td>2</td>\n",
       "    </tr>\n",
       "  </tbody>\n",
       "</table>\n",
       "</div>"
      ],
      "text/plain": [
       "            cnt\n",
       "asin           \n",
       "B00001MXZ7    2\n",
       "B00003Q09I    2\n",
       "B00004SYNG    2\n",
       "B00004SYNK    2\n",
       "B00004TEBU    2"
      ]
     },
     "execution_count": 12,
     "metadata": {},
     "output_type": "execute_result"
    }
   ],
   "source": [
    "cnt=cnt.rename(columns={'description':'cnt'})\n",
    "cnt[cnt['cnt']>1].head()"
   ]
  },
  {
   "cell_type": "code",
   "execution_count": 13,
   "metadata": {},
   "outputs": [
    {
     "data": {
      "text/plain": [
       "(18521, 1)"
      ]
     },
     "execution_count": 13,
     "metadata": {},
     "output_type": "execute_result"
    }
   ],
   "source": [
    "cnt.shape"
   ]
  },
  {
   "cell_type": "code",
   "execution_count": 14,
   "metadata": {},
   "outputs": [
    {
     "data": {
      "text/html": [
       "<div>\n",
       "<style scoped>\n",
       "    .dataframe tbody tr th:only-of-type {\n",
       "        vertical-align: middle;\n",
       "    }\n",
       "\n",
       "    .dataframe tbody tr th {\n",
       "        vertical-align: top;\n",
       "    }\n",
       "\n",
       "    .dataframe thead th {\n",
       "        text-align: right;\n",
       "    }\n",
       "</style>\n",
       "<table border=\"1\" class=\"dataframe\">\n",
       "  <thead>\n",
       "    <tr style=\"text-align: right;\">\n",
       "      <th></th>\n",
       "      <th>cnt</th>\n",
       "    </tr>\n",
       "    <tr>\n",
       "      <th>asin</th>\n",
       "      <th></th>\n",
       "    </tr>\n",
       "  </thead>\n",
       "  <tbody>\n",
       "  </tbody>\n",
       "</table>\n",
       "</div>"
      ],
      "text/plain": [
       "Empty DataFrame\n",
       "Columns: [cnt]\n",
       "Index: []"
      ]
     },
     "execution_count": 14,
     "metadata": {},
     "output_type": "execute_result"
    }
   ],
   "source": [
    "cnt[cnt['cnt']>2].head()"
   ]
  },
  {
   "cell_type": "markdown",
   "metadata": {},
   "source": [
    "There is no asin ID that is in the dataset more than twice"
   ]
  },
  {
   "cell_type": "code",
   "execution_count": 15,
   "metadata": {},
   "outputs": [
    {
     "data": {
      "text/html": [
       "<div>\n",
       "<style scoped>\n",
       "    .dataframe tbody tr th:only-of-type {\n",
       "        vertical-align: middle;\n",
       "    }\n",
       "\n",
       "    .dataframe tbody tr th {\n",
       "        vertical-align: top;\n",
       "    }\n",
       "\n",
       "    .dataframe thead th {\n",
       "        text-align: right;\n",
       "    }\n",
       "</style>\n",
       "<table border=\"1\" class=\"dataframe\">\n",
       "  <thead>\n",
       "    <tr style=\"text-align: right;\">\n",
       "      <th></th>\n",
       "      <th>asin</th>\n",
       "      <th>cnt</th>\n",
       "    </tr>\n",
       "  </thead>\n",
       "  <tbody>\n",
       "    <tr>\n",
       "      <th>0</th>\n",
       "      <td>0321732960</td>\n",
       "      <td>1</td>\n",
       "    </tr>\n",
       "    <tr>\n",
       "      <th>1</th>\n",
       "      <td>0321735722</td>\n",
       "      <td>1</td>\n",
       "    </tr>\n",
       "    <tr>\n",
       "      <th>2</th>\n",
       "      <td>0439651859</td>\n",
       "      <td>1</td>\n",
       "    </tr>\n",
       "    <tr>\n",
       "      <th>3</th>\n",
       "      <td>0545729971</td>\n",
       "      <td>1</td>\n",
       "    </tr>\n",
       "    <tr>\n",
       "      <th>4</th>\n",
       "      <td>0594450284</td>\n",
       "      <td>1</td>\n",
       "    </tr>\n",
       "  </tbody>\n",
       "</table>\n",
       "</div>"
      ],
      "text/plain": [
       "         asin  cnt\n",
       "0  0321732960    1\n",
       "1  0321735722    1\n",
       "2  0439651859    1\n",
       "3  0545729971    1\n",
       "4  0594450284    1"
      ]
     },
     "execution_count": 15,
     "metadata": {},
     "output_type": "execute_result"
    }
   ],
   "source": [
    "cnt=cnt.reset_index()\n",
    "#cnt=cnt.drop('level_0', axis=1)\n",
    "cnt.head()"
   ]
  },
  {
   "cell_type": "code",
   "execution_count": 16,
   "metadata": {},
   "outputs": [
    {
     "name": "stdout",
     "output_type": "stream",
     "text": [
      "cnt dtypes:\n",
      "asin    object\n",
      "cnt      int64\n",
      "dtype: object\n",
      "----------------\n",
      "duplicates dtypes:\n",
      "asin           object\n",
      "description    object\n",
      "title          object\n",
      "dtype: object\n"
     ]
    }
   ],
   "source": [
    "print('cnt dtypes:')\n",
    "print(cnt.dtypes)\n",
    "print('----------------')\n",
    "print('duplicates dtypes:')\n",
    "print(duplicates.dtypes)"
   ]
  },
  {
   "cell_type": "code",
   "execution_count": 17,
   "metadata": {},
   "outputs": [
    {
     "data": {
      "text/html": [
       "<div>\n",
       "<style scoped>\n",
       "    .dataframe tbody tr th:only-of-type {\n",
       "        vertical-align: middle;\n",
       "    }\n",
       "\n",
       "    .dataframe tbody tr th {\n",
       "        vertical-align: top;\n",
       "    }\n",
       "\n",
       "    .dataframe thead th {\n",
       "        text-align: right;\n",
       "    }\n",
       "</style>\n",
       "<table border=\"1\" class=\"dataframe\">\n",
       "  <thead>\n",
       "    <tr style=\"text-align: right;\">\n",
       "      <th></th>\n",
       "      <th>asin</th>\n",
       "      <th>description</th>\n",
       "      <th>title</th>\n",
       "      <th>cnt</th>\n",
       "    </tr>\n",
       "  </thead>\n",
       "  <tbody>\n",
       "    <tr>\n",
       "      <th>0</th>\n",
       "      <td>0321732960</td>\n",
       "      <td>Brand new. Still in factory-sealed plastic.</td>\n",
       "      <td>Kelby Training DVD: The Adobe Photoshop CS5 7-...</td>\n",
       "      <td>1</td>\n",
       "    </tr>\n",
       "    <tr>\n",
       "      <th>1</th>\n",
       "      <td>0321735722</td>\n",
       "      <td>If you're already a Photoshop user and want a ...</td>\n",
       "      <td>Kelby Training DVD: Adobe Photoshop CS5 Power ...</td>\n",
       "      <td>1</td>\n",
       "    </tr>\n",
       "    <tr>\n",
       "      <th>2</th>\n",
       "      <td>0439651859</td>\n",
       "      <td>School To Home Notes: Note From the Teacher!\\n...</td>\n",
       "      <td>TEACHERS FRIEND NOTE FROM THE TEACHER SCHOOL T...</td>\n",
       "      <td>1</td>\n",
       "    </tr>\n",
       "    <tr>\n",
       "      <th>3</th>\n",
       "      <td>0545729971</td>\n",
       "      <td>Dooqi is a young brand specializing in high-en...</td>\n",
       "      <td>[3-pack]Ipad Mini Screen Protector, Dooqi Scre...</td>\n",
       "      <td>1</td>\n",
       "    </tr>\n",
       "    <tr>\n",
       "      <th>4</th>\n",
       "      <td>0594450284</td>\n",
       "      <td>Cover for Nook HD</td>\n",
       "      <td>Hd+ Cheetah Cover- Nook</td>\n",
       "      <td>1</td>\n",
       "    </tr>\n",
       "  </tbody>\n",
       "</table>\n",
       "</div>"
      ],
      "text/plain": [
       "         asin                                        description  \\\n",
       "0  0321732960        Brand new. Still in factory-sealed plastic.   \n",
       "1  0321735722  If you're already a Photoshop user and want a ...   \n",
       "2  0439651859  School To Home Notes: Note From the Teacher!\\n...   \n",
       "3  0545729971  Dooqi is a young brand specializing in high-en...   \n",
       "4  0594450284                                  Cover for Nook HD   \n",
       "\n",
       "                                               title  cnt  \n",
       "0  Kelby Training DVD: The Adobe Photoshop CS5 7-...    1  \n",
       "1  Kelby Training DVD: Adobe Photoshop CS5 Power ...    1  \n",
       "2  TEACHERS FRIEND NOTE FROM THE TEACHER SCHOOL T...    1  \n",
       "3  [3-pack]Ipad Mini Screen Protector, Dooqi Scre...    1  \n",
       "4                            Hd+ Cheetah Cover- Nook    1  "
      ]
     },
     "execution_count": 17,
     "metadata": {},
     "output_type": "execute_result"
    }
   ],
   "source": [
    "duplicates=duplicates.merge(cnt, on='asin',how='left')\n",
    "duplicates.head()"
   ]
  },
  {
   "cell_type": "code",
   "execution_count": 18,
   "metadata": {},
   "outputs": [
    {
     "data": {
      "text/html": [
       "<div>\n",
       "<style scoped>\n",
       "    .dataframe tbody tr th:only-of-type {\n",
       "        vertical-align: middle;\n",
       "    }\n",
       "\n",
       "    .dataframe tbody tr th {\n",
       "        vertical-align: top;\n",
       "    }\n",
       "\n",
       "    .dataframe thead th {\n",
       "        text-align: right;\n",
       "    }\n",
       "</style>\n",
       "<table border=\"1\" class=\"dataframe\">\n",
       "  <thead>\n",
       "    <tr style=\"text-align: right;\">\n",
       "      <th></th>\n",
       "      <th>asin</th>\n",
       "      <th>description</th>\n",
       "      <th>title</th>\n",
       "      <th>cnt</th>\n",
       "    </tr>\n",
       "  </thead>\n",
       "  <tbody>\n",
       "    <tr>\n",
       "      <th>38</th>\n",
       "      <td>B00001MXZ7</td>\n",
       "      <td>The EO2010 21-inch (20.1-inch viewable) displa...</td>\n",
       "      <td>Princeton Eo2010 21\" Monitor (Pc/Mac)</td>\n",
       "      <td>2</td>\n",
       "    </tr>\n",
       "    <tr>\n",
       "      <th>39</th>\n",
       "      <td>B00003Q09I</td>\n",
       "      <td>The ViewSonic GS790 Short Neck 19-inch monitor...</td>\n",
       "      <td>Viewsonic Gs790 19\" Short Neck Monitor (Pc/Mac)</td>\n",
       "      <td>2</td>\n",
       "    </tr>\n",
       "    <tr>\n",
       "      <th>40</th>\n",
       "      <td>B00004SYNG</td>\n",
       "      <td>NEC's AccuSync line of monitors is the company...</td>\n",
       "      <td>NEC AccuSync 50 15\" Monitor (PC/Mac)</td>\n",
       "      <td>2</td>\n",
       "    </tr>\n",
       "    <tr>\n",
       "      <th>41</th>\n",
       "      <td>B00004SYNK</td>\n",
       "      <td>If you're looking to move on from a teeny-tiny...</td>\n",
       "      <td>NEC AccuSync 90 19\" Monitor (PC/Mac)</td>\n",
       "      <td>2</td>\n",
       "    </tr>\n",
       "    <tr>\n",
       "      <th>42</th>\n",
       "      <td>B00004TEBU</td>\n",
       "      <td>The Viking IntelliFlash USB flash memory reade...</td>\n",
       "      <td>Test Big Data 9658</td>\n",
       "      <td>2</td>\n",
       "    </tr>\n",
       "    <tr>\n",
       "      <th>43</th>\n",
       "      <td>B00004TS2P</td>\n",
       "      <td>The ViewSonic E-790 19-inch monitor provides c...</td>\n",
       "      <td>ViewSonic E790 19\" Monitor</td>\n",
       "      <td>2</td>\n",
       "    </tr>\n",
       "    <tr>\n",
       "      <th>44</th>\n",
       "      <td>B00004TS2Q</td>\n",
       "      <td>The ViewSonic E-790B 19-inch monitor provides ...</td>\n",
       "      <td>ViewSonic E-790B 19\" Monitor</td>\n",
       "      <td>2</td>\n",
       "    </tr>\n",
       "    <tr>\n",
       "      <th>45</th>\n",
       "      <td>B00004TS2O</td>\n",
       "      <td>The Optiquest Q-95 19-inch CRT monitor with Pe...</td>\n",
       "      <td>Optiquest Q-95 19\" Monitor</td>\n",
       "      <td>2</td>\n",
       "    </tr>\n",
       "    <tr>\n",
       "      <th>46</th>\n",
       "      <td>B00004WLQC</td>\n",
       "      <td>nan</td>\n",
       "      <td>Philips 17\" 107P Professional Series Monitor</td>\n",
       "      <td>2</td>\n",
       "    </tr>\n",
       "    <tr>\n",
       "      <th>47</th>\n",
       "      <td>B00004Y74O</td>\n",
       "      <td>The NEC MultiSync FE950 monitor features NEC's...</td>\n",
       "      <td>NEC MultiSync FE950 Totally Flat 19\" Monitor (...</td>\n",
       "      <td>2</td>\n",
       "    </tr>\n",
       "  </tbody>\n",
       "</table>\n",
       "</div>"
      ],
      "text/plain": [
       "          asin                                        description  \\\n",
       "38  B00001MXZ7  The EO2010 21-inch (20.1-inch viewable) displa...   \n",
       "39  B00003Q09I  The ViewSonic GS790 Short Neck 19-inch monitor...   \n",
       "40  B00004SYNG  NEC's AccuSync line of monitors is the company...   \n",
       "41  B00004SYNK  If you're looking to move on from a teeny-tiny...   \n",
       "42  B00004TEBU  The Viking IntelliFlash USB flash memory reade...   \n",
       "43  B00004TS2P  The ViewSonic E-790 19-inch monitor provides c...   \n",
       "44  B00004TS2Q  The ViewSonic E-790B 19-inch monitor provides ...   \n",
       "45  B00004TS2O  The Optiquest Q-95 19-inch CRT monitor with Pe...   \n",
       "46  B00004WLQC                                                nan   \n",
       "47  B00004Y74O  The NEC MultiSync FE950 monitor features NEC's...   \n",
       "\n",
       "                                                title  cnt  \n",
       "38              Princeton Eo2010 21\" Monitor (Pc/Mac)    2  \n",
       "39    Viewsonic Gs790 19\" Short Neck Monitor (Pc/Mac)    2  \n",
       "40               NEC AccuSync 50 15\" Monitor (PC/Mac)    2  \n",
       "41               NEC AccuSync 90 19\" Monitor (PC/Mac)    2  \n",
       "42                                 Test Big Data 9658    2  \n",
       "43                         ViewSonic E790 19\" Monitor    2  \n",
       "44                       ViewSonic E-790B 19\" Monitor    2  \n",
       "45                         Optiquest Q-95 19\" Monitor    2  \n",
       "46       Philips 17\" 107P Professional Series Monitor    2  \n",
       "47  NEC MultiSync FE950 Totally Flat 19\" Monitor (...    2  "
      ]
     },
     "execution_count": 18,
     "metadata": {},
     "output_type": "execute_result"
    }
   ],
   "source": [
    "duplicates=duplicates[duplicates['cnt']>1]\n",
    "duplicates.head(10)"
   ]
  },
  {
   "cell_type": "code",
   "execution_count": 19,
   "metadata": {},
   "outputs": [
    {
     "data": {
      "text/plain": [
       "502"
      ]
     },
     "execution_count": 19,
     "metadata": {},
     "output_type": "execute_result"
    }
   ],
   "source": [
    "duplicates.shape[0]"
   ]
  },
  {
   "cell_type": "code",
   "execution_count": 20,
   "metadata": {},
   "outputs": [
    {
     "data": {
      "text/html": [
       "<div>\n",
       "<style scoped>\n",
       "    .dataframe tbody tr th:only-of-type {\n",
       "        vertical-align: middle;\n",
       "    }\n",
       "\n",
       "    .dataframe tbody tr th {\n",
       "        vertical-align: top;\n",
       "    }\n",
       "\n",
       "    .dataframe thead th {\n",
       "        text-align: right;\n",
       "    }\n",
       "</style>\n",
       "<table border=\"1\" class=\"dataframe\">\n",
       "  <thead>\n",
       "    <tr style=\"text-align: right;\">\n",
       "      <th></th>\n",
       "      <th>asin</th>\n",
       "      <th>description</th>\n",
       "      <th>title</th>\n",
       "    </tr>\n",
       "  </thead>\n",
       "  <tbody>\n",
       "    <tr>\n",
       "      <th>0</th>\n",
       "      <td>B00001MXZ7</td>\n",
       "      <td>The EO2010 21-inch (20.1-inch viewable) displa...</td>\n",
       "      <td>Princeton Eo2010 21\" Monitor (Pc/Mac)</td>\n",
       "    </tr>\n",
       "    <tr>\n",
       "      <th>1</th>\n",
       "      <td>B00003Q09I</td>\n",
       "      <td>The ViewSonic GS790 Short Neck 19-inch monitor...</td>\n",
       "      <td>Viewsonic Gs790 19\" Short Neck Monitor (Pc/Mac)</td>\n",
       "    </tr>\n",
       "    <tr>\n",
       "      <th>2</th>\n",
       "      <td>B00004SYNG</td>\n",
       "      <td>NEC's AccuSync line of monitors is the company...</td>\n",
       "      <td>NEC AccuSync 50 15\" Monitor (PC/Mac)</td>\n",
       "    </tr>\n",
       "    <tr>\n",
       "      <th>3</th>\n",
       "      <td>B00004SYNK</td>\n",
       "      <td>If you're looking to move on from a teeny-tiny...</td>\n",
       "      <td>NEC AccuSync 90 19\" Monitor (PC/Mac)</td>\n",
       "    </tr>\n",
       "    <tr>\n",
       "      <th>4</th>\n",
       "      <td>B00004TEBU</td>\n",
       "      <td>The Viking IntelliFlash USB flash memory reade...</td>\n",
       "      <td>Test Big Data 9658</td>\n",
       "    </tr>\n",
       "    <tr>\n",
       "      <th>5</th>\n",
       "      <td>B00004TS2P</td>\n",
       "      <td>The ViewSonic E-790 19-inch monitor provides c...</td>\n",
       "      <td>ViewSonic E790 19\" Monitor</td>\n",
       "    </tr>\n",
       "    <tr>\n",
       "      <th>6</th>\n",
       "      <td>B00004TS2Q</td>\n",
       "      <td>The ViewSonic E-790B 19-inch monitor provides ...</td>\n",
       "      <td>ViewSonic E-790B 19\" Monitor</td>\n",
       "    </tr>\n",
       "    <tr>\n",
       "      <th>7</th>\n",
       "      <td>B00004TS2O</td>\n",
       "      <td>The Optiquest Q-95 19-inch CRT monitor with Pe...</td>\n",
       "      <td>Optiquest Q-95 19\" Monitor</td>\n",
       "    </tr>\n",
       "    <tr>\n",
       "      <th>8</th>\n",
       "      <td>B00004WLQC</td>\n",
       "      <td>nan</td>\n",
       "      <td>Philips 17\" 107P Professional Series Monitor</td>\n",
       "    </tr>\n",
       "    <tr>\n",
       "      <th>9</th>\n",
       "      <td>B00004Y74O</td>\n",
       "      <td>The NEC MultiSync FE950 monitor features NEC's...</td>\n",
       "      <td>NEC MultiSync FE950 Totally Flat 19\" Monitor (...</td>\n",
       "    </tr>\n",
       "  </tbody>\n",
       "</table>\n",
       "</div>"
      ],
      "text/plain": [
       "         asin                                        description  \\\n",
       "0  B00001MXZ7  The EO2010 21-inch (20.1-inch viewable) displa...   \n",
       "1  B00003Q09I  The ViewSonic GS790 Short Neck 19-inch monitor...   \n",
       "2  B00004SYNG  NEC's AccuSync line of monitors is the company...   \n",
       "3  B00004SYNK  If you're looking to move on from a teeny-tiny...   \n",
       "4  B00004TEBU  The Viking IntelliFlash USB flash memory reade...   \n",
       "5  B00004TS2P  The ViewSonic E-790 19-inch monitor provides c...   \n",
       "6  B00004TS2Q  The ViewSonic E-790B 19-inch monitor provides ...   \n",
       "7  B00004TS2O  The Optiquest Q-95 19-inch CRT monitor with Pe...   \n",
       "8  B00004WLQC                                                nan   \n",
       "9  B00004Y74O  The NEC MultiSync FE950 monitor features NEC's...   \n",
       "\n",
       "                                               title  \n",
       "0              Princeton Eo2010 21\" Monitor (Pc/Mac)  \n",
       "1    Viewsonic Gs790 19\" Short Neck Monitor (Pc/Mac)  \n",
       "2               NEC AccuSync 50 15\" Monitor (PC/Mac)  \n",
       "3               NEC AccuSync 90 19\" Monitor (PC/Mac)  \n",
       "4                                 Test Big Data 9658  \n",
       "5                         ViewSonic E790 19\" Monitor  \n",
       "6                       ViewSonic E-790B 19\" Monitor  \n",
       "7                         Optiquest Q-95 19\" Monitor  \n",
       "8       Philips 17\" 107P Professional Series Monitor  \n",
       "9  NEC MultiSync FE950 Totally Flat 19\" Monitor (...  "
      ]
     },
     "execution_count": 20,
     "metadata": {},
     "output_type": "execute_result"
    }
   ],
   "source": [
    "duplicates.reset_index(inplace=True)\n",
    "duplicates.drop('cnt',axis=1,inplace=True)\n",
    "duplicates.drop(['index'],axis=1,inplace=True)\n",
    "#duplicates=duplicates[['asin','title','description']]\n",
    "duplicates.head(10)"
   ]
  },
  {
   "cell_type": "code",
   "execution_count": 21,
   "metadata": {},
   "outputs": [
    {
     "data": {
      "text/plain": [
       "B00008SCF5    2\n",
       "B00011CRZY    2\n",
       "B000056SMP    2\n",
       "B00004Y74J    2\n",
       "B00008435E    2\n",
       "             ..\n",
       "B00005T79K    2\n",
       "B0002262IA    2\n",
       "B0000AZJUX    2\n",
       "B000234VXC    2\n",
       "B00005Y0JH    2\n",
       "Name: asin, Length: 251, dtype: int64"
      ]
     },
     "execution_count": 21,
     "metadata": {},
     "output_type": "execute_result"
    }
   ],
   "source": [
    "duplicates['asin'].value_counts()"
   ]
  },
  {
   "cell_type": "code",
   "execution_count": 22,
   "metadata": {},
   "outputs": [
    {
     "data": {
      "text/html": [
       "<div>\n",
       "<style scoped>\n",
       "    .dataframe tbody tr th:only-of-type {\n",
       "        vertical-align: middle;\n",
       "    }\n",
       "\n",
       "    .dataframe tbody tr th {\n",
       "        vertical-align: top;\n",
       "    }\n",
       "\n",
       "    .dataframe thead th {\n",
       "        text-align: right;\n",
       "    }\n",
       "</style>\n",
       "<table border=\"1\" class=\"dataframe\">\n",
       "  <thead>\n",
       "    <tr style=\"text-align: right;\">\n",
       "      <th></th>\n",
       "      <th>description</th>\n",
       "    </tr>\n",
       "    <tr>\n",
       "      <th>identifier</th>\n",
       "      <th></th>\n",
       "    </tr>\n",
       "  </thead>\n",
       "  <tbody>\n",
       "    <tr>\n",
       "      <th>B00001MXZ7-Princeton Eo2010 21\" Monitor (Pc/Mac)</th>\n",
       "      <td>2</td>\n",
       "    </tr>\n",
       "    <tr>\n",
       "      <th>B00003Q09I-Viewsonic Gs790 19\" Short Neck Monitor (Pc/Mac)</th>\n",
       "      <td>2</td>\n",
       "    </tr>\n",
       "    <tr>\n",
       "      <th>B00004SYNG-NEC AccuSync 50 15\" Monitor (PC/Mac)</th>\n",
       "      <td>2</td>\n",
       "    </tr>\n",
       "    <tr>\n",
       "      <th>B00004SYNK-NEC AccuSync 90 19\" Monitor (PC/Mac)</th>\n",
       "      <td>2</td>\n",
       "    </tr>\n",
       "    <tr>\n",
       "      <th>B00004TEBU-Test Big Data 9658</th>\n",
       "      <td>2</td>\n",
       "    </tr>\n",
       "  </tbody>\n",
       "</table>\n",
       "</div>"
      ],
      "text/plain": [
       "                                                    description\n",
       "identifier                                                     \n",
       "B00001MXZ7-Princeton Eo2010 21\" Monitor (Pc/Mac)              2\n",
       "B00003Q09I-Viewsonic Gs790 19\" Short Neck Monit...            2\n",
       "B00004SYNG-NEC AccuSync 50 15\" Monitor (PC/Mac)               2\n",
       "B00004SYNK-NEC AccuSync 90 19\" Monitor (PC/Mac)               2\n",
       "B00004TEBU-Test Big Data 9658                                 2"
      ]
     },
     "execution_count": 22,
     "metadata": {},
     "output_type": "execute_result"
    }
   ],
   "source": [
    "temp=pd.Series(['-']*duplicates.shape[0])\n",
    "duplicates['identifier']=duplicates['asin'].str.cat(temp.str.cat(duplicates['title']))\n",
    "#duplicates.drop(['asin','title'], axis=1, inplace=True)\n",
    "true_duplicates=duplicates.drop(['asin','title'], axis=1).groupby(['identifier']).count()\n",
    "true_duplicates.head()"
   ]
  },
  {
   "cell_type": "code",
   "execution_count": 23,
   "metadata": {},
   "outputs": [
    {
     "data": {
      "text/plain": [
       "(251, 1)"
      ]
     },
     "execution_count": 23,
     "metadata": {},
     "output_type": "execute_result"
    }
   ],
   "source": [
    "true_duplicates.shape"
   ]
  },
  {
   "cell_type": "code",
   "execution_count": 24,
   "metadata": {},
   "outputs": [],
   "source": [
    "true_duplicates.rename(columns={'description':'cnt'}, inplace=True)\n",
    "true_duplicates=true_duplicates[true_duplicates['cnt']>1]\n",
    "true_duplicates.reset_index(inplace=True)"
   ]
  },
  {
   "cell_type": "code",
   "execution_count": 25,
   "metadata": {},
   "outputs": [
    {
     "name": "stdout",
     "output_type": "stream",
     "text": [
      "# duplicates: B00008SCF5    2\n",
      "B00011CRZY    2\n",
      "B000056SMP    2\n",
      "B00004Y74J    2\n",
      "B00008435E    2\n",
      "             ..\n",
      "B00005T79K    2\n",
      "B0002262IA    2\n",
      "B0000AZJUX    2\n",
      "B000234VXC    2\n",
      "B00005Y0JH    2\n",
      "Name: asin, Length: 251, dtype: int64\n",
      "-----------------------\n",
      "# true duplicates: B0002V83QK-PORT CHICAGO II NOTEBOOK BAG                                                                                                               1\n",
      "B0001K5OAA-Gateway FMC-901X Family Room Media Center (3.0 GHz Pentium 4, 512 MB RAM, 250 GB Hard Drive, DVD-Burner) (Discontinued by Manufacturer)    1\n",
      "B00005UT2Y-Compaq Presario 715US Laptop (1.2-GHz Athlon 4, 256 MB RAM, 20 GB hard drive)                                                              1\n",
      "B0000A1EDS-HP COMPAQ NX7000 P4-1.4 CENT ( DL854A#ABA )                                                                                                1\n",
      "B00005Y0JI-Toshiba Satellite 1005-S157 Laptop (1.06-GHz Celeron, 256 MB RAM, 15 GB hard drive)                                                        1\n",
      "                                                                                                                                                     ..\n",
      "B000066SSW-HP Pavilion ZT1155 Notebook (1.4GHz Intel Pentium IIII, 256MB RAM, 20GB Hard Drive)                                                        1\n",
      "B00007M9SW-HP Pavilion ze5270 Laptop (2.40-GHz Pentium 4, 512 MB RAM, 40 GB Hard Drive)                                                               1\n",
      "B00004Z9YX-ViewSonic 14.1IN LCD 1024X768 75 Hz Vp140-3 Analog Tco 99                                                                                  1\n",
      "B00005V5YR-Apple iBook Laptop M8597LL/A (500-MHz PowerPC G3, 128 MB RAM, 15 GB hard drive)                                                            1\n",
      "B00006IVXY-Apple eMac 17\" Desktop M8891LL/A (700-MHz PowerPC G4, 128 MB RAM, 40GB Hard Drive, DVD/CD-RW Drive) (Discontinued by Manufacturer)         1\n",
      "Name: identifier, Length: 251, dtype: int64\n"
     ]
    }
   ],
   "source": [
    "print('# duplicates:', duplicates['asin'].value_counts())\n",
    "print('-----------------------')\n",
    "print('# true duplicates:', true_duplicates['identifier'].value_counts())"
   ]
  },
  {
   "cell_type": "markdown",
   "metadata": {},
   "source": [
    "All the 502 duplicates are true duplicates i.e same ID and same title"
   ]
  },
  {
   "cell_type": "markdown",
   "metadata": {},
   "source": [
    "## image, brand, rank, main_cat"
   ]
  },
  {
   "cell_type": "code",
   "execution_count": 26,
   "metadata": {},
   "outputs": [
    {
     "data": {
      "text/html": [
       "<div>\n",
       "<style scoped>\n",
       "    .dataframe tbody tr th:only-of-type {\n",
       "        vertical-align: middle;\n",
       "    }\n",
       "\n",
       "    .dataframe tbody tr th {\n",
       "        vertical-align: top;\n",
       "    }\n",
       "\n",
       "    .dataframe thead th {\n",
       "        text-align: right;\n",
       "    }\n",
       "</style>\n",
       "<table border=\"1\" class=\"dataframe\">\n",
       "  <thead>\n",
       "    <tr style=\"text-align: right;\">\n",
       "      <th></th>\n",
       "      <th>asin</th>\n",
       "      <th>image</th>\n",
       "      <th>brand</th>\n",
       "      <th>rank</th>\n",
       "      <th>main_cat</th>\n",
       "    </tr>\n",
       "  </thead>\n",
       "  <tbody>\n",
       "    <tr>\n",
       "      <th>0</th>\n",
       "      <td>0321732960</td>\n",
       "      <td>[https://images-na.ssl-images-amazon.com/image...</td>\n",
       "      <td>Kelby Training</td>\n",
       "      <td>[&gt;#654,681 in Electronics (See Top 100 in Elec...</td>\n",
       "      <td>Computers</td>\n",
       "    </tr>\n",
       "    <tr>\n",
       "      <th>1</th>\n",
       "      <td>0321735722</td>\n",
       "      <td>[https://images-na.ssl-images-amazon.com/image...</td>\n",
       "      <td>Kelby Training</td>\n",
       "      <td>[&gt;#830,165 in Electronics (See Top 100 in Elec...</td>\n",
       "      <td>Computers</td>\n",
       "    </tr>\n",
       "    <tr>\n",
       "      <th>2</th>\n",
       "      <td>0439651859</td>\n",
       "      <td>[https://images-na.ssl-images-amazon.com/image...</td>\n",
       "      <td>TEACHERS FRIEND</td>\n",
       "      <td>[&gt;#1,233,887 in Electronics (See Top 100 in El...</td>\n",
       "      <td>Computers</td>\n",
       "    </tr>\n",
       "    <tr>\n",
       "      <th>3</th>\n",
       "      <td>0545729971</td>\n",
       "      <td>[https://images-na.ssl-images-amazon.com/image...</td>\n",
       "      <td>dooqi</td>\n",
       "      <td>[&gt;#454,595 in Electronics (See Top 100 in Elec...</td>\n",
       "      <td>Computers</td>\n",
       "    </tr>\n",
       "    <tr>\n",
       "      <th>4</th>\n",
       "      <td>0594450284</td>\n",
       "      <td>NaN</td>\n",
       "      <td>Nook</td>\n",
       "      <td>[&gt;#85,661 in Computers &amp; Accessories (See top ...</td>\n",
       "      <td>Computers</td>\n",
       "    </tr>\n",
       "    <tr>\n",
       "      <th>5</th>\n",
       "      <td>0594626412</td>\n",
       "      <td>[https://images-na.ssl-images-amazon.com/image...</td>\n",
       "      <td>Samsung</td>\n",
       "      <td>[&gt;#1,013,527 in Electronics (See Top 100 in El...</td>\n",
       "      <td>Computers</td>\n",
       "    </tr>\n",
       "    <tr>\n",
       "      <th>6</th>\n",
       "      <td>0594626730</td>\n",
       "      <td>[https://images-na.ssl-images-amazon.com/image...</td>\n",
       "      <td>Barnes and Noble</td>\n",
       "      <td>[&gt;#211,266 in Electronics (See Top 100 in Elec...</td>\n",
       "      <td>Computers</td>\n",
       "    </tr>\n",
       "    <tr>\n",
       "      <th>7</th>\n",
       "      <td>0879394021</td>\n",
       "      <td>NaN</td>\n",
       "      <td>IFSTA</td>\n",
       "      <td>[&gt;#1,376,546 in Electronics (See Top 100 in El...</td>\n",
       "      <td>Computers</td>\n",
       "    </tr>\n",
       "    <tr>\n",
       "      <th>8</th>\n",
       "      <td>0988576902</td>\n",
       "      <td>[https://images-na.ssl-images-amazon.com/image...</td>\n",
       "      <td>Enter The Arena</td>\n",
       "      <td>[&gt;#212,572 in Electronics (See Top 100 in Elec...</td>\n",
       "      <td>Computers</td>\n",
       "    </tr>\n",
       "    <tr>\n",
       "      <th>9</th>\n",
       "      <td>1400501784</td>\n",
       "      <td>[https://images-na.ssl-images-amazon.com/image...</td>\n",
       "      <td>Barnes &amp;amp; Noble</td>\n",
       "      <td>[&gt;#39,745 in Computers &amp; Accessories (See top ...</td>\n",
       "      <td>Computers</td>\n",
       "    </tr>\n",
       "  </tbody>\n",
       "</table>\n",
       "</div>"
      ],
      "text/plain": [
       "         asin                                              image  \\\n",
       "0  0321732960  [https://images-na.ssl-images-amazon.com/image...   \n",
       "1  0321735722  [https://images-na.ssl-images-amazon.com/image...   \n",
       "2  0439651859  [https://images-na.ssl-images-amazon.com/image...   \n",
       "3  0545729971  [https://images-na.ssl-images-amazon.com/image...   \n",
       "4  0594450284                                                NaN   \n",
       "5  0594626412  [https://images-na.ssl-images-amazon.com/image...   \n",
       "6  0594626730  [https://images-na.ssl-images-amazon.com/image...   \n",
       "7  0879394021                                                NaN   \n",
       "8  0988576902  [https://images-na.ssl-images-amazon.com/image...   \n",
       "9  1400501784  [https://images-na.ssl-images-amazon.com/image...   \n",
       "\n",
       "                brand                                               rank  \\\n",
       "0      Kelby Training  [>#654,681 in Electronics (See Top 100 in Elec...   \n",
       "1      Kelby Training  [>#830,165 in Electronics (See Top 100 in Elec...   \n",
       "2     TEACHERS FRIEND  [>#1,233,887 in Electronics (See Top 100 in El...   \n",
       "3               dooqi  [>#454,595 in Electronics (See Top 100 in Elec...   \n",
       "4                Nook  [>#85,661 in Computers & Accessories (See top ...   \n",
       "5             Samsung  [>#1,013,527 in Electronics (See Top 100 in El...   \n",
       "6    Barnes and Noble  [>#211,266 in Electronics (See Top 100 in Elec...   \n",
       "7               IFSTA  [>#1,376,546 in Electronics (See Top 100 in El...   \n",
       "8     Enter The Arena  [>#212,572 in Electronics (See Top 100 in Elec...   \n",
       "9  Barnes &amp; Noble  [>#39,745 in Computers & Accessories (See top ...   \n",
       "\n",
       "    main_cat  \n",
       "0  Computers  \n",
       "1  Computers  \n",
       "2  Computers  \n",
       "3  Computers  \n",
       "4  Computers  \n",
       "5  Computers  \n",
       "6  Computers  \n",
       "7  Computers  \n",
       "8  Computers  \n",
       "9  Computers  "
      ]
     },
     "execution_count": 26,
     "metadata": {},
     "output_type": "execute_result"
    }
   ],
   "source": [
    "market=meta_data[['asin','image','brand','rank','main_cat']]\n",
    "market.head(10)"
   ]
  },
  {
   "cell_type": "markdown",
   "metadata": {},
   "source": [
    "image and rank like descriptions are enclosed in lists"
   ]
  },
  {
   "cell_type": "code",
   "execution_count": 27,
   "metadata": {},
   "outputs": [
    {
     "name": "stdout",
     "output_type": "stream",
     "text": [
      "Image:  https://images-na.ssl-images-amazon.com/images/I/31IlLImCVJL._SS40_.jpg\n",
      "Rank:  >#654,681 in Electronics (See Top 100 in Electronics)\n",
      "Image:  https://images-na.ssl-images-amazon.com/images/I/31TvjSNbFwL._SS40_.jpg\n",
      "Rank:  >#830,165 in Electronics (See Top 100 in Electronics)\n",
      "Image:  https://images-na.ssl-images-amazon.com/images/I/31GI7SdbS7L._SS40_.jpg\n",
      "Rank:  >#1,233,887 in Electronics (See Top 100 in Electronics)\n",
      "Image:  https://images-na.ssl-images-amazon.com/images/I/515Ui20DGVL._SS40_.jpg\n",
      "Rank:  >#454,595 in Electronics (See Top 100 in Electronics)\n"
     ]
    }
   ],
   "source": [
    "for i in range(4):\n",
    "    print('Image: ',market['image'][i][0])\n",
    "    print('Rank: ',market['rank'][i][0])\n",
    "    "
   ]
  },
  {
   "cell_type": "markdown",
   "metadata": {},
   "source": [
    "* The picture in itself does not necessary bring value but the presence or not of an image could play a role\n",
    "* The rank should be cleaned and transformed into an integer or into a range (categorical variable)"
   ]
  },
  {
   "cell_type": "code",
   "execution_count": 28,
   "metadata": {},
   "outputs": [
    {
     "name": "stderr",
     "output_type": "stream",
     "text": [
      "C:\\Users\\viann\\Anaconda3\\lib\\site-packages\\ipykernel_launcher.py:1: SettingWithCopyWarning: \n",
      "A value is trying to be set on a copy of a slice from a DataFrame.\n",
      "Try using .loc[row_indexer,col_indexer] = value instead\n",
      "\n",
      "See the caveats in the documentation: https://pandas.pydata.org/pandas-docs/stable/user_guide/indexing.html#returning-a-view-versus-a-copy\n",
      "  \"\"\"Entry point for launching an IPython kernel.\n",
      "C:\\Users\\viann\\Anaconda3\\lib\\site-packages\\ipykernel_launcher.py:2: SettingWithCopyWarning: \n",
      "A value is trying to be set on a copy of a slice from a DataFrame.\n",
      "Try using .loc[row_indexer,col_indexer] = value instead\n",
      "\n",
      "See the caveats in the documentation: https://pandas.pydata.org/pandas-docs/stable/user_guide/indexing.html#returning-a-view-versus-a-copy\n",
      "  \n"
     ]
    },
    {
     "data": {
      "text/html": [
       "<div>\n",
       "<style scoped>\n",
       "    .dataframe tbody tr th:only-of-type {\n",
       "        vertical-align: middle;\n",
       "    }\n",
       "\n",
       "    .dataframe tbody tr th {\n",
       "        vertical-align: top;\n",
       "    }\n",
       "\n",
       "    .dataframe thead th {\n",
       "        text-align: right;\n",
       "    }\n",
       "</style>\n",
       "<table border=\"1\" class=\"dataframe\">\n",
       "  <thead>\n",
       "    <tr style=\"text-align: right;\">\n",
       "      <th></th>\n",
       "      <th>asin</th>\n",
       "      <th>image</th>\n",
       "      <th>brand</th>\n",
       "      <th>rank</th>\n",
       "      <th>main_cat</th>\n",
       "    </tr>\n",
       "  </thead>\n",
       "  <tbody>\n",
       "    <tr>\n",
       "      <th>0</th>\n",
       "      <td>0321732960</td>\n",
       "      <td>https://images-na.ssl-images-amazon.com/images...</td>\n",
       "      <td>Kelby Training</td>\n",
       "      <td>&gt;#654,681 in Electronics (See Top 100 in Elect...</td>\n",
       "      <td>Computers</td>\n",
       "    </tr>\n",
       "    <tr>\n",
       "      <th>1</th>\n",
       "      <td>0321735722</td>\n",
       "      <td>https://images-na.ssl-images-amazon.com/images...</td>\n",
       "      <td>Kelby Training</td>\n",
       "      <td>&gt;#830,165 in Electronics (See Top 100 in Elect...</td>\n",
       "      <td>Computers</td>\n",
       "    </tr>\n",
       "    <tr>\n",
       "      <th>2</th>\n",
       "      <td>0439651859</td>\n",
       "      <td>https://images-na.ssl-images-amazon.com/images...</td>\n",
       "      <td>TEACHERS FRIEND</td>\n",
       "      <td>&gt;#1,233,887 in Electronics (See Top 100 in Ele...</td>\n",
       "      <td>Computers</td>\n",
       "    </tr>\n",
       "    <tr>\n",
       "      <th>3</th>\n",
       "      <td>0545729971</td>\n",
       "      <td>https://images-na.ssl-images-amazon.com/images...</td>\n",
       "      <td>dooqi</td>\n",
       "      <td>&gt;#454,595 in Electronics (See Top 100 in Elect...</td>\n",
       "      <td>Computers</td>\n",
       "    </tr>\n",
       "    <tr>\n",
       "      <th>4</th>\n",
       "      <td>0594450284</td>\n",
       "      <td>NaN</td>\n",
       "      <td>Nook</td>\n",
       "      <td>&gt;#85,661 in Computers &amp; Accessories (See top 100)</td>\n",
       "      <td>Computers</td>\n",
       "    </tr>\n",
       "  </tbody>\n",
       "</table>\n",
       "</div>"
      ],
      "text/plain": [
       "         asin                                              image  \\\n",
       "0  0321732960  https://images-na.ssl-images-amazon.com/images...   \n",
       "1  0321735722  https://images-na.ssl-images-amazon.com/images...   \n",
       "2  0439651859  https://images-na.ssl-images-amazon.com/images...   \n",
       "3  0545729971  https://images-na.ssl-images-amazon.com/images...   \n",
       "4  0594450284                                                NaN   \n",
       "\n",
       "             brand                                               rank  \\\n",
       "0   Kelby Training  >#654,681 in Electronics (See Top 100 in Elect...   \n",
       "1   Kelby Training  >#830,165 in Electronics (See Top 100 in Elect...   \n",
       "2  TEACHERS FRIEND  >#1,233,887 in Electronics (See Top 100 in Ele...   \n",
       "3            dooqi  >#454,595 in Electronics (See Top 100 in Elect...   \n",
       "4             Nook  >#85,661 in Computers & Accessories (See top 100)   \n",
       "\n",
       "    main_cat  \n",
       "0  Computers  \n",
       "1  Computers  \n",
       "2  Computers  \n",
       "3  Computers  \n",
       "4  Computers  "
      ]
     },
     "execution_count": 28,
     "metadata": {},
     "output_type": "execute_result"
    }
   ],
   "source": [
    "market['image']=market['image'].apply(lambda x: x[0] if isinstance(x,list) else x)\n",
    "market['rank']=market['rank'].apply(lambda x: x[0] if isinstance(x,list) else x)\n",
    "market.head()"
   ]
  },
  {
   "cell_type": "code",
   "execution_count": 29,
   "metadata": {},
   "outputs": [
    {
     "data": {
      "text/html": [
       "<div>\n",
       "<style scoped>\n",
       "    .dataframe tbody tr th:only-of-type {\n",
       "        vertical-align: middle;\n",
       "    }\n",
       "\n",
       "    .dataframe tbody tr th {\n",
       "        vertical-align: top;\n",
       "    }\n",
       "\n",
       "    .dataframe thead th {\n",
       "        text-align: right;\n",
       "    }\n",
       "</style>\n",
       "<table border=\"1\" class=\"dataframe\">\n",
       "  <thead>\n",
       "    <tr style=\"text-align: right;\">\n",
       "      <th></th>\n",
       "      <th>asin</th>\n",
       "      <th>image</th>\n",
       "      <th>brand</th>\n",
       "      <th>rank</th>\n",
       "      <th>main_cat</th>\n",
       "    </tr>\n",
       "  </thead>\n",
       "  <tbody>\n",
       "    <tr>\n",
       "      <th>count</th>\n",
       "      <td>18772</td>\n",
       "      <td>14084</td>\n",
       "      <td>18295</td>\n",
       "      <td>18080</td>\n",
       "      <td>18772</td>\n",
       "    </tr>\n",
       "    <tr>\n",
       "      <th>unique</th>\n",
       "      <td>18521</td>\n",
       "      <td>12299</td>\n",
       "      <td>5785</td>\n",
       "      <td>17794</td>\n",
       "      <td>1</td>\n",
       "    </tr>\n",
       "    <tr>\n",
       "      <th>top</th>\n",
       "      <td>B0000A277M</td>\n",
       "      <td>https://images-na.ssl-images-amazon.com/images...</td>\n",
       "      <td>HP</td>\n",
       "      <td>&gt;#13,533 in Computers &amp; Accessories (See top 100)</td>\n",
       "      <td>Computers</td>\n",
       "    </tr>\n",
       "    <tr>\n",
       "      <th>freq</th>\n",
       "      <td>2</td>\n",
       "      <td>33</td>\n",
       "      <td>212</td>\n",
       "      <td>2</td>\n",
       "      <td>18772</td>\n",
       "    </tr>\n",
       "  </tbody>\n",
       "</table>\n",
       "</div>"
      ],
      "text/plain": [
       "              asin                                              image  brand  \\\n",
       "count        18772                                              14084  18295   \n",
       "unique       18521                                              12299   5785   \n",
       "top     B0000A277M  https://images-na.ssl-images-amazon.com/images...     HP   \n",
       "freq             2                                                 33    212   \n",
       "\n",
       "                                                     rank   main_cat  \n",
       "count                                               18080      18772  \n",
       "unique                                              17794          1  \n",
       "top     >#13,533 in Computers & Accessories (See top 100)  Computers  \n",
       "freq                                                    2      18772  "
      ]
     },
     "execution_count": 29,
     "metadata": {},
     "output_type": "execute_result"
    }
   ],
   "source": [
    "market.describe(include='all')"
   ]
  },
  {
   "cell_type": "markdown",
   "metadata": {},
   "source": [
    "* Most items do have an image\n",
    "* The category containing the most items is the computer category\n",
    "* There are 17794 for 18772 items, so it is a good sign that the rank is usable"
   ]
  },
  {
   "cell_type": "markdown",
   "metadata": {},
   "source": [
    "# date and price"
   ]
  },
  {
   "cell_type": "code",
   "execution_count": 30,
   "metadata": {},
   "outputs": [
    {
     "data": {
      "text/html": [
       "<div>\n",
       "<style scoped>\n",
       "    .dataframe tbody tr th:only-of-type {\n",
       "        vertical-align: middle;\n",
       "    }\n",
       "\n",
       "    .dataframe tbody tr th {\n",
       "        vertical-align: top;\n",
       "    }\n",
       "\n",
       "    .dataframe thead th {\n",
       "        text-align: right;\n",
       "    }\n",
       "</style>\n",
       "<table border=\"1\" class=\"dataframe\">\n",
       "  <thead>\n",
       "    <tr style=\"text-align: right;\">\n",
       "      <th></th>\n",
       "      <th>asin</th>\n",
       "      <th>date</th>\n",
       "      <th>price</th>\n",
       "    </tr>\n",
       "  </thead>\n",
       "  <tbody>\n",
       "    <tr>\n",
       "      <th>0</th>\n",
       "      <td>0321732960</td>\n",
       "      <td>2011-12-02</td>\n",
       "      <td>NaN</td>\n",
       "    </tr>\n",
       "    <tr>\n",
       "      <th>1</th>\n",
       "      <td>0321735722</td>\n",
       "      <td>2011-11-07</td>\n",
       "      <td>NaN</td>\n",
       "    </tr>\n",
       "    <tr>\n",
       "      <th>2</th>\n",
       "      <td>0439651859</td>\n",
       "      <td>2007-06-06</td>\n",
       "      <td>NaN</td>\n",
       "    </tr>\n",
       "    <tr>\n",
       "      <th>3</th>\n",
       "      <td>0545729971</td>\n",
       "      <td>2014-12-05</td>\n",
       "      <td>NaN</td>\n",
       "    </tr>\n",
       "    <tr>\n",
       "      <th>4</th>\n",
       "      <td>0594450284</td>\n",
       "      <td>2013-09-11</td>\n",
       "      <td>NaN</td>\n",
       "    </tr>\n",
       "  </tbody>\n",
       "</table>\n",
       "</div>"
      ],
      "text/plain": [
       "         asin       date price\n",
       "0  0321732960 2011-12-02   NaN\n",
       "1  0321735722 2011-11-07   NaN\n",
       "2  0439651859 2007-06-06   NaN\n",
       "3  0545729971 2014-12-05   NaN\n",
       "4  0594450284 2013-09-11   NaN"
      ]
     },
     "execution_count": 30,
     "metadata": {},
     "output_type": "execute_result"
    }
   ],
   "source": [
    "value=meta_data[['asin','date','price']]\n",
    "value.head()"
   ]
  },
  {
   "cell_type": "code",
   "execution_count": 31,
   "metadata": {},
   "outputs": [
    {
     "data": {
      "text/html": [
       "<div>\n",
       "<style scoped>\n",
       "    .dataframe tbody tr th:only-of-type {\n",
       "        vertical-align: middle;\n",
       "    }\n",
       "\n",
       "    .dataframe tbody tr th {\n",
       "        vertical-align: top;\n",
       "    }\n",
       "\n",
       "    .dataframe thead th {\n",
       "        text-align: right;\n",
       "    }\n",
       "</style>\n",
       "<table border=\"1\" class=\"dataframe\">\n",
       "  <thead>\n",
       "    <tr style=\"text-align: right;\">\n",
       "      <th></th>\n",
       "      <th>asin</th>\n",
       "      <th>date</th>\n",
       "      <th>price</th>\n",
       "    </tr>\n",
       "  </thead>\n",
       "  <tbody>\n",
       "    <tr>\n",
       "      <th>count</th>\n",
       "      <td>18772</td>\n",
       "      <td>18588</td>\n",
       "      <td>2650</td>\n",
       "    </tr>\n",
       "    <tr>\n",
       "      <th>unique</th>\n",
       "      <td>18521</td>\n",
       "      <td>3042</td>\n",
       "      <td>1124</td>\n",
       "    </tr>\n",
       "    <tr>\n",
       "      <th>top</th>\n",
       "      <td>B0000A277M</td>\n",
       "      <td>2016-06-16 00:00:00</td>\n",
       "      <td>$2.54</td>\n",
       "    </tr>\n",
       "    <tr>\n",
       "      <th>freq</th>\n",
       "      <td>2</td>\n",
       "      <td>404</td>\n",
       "      <td>160</td>\n",
       "    </tr>\n",
       "    <tr>\n",
       "      <th>first</th>\n",
       "      <td>NaN</td>\n",
       "      <td>1973-09-04 00:00:00</td>\n",
       "      <td>NaN</td>\n",
       "    </tr>\n",
       "    <tr>\n",
       "      <th>last</th>\n",
       "      <td>NaN</td>\n",
       "      <td>2019-01-08 00:00:00</td>\n",
       "      <td>NaN</td>\n",
       "    </tr>\n",
       "  </tbody>\n",
       "</table>\n",
       "</div>"
      ],
      "text/plain": [
       "              asin                 date  price\n",
       "count        18772                18588   2650\n",
       "unique       18521                 3042   1124\n",
       "top     B0000A277M  2016-06-16 00:00:00  $2.54\n",
       "freq             2                  404    160\n",
       "first          NaN  1973-09-04 00:00:00    NaN\n",
       "last           NaN  2019-01-08 00:00:00    NaN"
      ]
     },
     "execution_count": 31,
     "metadata": {},
     "output_type": "execute_result"
    }
   ],
   "source": [
    "value.describe(include='all')"
   ]
  },
  {
   "cell_type": "code",
   "execution_count": 32,
   "metadata": {},
   "outputs": [
    {
     "data": {
      "text/plain": [
       "asin             object\n",
       "date     datetime64[ns]\n",
       "price            object\n",
       "dtype: object"
      ]
     },
     "execution_count": 32,
     "metadata": {},
     "output_type": "execute_result"
    }
   ],
   "source": [
    "value.dtypes"
   ]
  },
  {
   "cell_type": "markdown",
   "metadata": {},
   "source": [
    "* Pandas did capture the date as dates\n",
    "* It looks like the prices are stored as string.\n",
    "* Most of the items do have a date but just a few have prices"
   ]
  },
  {
   "cell_type": "markdown",
   "metadata": {},
   "source": [
    "Let's build some visualizations to get more insights"
   ]
  },
  {
   "cell_type": "code",
   "execution_count": 33,
   "metadata": {},
   "outputs": [
    {
     "name": "stderr",
     "output_type": "stream",
     "text": [
      "C:\\Users\\viann\\Anaconda3\\lib\\site-packages\\ipykernel_launcher.py:1: SettingWithCopyWarning: \n",
      "A value is trying to be set on a copy of a slice from a DataFrame.\n",
      "Try using .loc[row_indexer,col_indexer] = value instead\n",
      "\n",
      "See the caveats in the documentation: https://pandas.pydata.org/pandas-docs/stable/user_guide/indexing.html#returning-a-view-versus-a-copy\n",
      "  \"\"\"Entry point for launching an IPython kernel.\n"
     ]
    },
    {
     "data": {
      "text/html": [
       "<div>\n",
       "<style scoped>\n",
       "    .dataframe tbody tr th:only-of-type {\n",
       "        vertical-align: middle;\n",
       "    }\n",
       "\n",
       "    .dataframe tbody tr th {\n",
       "        vertical-align: top;\n",
       "    }\n",
       "\n",
       "    .dataframe thead th {\n",
       "        text-align: right;\n",
       "    }\n",
       "</style>\n",
       "<table border=\"1\" class=\"dataframe\">\n",
       "  <thead>\n",
       "    <tr style=\"text-align: right;\">\n",
       "      <th></th>\n",
       "      <th>asin</th>\n",
       "      <th>date</th>\n",
       "      <th>price</th>\n",
       "      <th>year</th>\n",
       "    </tr>\n",
       "  </thead>\n",
       "  <tbody>\n",
       "    <tr>\n",
       "      <th>0</th>\n",
       "      <td>0321732960</td>\n",
       "      <td>2011-12-02</td>\n",
       "      <td>NaN</td>\n",
       "      <td>2011.0</td>\n",
       "    </tr>\n",
       "    <tr>\n",
       "      <th>1</th>\n",
       "      <td>0321735722</td>\n",
       "      <td>2011-11-07</td>\n",
       "      <td>NaN</td>\n",
       "      <td>2011.0</td>\n",
       "    </tr>\n",
       "    <tr>\n",
       "      <th>2</th>\n",
       "      <td>0439651859</td>\n",
       "      <td>2007-06-06</td>\n",
       "      <td>NaN</td>\n",
       "      <td>2007.0</td>\n",
       "    </tr>\n",
       "    <tr>\n",
       "      <th>3</th>\n",
       "      <td>0545729971</td>\n",
       "      <td>2014-12-05</td>\n",
       "      <td>NaN</td>\n",
       "      <td>2014.0</td>\n",
       "    </tr>\n",
       "    <tr>\n",
       "      <th>4</th>\n",
       "      <td>0594450284</td>\n",
       "      <td>2013-09-11</td>\n",
       "      <td>NaN</td>\n",
       "      <td>2013.0</td>\n",
       "    </tr>\n",
       "  </tbody>\n",
       "</table>\n",
       "</div>"
      ],
      "text/plain": [
       "         asin       date price    year\n",
       "0  0321732960 2011-12-02   NaN  2011.0\n",
       "1  0321735722 2011-11-07   NaN  2011.0\n",
       "2  0439651859 2007-06-06   NaN  2007.0\n",
       "3  0545729971 2014-12-05   NaN  2014.0\n",
       "4  0594450284 2013-09-11   NaN  2013.0"
      ]
     },
     "execution_count": 33,
     "metadata": {},
     "output_type": "execute_result"
    }
   ],
   "source": [
    "value['year']=value['date'].dt.year\n",
    "value.head()"
   ]
  },
  {
   "cell_type": "code",
   "execution_count": 34,
   "metadata": {},
   "outputs": [
    {
     "data": {
      "text/plain": [
       "asin             object\n",
       "date     datetime64[ns]\n",
       "price            object\n",
       "year            float64\n",
       "dtype: object"
      ]
     },
     "execution_count": 34,
     "metadata": {},
     "output_type": "execute_result"
    }
   ],
   "source": [
    "value.dtypes"
   ]
  },
  {
   "cell_type": "code",
   "execution_count": 35,
   "metadata": {},
   "outputs": [
    {
     "data": {
      "text/plain": [
       "2016.0    5530\n",
       "2015.0    4024\n",
       "2014.0    2259\n",
       "2013.0    1837\n",
       "2012.0    1447\n",
       "2017.0    1193\n",
       "2011.0     484\n",
       "2010.0     433\n",
       "2009.0     220\n",
       "2008.0     200\n",
       "NaN        184\n",
       "2007.0     159\n",
       "2002.0     159\n",
       "2004.0     132\n",
       "2006.0     126\n",
       "2018.0     100\n",
       "2003.0      94\n",
       "2001.0      88\n",
       "2005.0      71\n",
       "1999.0      24\n",
       "2000.0       4\n",
       "1973.0       2\n",
       "2019.0       1\n",
       "1994.0       1\n",
       "Name: year, dtype: int64"
      ]
     },
     "execution_count": 35,
     "metadata": {},
     "output_type": "execute_result"
    }
   ],
   "source": [
    "value['year'].value_counts(dropna=False)"
   ]
  },
  {
   "cell_type": "code",
   "execution_count": 36,
   "metadata": {},
   "outputs": [
    {
     "data": {
      "text/html": [
       "<div>\n",
       "<style scoped>\n",
       "    .dataframe tbody tr th:only-of-type {\n",
       "        vertical-align: middle;\n",
       "    }\n",
       "\n",
       "    .dataframe tbody tr th {\n",
       "        vertical-align: top;\n",
       "    }\n",
       "\n",
       "    .dataframe thead th {\n",
       "        text-align: right;\n",
       "    }\n",
       "</style>\n",
       "<table border=\"1\" class=\"dataframe\">\n",
       "  <thead>\n",
       "    <tr style=\"text-align: right;\">\n",
       "      <th></th>\n",
       "      <th>asin</th>\n",
       "      <th>date</th>\n",
       "      <th>price</th>\n",
       "      <th>year</th>\n",
       "    </tr>\n",
       "  </thead>\n",
       "  <tbody>\n",
       "    <tr>\n",
       "      <th>0</th>\n",
       "      <td>0321732960</td>\n",
       "      <td>2011-12-02</td>\n",
       "      <td>NaN</td>\n",
       "      <td>2011.0</td>\n",
       "    </tr>\n",
       "    <tr>\n",
       "      <th>1</th>\n",
       "      <td>0321735722</td>\n",
       "      <td>2011-11-07</td>\n",
       "      <td>NaN</td>\n",
       "      <td>2011.0</td>\n",
       "    </tr>\n",
       "    <tr>\n",
       "      <th>2</th>\n",
       "      <td>0439651859</td>\n",
       "      <td>2007-06-06</td>\n",
       "      <td>NaN</td>\n",
       "      <td>2007.0</td>\n",
       "    </tr>\n",
       "    <tr>\n",
       "      <th>3</th>\n",
       "      <td>0545729971</td>\n",
       "      <td>2014-12-05</td>\n",
       "      <td>NaN</td>\n",
       "      <td>2014.0</td>\n",
       "    </tr>\n",
       "    <tr>\n",
       "      <th>4</th>\n",
       "      <td>0594450284</td>\n",
       "      <td>2013-09-11</td>\n",
       "      <td>NaN</td>\n",
       "      <td>2013.0</td>\n",
       "    </tr>\n",
       "  </tbody>\n",
       "</table>\n",
       "</div>"
      ],
      "text/plain": [
       "         asin       date price    year\n",
       "0  0321732960 2011-12-02   NaN  2011.0\n",
       "1  0321735722 2011-11-07   NaN  2011.0\n",
       "2  0439651859 2007-06-06   NaN  2007.0\n",
       "3  0545729971 2014-12-05   NaN  2014.0\n",
       "4  0594450284 2013-09-11   NaN  2013.0"
      ]
     },
     "execution_count": 36,
     "metadata": {},
     "output_type": "execute_result"
    }
   ],
   "source": [
    "value=value.astype({'year':'int32'}, errors='ignore')\n",
    "value.head()"
   ]
  },
  {
   "cell_type": "code",
   "execution_count": 37,
   "metadata": {},
   "outputs": [
    {
     "data": {
      "text/plain": [
       "dtype('int32')"
      ]
     },
     "execution_count": 37,
     "metadata": {},
     "output_type": "execute_result"
    }
   ],
   "source": [
    "x_year=value['year'].dropna()\n",
    "x_year=x_year.astype({'year':'int32'}, errors='ignore')\n",
    "x_year.dtypes"
   ]
  },
  {
   "cell_type": "code",
   "execution_count": 38,
   "metadata": {},
   "outputs": [
    {
     "data": {
      "image/png": "[encoded data removed]",
      "text/plain": [
       "<Figure size 576x360 with 1 Axes>"
      ]
     },
     "metadata": {
      "needs_background": "light"
     },
     "output_type": "display_data"
    }
   ],
   "source": [
    "x_year.plot(kind='hist', figsize=(8, 5))\n",
    "\n",
    "plt.title('Distribution of the number items in Amazon history') # add a title to the histogram\n",
    "plt.ylabel('Number of Items') # add y-label\n",
    "plt.xlabel('Year') # add x-label\n",
    "\n",
    "plt.show()"
   ]
  },
  {
   "cell_type": "markdown",
   "metadata": {},
   "source": [
    "This histogram suggests that we focus only on the items from the last decade for two reasons :\n",
    "* The older data are probably less clean\n",
    "* The dataset would be imbalance if we do not filter and we do use the date as a feature"
   ]
  },
  {
   "cell_type": "code",
   "execution_count": 39,
   "metadata": {},
   "outputs": [
    {
     "data": {
      "text/plain": [
       "NaN       16122\n",
       "$2.54       160\n",
       "$9.99        89\n",
       "$5.99        81\n",
       "$5.39        70\n",
       "          ...  \n",
       "$93.62        1\n",
       "$14.98        1\n",
       "$4.16         1\n",
       "$48.16        1\n",
       "$64.31        1\n",
       "Name: price, Length: 1125, dtype: int64"
      ]
     },
     "execution_count": 39,
     "metadata": {},
     "output_type": "execute_result"
    }
   ],
   "source": [
    "value['price'].value_counts(dropna=False)"
   ]
  },
  {
   "cell_type": "code",
   "execution_count": 40,
   "metadata": {},
   "outputs": [
    {
     "name": "stdout",
     "output_type": "stream",
     "text": [
      "object\n"
     ]
    },
    {
     "data": {
      "text/plain": [
       "0       NaN\n",
       "1       NaN\n",
       "2       NaN\n",
       "3       NaN\n",
       "4       NaN\n",
       "5       NaN\n",
       "6      8.99\n",
       "7       NaN\n",
       "8       NaN\n",
       "9       NaN\n",
       "10    16.99\n",
       "11      NaN\n",
       "12      NaN\n",
       "13      NaN\n",
       "14      NaN\n",
       "Name: price, dtype: object"
      ]
     },
     "execution_count": 40,
     "metadata": {},
     "output_type": "execute_result"
    }
   ],
   "source": [
    "value['price']=value['price'].str.replace('$','')\n",
    "value['price']=value['price'].str.replace(',','')\n",
    "print(value['price'].dtypes)\n",
    "value['price'].head(15)"
   ]
  },
  {
   "cell_type": "code",
   "execution_count": 41,
   "metadata": {},
   "outputs": [
    {
     "data": {
      "text/plain": [
       "NaN        16122\n",
       "2.54         160\n",
       "9.99          89\n",
       "5.99          81\n",
       "5.39          70\n",
       "           ...  \n",
       "2.01           1\n",
       "5.16           1\n",
       "1.14           1\n",
       "2.59           1\n",
       "2473.15        1\n",
       "Name: price, Length: 1125, dtype: int64"
      ]
     },
     "execution_count": 41,
     "metadata": {},
     "output_type": "execute_result"
    }
   ],
   "source": [
    "x_price=value['price']\n",
    "x_price.value_counts(dropna=False)"
   ]
  },
  {
   "cell_type": "code",
   "execution_count": 42,
   "metadata": {},
   "outputs": [
    {
     "data": {
      "text/plain": [
       "count     2650\n",
       "unique    1124\n",
       "top       2.54\n",
       "freq       160\n",
       "Name: price, dtype: object"
      ]
     },
     "execution_count": 42,
     "metadata": {},
     "output_type": "execute_result"
    }
   ],
   "source": [
    "x_price.describe(include='all')"
   ]
  },
  {
   "cell_type": "markdown",
   "metadata": {},
   "source": [
    "A lot of errors to solve for next time, converting the price to a number is more complicated than I initially thought. In particular the prices are presented as ranges sometimes and other time not."
   ]
  },
  {
   "cell_type": "code",
   "execution_count": 43,
   "metadata": {},
   "outputs": [
    {
     "data": {
      "text/plain": [
       "2181     16.18 - 42.22\n",
       "2269     16.18 - 42.22\n",
       "14390    35.00 - 39.99\n",
       "14553    19.99 - 20.99\n",
       "17905    27.26 - 59.99\n",
       "Name: price, dtype: object"
      ]
     },
     "execution_count": 43,
     "metadata": {},
     "output_type": "execute_result"
    }
   ],
   "source": [
    "x_price.dropna()[x_price.dropna().apply(lambda x:'-' in x )]"
   ]
  },
  {
   "cell_type": "markdown",
   "metadata": {},
   "source": [
    "The quality of the price column is poor, for most of the items the price is not indicated and there are 5 lines, that are presented as ranges. For those reasons, it is probably best to exclude the price column for the modelling part."
   ]
  },
  {
   "cell_type": "markdown",
   "metadata": {},
   "source": [
    "# Appliances Reviews Dataset Analysis"
   ]
  },
  {
   "cell_type": "code",
   "execution_count": 44,
   "metadata": {},
   "outputs": [
    {
     "data": {
      "text/html": [
       "<div>\n",
       "<style scoped>\n",
       "    .dataframe tbody tr th:only-of-type {\n",
       "        vertical-align: middle;\n",
       "    }\n",
       "\n",
       "    .dataframe tbody tr th {\n",
       "        vertical-align: top;\n",
       "    }\n",
       "\n",
       "    .dataframe thead th {\n",
       "        text-align: right;\n",
       "    }\n",
       "</style>\n",
       "<table border=\"1\" class=\"dataframe\">\n",
       "  <thead>\n",
       "    <tr style=\"text-align: right;\">\n",
       "      <th></th>\n",
       "      <th>overall</th>\n",
       "      <th>verified</th>\n",
       "      <th>reviewTime</th>\n",
       "      <th>reviewerID</th>\n",
       "      <th>asin</th>\n",
       "      <th>style</th>\n",
       "      <th>reviewerName</th>\n",
       "      <th>reviewText</th>\n",
       "      <th>summary</th>\n",
       "      <th>unixReviewTime</th>\n",
       "      <th>vote</th>\n",
       "      <th>image</th>\n",
       "    </tr>\n",
       "  </thead>\n",
       "  <tbody>\n",
       "    <tr>\n",
       "      <th>0</th>\n",
       "      <td>5</td>\n",
       "      <td>True</td>\n",
       "      <td>08 22, 2013</td>\n",
       "      <td>A34A1UP40713F8</td>\n",
       "      <td>B00009W3I4</td>\n",
       "      <td>{'Style:': ' Dryer Vent'}</td>\n",
       "      <td>James. Backus</td>\n",
       "      <td>I like this as a vent as well as something tha...</td>\n",
       "      <td>Great product</td>\n",
       "      <td>1377129600</td>\n",
       "      <td>NaN</td>\n",
       "      <td>NaN</td>\n",
       "    </tr>\n",
       "    <tr>\n",
       "      <th>1</th>\n",
       "      <td>5</td>\n",
       "      <td>True</td>\n",
       "      <td>02 8, 2016</td>\n",
       "      <td>A1AHW6I678O6F2</td>\n",
       "      <td>B00009W3PA</td>\n",
       "      <td>{'Size:': ' 6-Foot'}</td>\n",
       "      <td>kevin.</td>\n",
       "      <td>good item</td>\n",
       "      <td>Five Stars</td>\n",
       "      <td>1454889600</td>\n",
       "      <td>NaN</td>\n",
       "      <td>NaN</td>\n",
       "    </tr>\n",
       "    <tr>\n",
       "      <th>2</th>\n",
       "      <td>5</td>\n",
       "      <td>True</td>\n",
       "      <td>08 5, 2015</td>\n",
       "      <td>A8R48NKTGCJDQ</td>\n",
       "      <td>B00009W3PA</td>\n",
       "      <td>{'Size:': ' 6-Foot'}</td>\n",
       "      <td>CDBrannom</td>\n",
       "      <td>Fit my new LG dryer perfectly.</td>\n",
       "      <td>Five Stars</td>\n",
       "      <td>1438732800</td>\n",
       "      <td>NaN</td>\n",
       "      <td>NaN</td>\n",
       "    </tr>\n",
       "    <tr>\n",
       "      <th>3</th>\n",
       "      <td>5</td>\n",
       "      <td>True</td>\n",
       "      <td>04 24, 2015</td>\n",
       "      <td>AR3OHHHW01A8E</td>\n",
       "      <td>B00009W3PA</td>\n",
       "      <td>{'Size:': ' 6-Foot'}</td>\n",
       "      <td>Calvin E Reames</td>\n",
       "      <td>Good value for electric dryers</td>\n",
       "      <td>Perfect size</td>\n",
       "      <td>1429833600</td>\n",
       "      <td>NaN</td>\n",
       "      <td>NaN</td>\n",
       "    </tr>\n",
       "    <tr>\n",
       "      <th>4</th>\n",
       "      <td>5</td>\n",
       "      <td>True</td>\n",
       "      <td>03 21, 2015</td>\n",
       "      <td>A2CIEGHZ7L1WWR</td>\n",
       "      <td>B00009W3PA</td>\n",
       "      <td>{'Size:': ' 6-Foot'}</td>\n",
       "      <td>albert j. kong</td>\n",
       "      <td>Price and delivery was excellent.</td>\n",
       "      <td>Five Stars</td>\n",
       "      <td>1426896000</td>\n",
       "      <td>NaN</td>\n",
       "      <td>NaN</td>\n",
       "    </tr>\n",
       "  </tbody>\n",
       "</table>\n",
       "</div>"
      ],
      "text/plain": [
       "   overall  verified   reviewTime      reviewerID        asin  \\\n",
       "0        5      True  08 22, 2013  A34A1UP40713F8  B00009W3I4   \n",
       "1        5      True   02 8, 2016  A1AHW6I678O6F2  B00009W3PA   \n",
       "2        5      True   08 5, 2015   A8R48NKTGCJDQ  B00009W3PA   \n",
       "3        5      True  04 24, 2015   AR3OHHHW01A8E  B00009W3PA   \n",
       "4        5      True  03 21, 2015  A2CIEGHZ7L1WWR  B00009W3PA   \n",
       "\n",
       "                       style     reviewerName  \\\n",
       "0  {'Style:': ' Dryer Vent'}    James. Backus   \n",
       "1       {'Size:': ' 6-Foot'}           kevin.   \n",
       "2       {'Size:': ' 6-Foot'}        CDBrannom   \n",
       "3       {'Size:': ' 6-Foot'}  Calvin E Reames   \n",
       "4       {'Size:': ' 6-Foot'}   albert j. kong   \n",
       "\n",
       "                                          reviewText        summary  \\\n",
       "0  I like this as a vent as well as something tha...  Great product   \n",
       "1                                          good item     Five Stars   \n",
       "2                     Fit my new LG dryer perfectly.     Five Stars   \n",
       "3                     Good value for electric dryers   Perfect size   \n",
       "4                  Price and delivery was excellent.     Five Stars   \n",
       "\n",
       "   unixReviewTime vote image  \n",
       "0      1377129600  NaN   NaN  \n",
       "1      1454889600  NaN   NaN  \n",
       "2      1438732800  NaN   NaN  \n",
       "3      1429833600  NaN   NaN  \n",
       "4      1426896000  NaN   NaN  "
      ]
     },
     "execution_count": 44,
     "metadata": {},
     "output_type": "execute_result"
    }
   ],
   "source": [
    "df_appliances.head()"
   ]
  },
  {
   "cell_type": "code",
   "execution_count": 49,
   "metadata": {
    "scrolled": true
   },
   "outputs": [
    {
     "data": {
      "text/html": [
       "<div>\n",
       "<style scoped>\n",
       "    .dataframe tbody tr th:only-of-type {\n",
       "        vertical-align: middle;\n",
       "    }\n",
       "\n",
       "    .dataframe tbody tr th {\n",
       "        vertical-align: top;\n",
       "    }\n",
       "\n",
       "    .dataframe thead th {\n",
       "        text-align: right;\n",
       "    }\n",
       "</style>\n",
       "<table border=\"1\" class=\"dataframe\">\n",
       "  <thead>\n",
       "    <tr style=\"text-align: right;\">\n",
       "      <th></th>\n",
       "      <th>overall</th>\n",
       "      <th>verified</th>\n",
       "      <th>reviewTime</th>\n",
       "      <th>reviewerID</th>\n",
       "      <th>asin</th>\n",
       "      <th>reviewerName</th>\n",
       "      <th>reviewText</th>\n",
       "      <th>summary</th>\n",
       "      <th>unixReviewTime</th>\n",
       "      <th>vote</th>\n",
       "    </tr>\n",
       "  </thead>\n",
       "  <tbody>\n",
       "    <tr>\n",
       "      <th>count</th>\n",
       "      <td>2277.000000</td>\n",
       "      <td>2277</td>\n",
       "      <td>2277</td>\n",
       "      <td>2277</td>\n",
       "      <td>2277</td>\n",
       "      <td>2277</td>\n",
       "      <td>2277</td>\n",
       "      <td>2277</td>\n",
       "      <td>2.277000e+03</td>\n",
       "      <td>2074</td>\n",
       "    </tr>\n",
       "    <tr>\n",
       "      <th>unique</th>\n",
       "      <td>NaN</td>\n",
       "      <td>2</td>\n",
       "      <td>99</td>\n",
       "      <td>47</td>\n",
       "      <td>48</td>\n",
       "      <td>47</td>\n",
       "      <td>144</td>\n",
       "      <td>96</td>\n",
       "      <td>NaN</td>\n",
       "      <td>16</td>\n",
       "    </tr>\n",
       "    <tr>\n",
       "      <th>top</th>\n",
       "      <td>NaN</td>\n",
       "      <td>True</td>\n",
       "      <td>12 6, 2016</td>\n",
       "      <td>A1WD61B0C3KQZB</td>\n",
       "      <td>B0006GVNOA</td>\n",
       "      <td>Looneypenguin</td>\n",
       "      <td>Great product but they need to include more ro...</td>\n",
       "      <td>5 stars isn't enough to rate this product! It'...</td>\n",
       "      <td>NaN</td>\n",
       "      <td>6</td>\n",
       "    </tr>\n",
       "    <tr>\n",
       "      <th>freq</th>\n",
       "      <td>NaN</td>\n",
       "      <td>2248</td>\n",
       "      <td>412</td>\n",
       "      <td>206</td>\n",
       "      <td>2040</td>\n",
       "      <td>206</td>\n",
       "      <td>206</td>\n",
       "      <td>206</td>\n",
       "      <td>NaN</td>\n",
       "      <td>412</td>\n",
       "    </tr>\n",
       "    <tr>\n",
       "      <th>mean</th>\n",
       "      <td>4.499780</td>\n",
       "      <td>NaN</td>\n",
       "      <td>NaN</td>\n",
       "      <td>NaN</td>\n",
       "      <td>NaN</td>\n",
       "      <td>NaN</td>\n",
       "      <td>NaN</td>\n",
       "      <td>NaN</td>\n",
       "      <td>1.457410e+09</td>\n",
       "      <td>NaN</td>\n",
       "    </tr>\n",
       "    <tr>\n",
       "      <th>std</th>\n",
       "      <td>0.837723</td>\n",
       "      <td>NaN</td>\n",
       "      <td>NaN</td>\n",
       "      <td>NaN</td>\n",
       "      <td>NaN</td>\n",
       "      <td>NaN</td>\n",
       "      <td>NaN</td>\n",
       "      <td>NaN</td>\n",
       "      <td>5.639808e+07</td>\n",
       "      <td>NaN</td>\n",
       "    </tr>\n",
       "    <tr>\n",
       "      <th>min</th>\n",
       "      <td>1.000000</td>\n",
       "      <td>NaN</td>\n",
       "      <td>NaN</td>\n",
       "      <td>NaN</td>\n",
       "      <td>NaN</td>\n",
       "      <td>NaN</td>\n",
       "      <td>NaN</td>\n",
       "      <td>NaN</td>\n",
       "      <td>1.221523e+09</td>\n",
       "      <td>NaN</td>\n",
       "    </tr>\n",
       "    <tr>\n",
       "      <th>25%</th>\n",
       "      <td>4.000000</td>\n",
       "      <td>NaN</td>\n",
       "      <td>NaN</td>\n",
       "      <td>NaN</td>\n",
       "      <td>NaN</td>\n",
       "      <td>NaN</td>\n",
       "      <td>NaN</td>\n",
       "      <td>NaN</td>\n",
       "      <td>1.449274e+09</td>\n",
       "      <td>NaN</td>\n",
       "    </tr>\n",
       "    <tr>\n",
       "      <th>50%</th>\n",
       "      <td>5.000000</td>\n",
       "      <td>NaN</td>\n",
       "      <td>NaN</td>\n",
       "      <td>NaN</td>\n",
       "      <td>NaN</td>\n",
       "      <td>NaN</td>\n",
       "      <td>NaN</td>\n",
       "      <td>NaN</td>\n",
       "      <td>1.478650e+09</td>\n",
       "      <td>NaN</td>\n",
       "    </tr>\n",
       "    <tr>\n",
       "      <th>75%</th>\n",
       "      <td>5.000000</td>\n",
       "      <td>NaN</td>\n",
       "      <td>NaN</td>\n",
       "      <td>NaN</td>\n",
       "      <td>NaN</td>\n",
       "      <td>NaN</td>\n",
       "      <td>NaN</td>\n",
       "      <td>NaN</td>\n",
       "      <td>1.482278e+09</td>\n",
       "      <td>NaN</td>\n",
       "    </tr>\n",
       "    <tr>\n",
       "      <th>max</th>\n",
       "      <td>5.000000</td>\n",
       "      <td>NaN</td>\n",
       "      <td>NaN</td>\n",
       "      <td>NaN</td>\n",
       "      <td>NaN</td>\n",
       "      <td>NaN</td>\n",
       "      <td>NaN</td>\n",
       "      <td>NaN</td>\n",
       "      <td>1.523923e+09</td>\n",
       "      <td>NaN</td>\n",
       "    </tr>\n",
       "  </tbody>\n",
       "</table>\n",
       "</div>"
      ],
      "text/plain": [
       "            overall verified  reviewTime      reviewerID        asin  \\\n",
       "count   2277.000000     2277        2277            2277        2277   \n",
       "unique          NaN        2          99              47          48   \n",
       "top             NaN     True  12 6, 2016  A1WD61B0C3KQZB  B0006GVNOA   \n",
       "freq            NaN     2248         412             206        2040   \n",
       "mean       4.499780      NaN         NaN             NaN         NaN   \n",
       "std        0.837723      NaN         NaN             NaN         NaN   \n",
       "min        1.000000      NaN         NaN             NaN         NaN   \n",
       "25%        4.000000      NaN         NaN             NaN         NaN   \n",
       "50%        5.000000      NaN         NaN             NaN         NaN   \n",
       "75%        5.000000      NaN         NaN             NaN         NaN   \n",
       "max        5.000000      NaN         NaN             NaN         NaN   \n",
       "\n",
       "         reviewerName                                         reviewText  \\\n",
       "count            2277                                               2277   \n",
       "unique             47                                                144   \n",
       "top     Looneypenguin  Great product but they need to include more ro...   \n",
       "freq              206                                                206   \n",
       "mean              NaN                                                NaN   \n",
       "std               NaN                                                NaN   \n",
       "min               NaN                                                NaN   \n",
       "25%               NaN                                                NaN   \n",
       "50%               NaN                                                NaN   \n",
       "75%               NaN                                                NaN   \n",
       "max               NaN                                                NaN   \n",
       "\n",
       "                                                  summary  unixReviewTime  \\\n",
       "count                                                2277    2.277000e+03   \n",
       "unique                                                 96             NaN   \n",
       "top     5 stars isn't enough to rate this product! It'...             NaN   \n",
       "freq                                                  206             NaN   \n",
       "mean                                                  NaN    1.457410e+09   \n",
       "std                                                   NaN    5.639808e+07   \n",
       "min                                                   NaN    1.221523e+09   \n",
       "25%                                                   NaN    1.449274e+09   \n",
       "50%                                                   NaN    1.478650e+09   \n",
       "75%                                                   NaN    1.482278e+09   \n",
       "max                                                   NaN    1.523923e+09   \n",
       "\n",
       "        vote  \n",
       "count   2074  \n",
       "unique    16  \n",
       "top        6  \n",
       "freq     412  \n",
       "mean     NaN  \n",
       "std      NaN  \n",
       "min      NaN  \n",
       "25%      NaN  \n",
       "50%      NaN  \n",
       "75%      NaN  \n",
       "max      NaN  "
      ]
     },
     "execution_count": 49,
     "metadata": {},
     "output_type": "execute_result"
    }
   ],
   "source": [
    "df_appliances.drop(['style','image'], axis=1).describe(include='all')"
   ]
  },
  {
   "cell_type": "markdown",
   "metadata": {},
   "source": [
    "## Reviews"
   ]
  },
  {
   "cell_type": "markdown",
   "metadata": {},
   "source": [
    "Let's examine more closely the non verified reviews"
   ]
  },
  {
   "cell_type": "code",
   "execution_count": 50,
   "metadata": {},
   "outputs": [
    {
     "data": {
      "text/html": [
       "<div>\n",
       "<style scoped>\n",
       "    .dataframe tbody tr th:only-of-type {\n",
       "        vertical-align: middle;\n",
       "    }\n",
       "\n",
       "    .dataframe tbody tr th {\n",
       "        vertical-align: top;\n",
       "    }\n",
       "\n",
       "    .dataframe thead th {\n",
       "        text-align: right;\n",
       "    }\n",
       "</style>\n",
       "<table border=\"1\" class=\"dataframe\">\n",
       "  <thead>\n",
       "    <tr style=\"text-align: right;\">\n",
       "      <th></th>\n",
       "      <th>overall</th>\n",
       "      <th>verified</th>\n",
       "      <th>reviewTime</th>\n",
       "      <th>reviewerID</th>\n",
       "      <th>asin</th>\n",
       "      <th>style</th>\n",
       "      <th>reviewerName</th>\n",
       "      <th>reviewText</th>\n",
       "      <th>summary</th>\n",
       "      <th>unixReviewTime</th>\n",
       "      <th>vote</th>\n",
       "      <th>image</th>\n",
       "    </tr>\n",
       "  </thead>\n",
       "  <tbody>\n",
       "    <tr>\n",
       "      <th>7</th>\n",
       "      <td>2</td>\n",
       "      <td>False</td>\n",
       "      <td>07 6, 2017</td>\n",
       "      <td>A3LGZ8M29PBNGG</td>\n",
       "      <td>B000N6302Q</td>\n",
       "      <td>{'Color:': ' Blue'}</td>\n",
       "      <td>nerenttt</td>\n",
       "      <td>works great. we loved ours! till we didn't.  t...</td>\n",
       "      <td>the five star posts are from new owners, the r...</td>\n",
       "      <td>1499299200</td>\n",
       "      <td>NaN</td>\n",
       "      <td>NaN</td>\n",
       "    </tr>\n",
       "    <tr>\n",
       "      <th>8</th>\n",
       "      <td>2</td>\n",
       "      <td>False</td>\n",
       "      <td>07 6, 2017</td>\n",
       "      <td>A3LGZ8M29PBNGG</td>\n",
       "      <td>B000N6302Q</td>\n",
       "      <td>{'Color:': ' Stainless Steel'}</td>\n",
       "      <td>nerenttt</td>\n",
       "      <td>Luved it for the few months it worked!  great ...</td>\n",
       "      <td>my advice is do not buy without  extended warr...</td>\n",
       "      <td>1499299200</td>\n",
       "      <td>NaN</td>\n",
       "      <td>NaN</td>\n",
       "    </tr>\n",
       "    <tr>\n",
       "      <th>9</th>\n",
       "      <td>1</td>\n",
       "      <td>False</td>\n",
       "      <td>11 14, 2014</td>\n",
       "      <td>A3SM7H70QI3TY8</td>\n",
       "      <td>B000N6302Q</td>\n",
       "      <td>NaN</td>\n",
       "      <td>SRH</td>\n",
       "      <td>Be careful, NewAir will not stand by their pro...</td>\n",
       "      <td>NewAir will not stand behind their products - ...</td>\n",
       "      <td>1415923200</td>\n",
       "      <td>NaN</td>\n",
       "      <td>NaN</td>\n",
       "    </tr>\n",
       "    <tr>\n",
       "      <th>10</th>\n",
       "      <td>1</td>\n",
       "      <td>False</td>\n",
       "      <td>11 14, 2014</td>\n",
       "      <td>A3SM7H70QI3TY8</td>\n",
       "      <td>B000N6302Q</td>\n",
       "      <td>{'Color:': ' Orange'}</td>\n",
       "      <td>SRH</td>\n",
       "      <td>We would give less than 1 star if possible DON...</td>\n",
       "      <td>WHAT A PIECE OF JUNK, NewAir doesn't stand by ...</td>\n",
       "      <td>1415923200</td>\n",
       "      <td>NaN</td>\n",
       "      <td>NaN</td>\n",
       "    </tr>\n",
       "    <tr>\n",
       "      <th>11</th>\n",
       "      <td>1</td>\n",
       "      <td>False</td>\n",
       "      <td>11 14, 2014</td>\n",
       "      <td>A3SM7H70QI3TY8</td>\n",
       "      <td>B000N6302Q</td>\n",
       "      <td>{'Color:': ' Stainless Steel'}</td>\n",
       "      <td>SRH</td>\n",
       "      <td>Be careful, NewAir will not stand by their pro...</td>\n",
       "      <td>NewAir will not stand behind their products - ...</td>\n",
       "      <td>1415923200</td>\n",
       "      <td>3</td>\n",
       "      <td>NaN</td>\n",
       "    </tr>\n",
       "  </tbody>\n",
       "</table>\n",
       "</div>"
      ],
      "text/plain": [
       "    overall  verified   reviewTime      reviewerID        asin  \\\n",
       "7         2     False   07 6, 2017  A3LGZ8M29PBNGG  B000N6302Q   \n",
       "8         2     False   07 6, 2017  A3LGZ8M29PBNGG  B000N6302Q   \n",
       "9         1     False  11 14, 2014  A3SM7H70QI3TY8  B000N6302Q   \n",
       "10        1     False  11 14, 2014  A3SM7H70QI3TY8  B000N6302Q   \n",
       "11        1     False  11 14, 2014  A3SM7H70QI3TY8  B000N6302Q   \n",
       "\n",
       "                             style reviewerName  \\\n",
       "7              {'Color:': ' Blue'}     nerenttt   \n",
       "8   {'Color:': ' Stainless Steel'}     nerenttt   \n",
       "9                              NaN          SRH   \n",
       "10           {'Color:': ' Orange'}          SRH   \n",
       "11  {'Color:': ' Stainless Steel'}          SRH   \n",
       "\n",
       "                                           reviewText  \\\n",
       "7   works great. we loved ours! till we didn't.  t...   \n",
       "8   Luved it for the few months it worked!  great ...   \n",
       "9   Be careful, NewAir will not stand by their pro...   \n",
       "10  We would give less than 1 star if possible DON...   \n",
       "11  Be careful, NewAir will not stand by their pro...   \n",
       "\n",
       "                                              summary  unixReviewTime vote  \\\n",
       "7   the five star posts are from new owners, the r...      1499299200  NaN   \n",
       "8   my advice is do not buy without  extended warr...      1499299200  NaN   \n",
       "9   NewAir will not stand behind their products - ...      1415923200  NaN   \n",
       "10  WHAT A PIECE OF JUNK, NewAir doesn't stand by ...      1415923200  NaN   \n",
       "11  NewAir will not stand behind their products - ...      1415923200    3   \n",
       "\n",
       "   image  \n",
       "7    NaN  \n",
       "8    NaN  \n",
       "9    NaN  \n",
       "10   NaN  \n",
       "11   NaN  "
      ]
     },
     "execution_count": 50,
     "metadata": {},
     "output_type": "execute_result"
    }
   ],
   "source": [
    "non_verified=df_appliances[df_appliances['verified']==False]\n",
    "non_verified.head()"
   ]
  },
  {
   "cell_type": "code",
   "execution_count": 59,
   "metadata": {},
   "outputs": [
    {
     "name": "stdout",
     "output_type": "stream",
     "text": [
      "-------------------\n",
      "Review #0\n",
      "Summary: the five star posts are from new owners, the rest from disgruntle owners 6 months in with broken icemaker!,\n",
      "Review: works great. we loved ours! till we didn't.  these do not last so buy the warranty as you WILL NEED IT.,\n",
      "Reviewer ID: A3LGZ8M29PBNGG,\n",
      "Verified: False\n",
      "-------------------\n",
      "Review #1\n",
      "Summary: my advice is do not buy without  extended warranty!,\n",
      "Review: Luved it for the few months it worked!  great little bullet shaped ice cubes. It was a gift for my sister who never opened the box.  The next summer during a heat wave I asked for my unused gift back, ha!, and was in heaven for a few months.  the next summer after a few weeks the unit gave out.called new air and it was over the one year mark so no warranty.  so my advice is do not buy without  extended warranty!,\n",
      "Reviewer ID: A3LGZ8M29PBNGG,\n",
      "Verified: False\n",
      "-------------------\n",
      "Review #2\n",
      "Summary: NewAir will not stand behind their products - company emails included,\n",
      "Review: Be careful, NewAir will not stand by their products. Our NewAir broke within the first 4 hours of use.  The manufacturer will NOT cover the item under warranty. Just in case you're actually thinking of buying a NewAir product... think twice...\n",
      "\n",
      "From: NewAir Sales <sales@newair.com>\n",
      "Date: Fri, Nov 14, 2014 at 11:03 AM\n",
      "Subject: Re: Icemaker return\n",
      "To: Susan Ferguson <xxxxx@gwmail.gwu.edu>\n",
      "\n",
      "Hi Susan,\n",
      "\n",
      "The manufacturer warranty is void if the unit is purchased by a private seller who does not have our consent to sell our products. This is the same reason why we ask for a copy of your receipt upon requesting warranty claims because if it not from a valid authorized dealer we will not proceed with warranty work. We also list our authorized dealers on our web site for customer use. We stand behind our products, however when an item is purchased from a private seller the purchaser runs the risk of the item being used, open box, refurbished, and or a scratch and dent. Our one year limited manufacturer's warranty is only valid on new items sold by our authorized online dealers. It is unfortunate to see that you are in this situation, however you will need to contact the seller of the item for a replacement or refund.\n",
      "\n",
      "Have a great day!\n",
      "\n",
      "Mireya\n",
      "Customer Support\n",
      "NewAir | 3419 East Chapman Ave. #190 | Orange, CA 92869\n",
      "Ph: 855-963-9247 Em: sales@newair.com\n",
      "FB: facebook.com/NewAirUSA Twitter: @NewAirUSA\n",
      "Pinterest: pinterest.com/NewAirUSA Instagram: NewAirUSA\n",
      "Web: [...]\n",
      "\"Made by awesome\"\n",
      "\n",
      "On Thu, Nov 13, 2014 at 7:59 PM, Susan Ferguson <xxxxx@gwmail.gwu.edu> wrote:\n",
      "Hello Mireya-\n",
      "\n",
      "I'm sorry but I thought the manufacturer warranty was for the manufacturer, NewAir.  Please explain why the warranty is not valid in this case.  I don't see anywhere in the warranty exclusions that the warranty is not valid if not purchased from an authorized dealer.  In addition, a consumer would never know who \"authorized dealers\" are because if a company is selling your product doesn't that implicitly make them authorized to do so?\n",
      "\n",
      "I sincerely hope that NewAir will reconsider this position and stand by the integrity of their products.  This ice machine was literally used for four hours before failing and it is, quite frankly egregious that your company is negating a warranty that explicitly states it will repair or replace defective materials or workmanship for up to one year.\n",
      "\n",
      "Please let me know how I can talk to a dispute department regarding this matter.  I look forward to your response and I will refrain from giving any reviews of your product until this matter is resolved.\n",
      "\n",
      "Thank you,\n",
      "Susan Ferguson\n",
      "\n",
      "On Thu, Nov 13, 2014 at 3:10 PM, NewAir Sales <sales@newair.com> wrote:\n",
      "Hi Susan,\n",
      "\n",
      "Unfortunately, the ice maker was not purchased from an authorized dealer. You will need to contact the seller \"Mehadrin\" through Amazon for any existing issues on your unit.\n",
      "\n",
      "Have a great day!\n",
      "\n",
      "Mireya\n",
      "Customer Support\n",
      "NewAir | 3419 East Chapman Ave. #190 | Orange, CA 92869\n",
      "Ph: 855-963-9247 Em: sales@newair.com\n",
      "FB: facebook.com/NewAirUSA Twitter: @NewAirUSA\n",
      "Pinterest: pinterest.com/NewAirUSA Instagram: NewAirUSA\n",
      "Web: [...]\n",
      "\"Made by awesome\"\n",
      "\n",
      "On Thu, Nov 13, 2014 at 12:32 PM, Susan Ferguson <xxxxxxxxx@gwmail.gwu.edu> wrote:\n",
      "Hello-  I received an AI-100S icemaker in March 2014.  I used it one time and within 4 hours the cooling unit had shut down.  My best estimate is that the pump was still working (the water was getting pumped through) but the cooling mechanism was not.  When I plugged the unit back in to try it a few hours later, the cooling mechanism never turned on.\n",
      "\n",
      "Since this product is still under warranty, I am hoping to acquire a new unit since this particular one has essentially never been used and is obviously faulty in some capacity.\n",
      "\n",
      "I have attached the receipt for your reference.  It was purchased as a gift through Amazon Marketplace.  Thanks so much and I look forward to your response.\n",
      "\n",
      "Susan Ferguson,\n",
      "Reviewer ID: A3SM7H70QI3TY8,\n",
      "Verified: False\n",
      "-------------------\n",
      "Review #3\n",
      "Summary: WHAT A PIECE OF JUNK, NewAir doesn't stand by their products!,\n",
      "Review: We would give less than 1 star if possible DONT BUY THIS PRODUCT.  The ice machine stopped working four hours after we used it the first time.  We notified New Air and they stated they would not honor their one year warranty because \"an authorized dealer didn't sell\".  We bought this product on Amazon and never even thought we would have to cross check our purchase with the manufacturer.  NewAir does not stand by their products and they will use any method to get out of honoring their warranty.  I have a $200 piece of junk now, I will NEVER buy another NewAir product again.,\n",
      "Reviewer ID: A3SM7H70QI3TY8,\n",
      "Verified: False\n",
      "-------------------\n",
      "Review #4\n",
      "Summary: NewAir will not stand behind their products - company emails included,\n",
      "Review: Be careful, NewAir will not stand by their products. Our NewAir broke within the first 4 hours of use.  The manufacturer will NOT cover the item under warranty. Just in case you're actually thinking of buying a NewAir product... think twice...\n",
      "\n",
      "From: NewAir Sales <sales@newair.com>\n",
      "Date: Fri, Nov 14, 2014 at 11:03 AM\n",
      "Subject: Re: Icemaker return\n",
      "To: Susan Ferguson <xxxxx@gwmail.gwu.edu>\n",
      "\n",
      "Hi Susan,\n",
      "\n",
      "The manufacturer warranty is void if the unit is purchased by a private seller who does not have our consent to sell our products. This is the same reason why we ask for a copy of your receipt upon requesting warranty claims because if it not from a valid authorized dealer we will not proceed with warranty work. We also list our authorized dealers on our web site for customer use. We stand behind our products, however when an item is purchased from a private seller the purchaser runs the risk of the item being used, open box, refurbished, and or a scratch and dent. Our one year limited manufacturer's warranty is only valid on new items sold by our authorized online dealers. It is unfortunate to see that you are in this situation, however you will need to contact the seller of the item for a replacement or refund.\n",
      "\n",
      "Have a great day!\n",
      "\n",
      "Mireya\n",
      "Customer Support\n",
      "NewAir | 3419 East Chapman Ave. #190 | Orange, CA 92869\n",
      "Ph: 855-963-9247 Em: sales@newair.com\n",
      "FB: facebook.com/NewAirUSA Twitter: @NewAirUSA\n",
      "Pinterest: pinterest.com/NewAirUSA Instagram: NewAirUSA\n",
      "Web: [...]\n",
      "\"Made by awesome\"\n",
      "\n",
      "On Thu, Nov 13, 2014 at 7:59 PM, Susan Ferguson <xxxxx@gwmail.gwu.edu> wrote:\n",
      "Hello Mireya-\n",
      "\n",
      "I'm sorry but I thought the manufacturer warranty was for the manufacturer, NewAir.  Please explain why the warranty is not valid in this case.  I don't see anywhere in the warranty exclusions that the warranty is not valid if not purchased from an authorized dealer.  In addition, a consumer would never know who \"authorized dealers\" are because if a company is selling your product doesn't that implicitly make them authorized to do so?\n",
      "\n",
      "I sincerely hope that NewAir will reconsider this position and stand by the integrity of their products.  This ice machine was literally used for four hours before failing and it is, quite frankly egregious that your company is negating a warranty that explicitly states it will repair or replace defective materials or workmanship for up to one year.\n",
      "\n",
      "Please let me know how I can talk to a dispute department regarding this matter.  I look forward to your response and I will refrain from giving any reviews of your product until this matter is resolved.\n",
      "\n",
      "Thank you,\n",
      "Susan Ferguson\n",
      "\n",
      "On Thu, Nov 13, 2014 at 3:10 PM, NewAir Sales <sales@newair.com> wrote:\n",
      "Hi Susan,\n",
      "\n",
      "Unfortunately, the ice maker was not purchased from an authorized dealer. You will need to contact the seller \"Mehadrin\" through Amazon for any existing issues on your unit.\n",
      "\n",
      "Have a great day!\n",
      "\n",
      "Mireya\n",
      "Customer Support\n",
      "NewAir | 3419 East Chapman Ave. #190 | Orange, CA 92869\n",
      "Ph: 855-963-9247 Em: sales@newair.com\n",
      "FB: facebook.com/NewAirUSA Twitter: @NewAirUSA\n",
      "Pinterest: pinterest.com/NewAirUSA Instagram: NewAirUSA\n",
      "Web: [...]\n",
      "\"Made by awesome\"\n",
      "\n",
      "On Thu, Nov 13, 2014 at 12:32 PM, Susan Ferguson <xxxxxxxxx@gwmail.gwu.edu> wrote:\n",
      "Hello-  I received an AI-100S icemaker in March 2014.  I used it one time and within 4 hours the cooling unit had shut down.  My best estimate is that the pump was still working (the water was getting pumped through) but the cooling mechanism was not.  When I plugged the unit back in to try it a few hours later, the cooling mechanism never turned on.\n",
      "\n",
      "Since this product is still under warranty, I am hoping to acquire a new unit since this particular one has essentially never been used and is obviously faulty in some capacity.\n",
      "\n",
      "I have attached the receipt for your reference.  It was purchased as a gift through Amazon Marketplace.  Thanks so much and I look forward to your response.\n",
      "\n",
      "Susan Ferguson,\n",
      "Reviewer ID: A3SM7H70QI3TY8,\n",
      "Verified: False\n"
     ]
    }
   ],
   "source": [
    "#non_verified.reset_index(inplace=True)\n",
    "for i in range(5):\n",
    "    print('-------------------')\n",
    "    print('Review #{}'.format(i))\n",
    "    print('Summary: {},\\nReview: {},\\nReviewer ID: {},\\nVerified: {}'.format(non_verified['summary'][i], non_verified['reviewText'][i], non_verified['reviewerID'][i], non_verified['verified'][i]))"
   ]
  },
  {
   "cell_type": "markdown",
   "metadata": {},
   "source": [
    "It would be a good idea to create a function to display the review with a similar formatting than the above display"
   ]
  },
  {
   "cell_type": "code",
   "execution_count": 60,
   "metadata": {},
   "outputs": [
    {
     "data": {
      "text/plain": [
       "(29, 14)"
      ]
     },
     "execution_count": 60,
     "metadata": {},
     "output_type": "execute_result"
    }
   ],
   "source": [
    "non_verified.shape"
   ]
  },
  {
   "cell_type": "markdown",
   "metadata": {},
   "source": [
    "There are only 29 reviews that are non_verified in this dataset. That makes it difficult to use this feature as it would create an unbalanced dataset"
   ]
  },
  {
   "cell_type": "code",
   "execution_count": 62,
   "metadata": {},
   "outputs": [
    {
     "data": {
      "text/plain": [
       "5    1612\n",
       "3     421\n",
       "4     222\n",
       "2      13\n",
       "1       9\n",
       "Name: overall, dtype: int64"
      ]
     },
     "execution_count": 62,
     "metadata": {},
     "output_type": "execute_result"
    }
   ],
   "source": [
    "note=df_appliances['overall']\n",
    "note.value_counts(dropna=False)"
   ]
  },
  {
   "cell_type": "code",
   "execution_count": 74,
   "metadata": {},
   "outputs": [
    {
     "data": {
      "image/png": "[encoded data removed]",
      "text/plain": [
       "<Figure size 432x288 with 1 Axes>"
      ]
     },
     "metadata": {
      "needs_background": "light"
     },
     "output_type": "display_data"
    }
   ],
   "source": [
    "note.plot(kind='hist', bins=np.arange(1,7)-0.5)\n",
    "\n",
    "plt.title('Distribution of the grades') # add a title to the histogram\n",
    "plt.ylabel('Number of reviews attributing this grade') # add y-label\n",
    "plt.xticks(range(1,6))\n",
    "plt.xlabel('Note') # add x-label\n",
    "\n",
    "\n",
    "plt.show()"
   ]
  },
  {
   "cell_type": "markdown",
   "metadata": {},
   "source": [
    "## Unix Review Time"
   ]
  },
  {
   "cell_type": "markdown",
   "metadata": {},
   "source": [
    "The 5 stars reviews are so numerous that they are not even displayed on the graph"
   ]
  },
  {
   "cell_type": "code",
   "execution_count": 79,
   "metadata": {},
   "outputs": [
    {
     "data": {
      "text/plain": [
       "0    2013-08-22 00:00:00.000000+00:00 (UTC)\n",
       "1    2016-02-08 00:00:00.000000+00:00 (UTC)\n",
       "2    2015-08-05 00:00:00.000000+00:00 (UTC)\n",
       "3    2015-04-24 00:00:00.000000+00:00 (UTC)\n",
       "4    2015-03-21 00:00:00.000000+00:00 (UTC)\n",
       "Name: timestamp, dtype: object"
      ]
     },
     "execution_count": 79,
     "metadata": {},
     "output_type": "execute_result"
    }
   ],
   "source": [
    "df_appliances['timestamp']=df_appliances['unixReviewTime'].apply(lambda x:datetime.datetime.utcfromtimestamp(x).strftime('%Y-%m-%d %H:%M:%S.%f+00:00 (UTC)'))\n",
    "df_appliances['timestamp'].head()"
   ]
  },
  {
   "cell_type": "markdown",
   "metadata": {},
   "source": [
    "Before modelling we should clean the unix Review Time by doing the following :\n",
    "* Converting it back to a more readable format\n",
    "* Extract the different part of the dates into multiples columns"
   ]
  },
  {
   "cell_type": "markdown",
   "metadata": {},
   "source": [
    "## Vote"
   ]
  },
  {
   "cell_type": "code",
   "execution_count": 80,
   "metadata": {},
   "outputs": [
    {
     "data": {
      "text/plain": [
       "6        412\n",
       "5        208\n",
       "8        206\n",
       "15       206\n",
       "4        206\n",
       "9        206\n",
       "165      206\n",
       "1,917    204\n",
       "311      204\n",
       "NaN      203\n",
       "2          3\n",
       "3          3\n",
       "77         2\n",
       "1,913      2\n",
       "309        2\n",
       "7          2\n",
       "11         2\n",
       "Name: vote, dtype: int64"
      ]
     },
     "execution_count": 80,
     "metadata": {},
     "output_type": "execute_result"
    }
   ],
   "source": [
    "vote=df_appliances['vote']\n",
    "vote.value_counts(dropna=False)"
   ]
  },
  {
   "cell_type": "code",
   "execution_count": 88,
   "metadata": {},
   "outputs": [
    {
     "data": {
      "text/plain": [
       "6       412\n",
       "5       208\n",
       "8       206\n",
       "15      206\n",
       "4       206\n",
       "9       206\n",
       "165     206\n",
       "1917    204\n",
       "311     204\n",
       "2         3\n",
       "3         3\n",
       "309       2\n",
       "11        2\n",
       "77        2\n",
       "1913      2\n",
       "7         2\n",
       "Name: vote, dtype: int64"
      ]
     },
     "execution_count": 88,
     "metadata": {},
     "output_type": "execute_result"
    }
   ],
   "source": [
    "vote.dropna(inplace=True)\n",
    "vote=vote.apply(lambda x: x.replace(',',''))\n",
    "vote.value_counts()"
   ]
  },
  {
   "cell_type": "code",
   "execution_count": 91,
   "metadata": {},
   "outputs": [],
   "source": [
    "vote.dtype\n",
    "vote=vote.astype(int)"
   ]
  },
  {
   "cell_type": "code",
   "execution_count": 92,
   "metadata": {},
   "outputs": [
    {
     "data": {
      "image/png": "[encoded data removed]",
      "text/plain": [
       "<Figure size 432x288 with 1 Axes>"
      ]
     },
     "metadata": {
      "needs_background": "light"
     },
     "output_type": "display_data"
    }
   ],
   "source": [
    "vote.plot(kind='hist')\n",
    "\n",
    "plt.title('Distribution of the votes') # add a title to the histogram\n",
    "plt.ylabel('Number of reviews') # add y-label\n",
    "plt.xlabel('useful Votes') # add x-label\n",
    "\n",
    "\n",
    "plt.show()"
   ]
  },
  {
   "cell_type": "markdown",
   "metadata": {},
   "source": [
    "The reviews getting more than 500 useful votes seem to be outlier. Let's exclude them and plote again the histogram"
   ]
  },
  {
   "cell_type": "code",
   "execution_count": 94,
   "metadata": {},
   "outputs": [
    {
     "data": {
      "image/png": "[encoded data removed]",
      "text/plain": [
       "<Figure size 432x288 with 1 Axes>"
      ]
     },
     "metadata": {
      "needs_background": "light"
     },
     "output_type": "display_data"
    }
   ],
   "source": [
    "vote2=vote[vote<500]\n",
    "vote2.plot(kind='hist')\n",
    "\n",
    "plt.title('Distribution of the votes') # add a title to the histogram\n",
    "plt.ylabel('Number of reviews') # add y-label\n",
    "plt.xlabel('useful Votes') # add x-label\n",
    "\n",
    "\n",
    "plt.show()"
   ]
  },
  {
   "cell_type": "markdown",
   "metadata": {},
   "source": [
    "The number of "
   ]
  }
 ],
 "metadata": {
  "kernelspec": {
   "display_name": "Python 3",
   "language": "python",
   "name": "python3"
  },
  "language_info": {
   "codemirror_mode": {
    "name": "ipython",
    "version": 3
   },
   "file_extension": ".py",
   "mimetype": "text/x-python",
   "name": "python",
   "nbconvert_exporter": "python",
   "pygments_lexer": "ipython3",
   "version": "3.7.4"
  }
 },
 "nbformat": 4,
 "nbformat_minor": 2
}
