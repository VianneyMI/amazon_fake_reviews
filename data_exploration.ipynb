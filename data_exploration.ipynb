{
 "cells": [
  {
   "cell_type": "code",
   "execution_count": 82,
   "metadata": {},
   "outputs": [],
   "source": [
    "import pandas as pd"
   ]
  },
  {
   "cell_type": "code",
   "execution_count": 83,
   "metadata": {},
   "outputs": [],
   "source": [
    "#Loading datasets\n",
    "\n",
    "df_beauty=pd.read_json('data/ref/All_Beauty_5.json', lines=True)\n",
    "df_appliances=pd.read_json('data/ref/Appliances_5.json', lines=True)\n",
    "meta_data=pd.read_json('data/ref/meta_data.json', lines=True)"
   ]
  },
  {
   "cell_type": "markdown",
   "metadata": {},
   "source": [
    "Compared to the discovery phase, let's try to go further into the anlysis of the data, but let's aim at no modifying the data for now. The goal here is to list the actions that will need to be performed to clean the data and to identify the good features candidates"
   ]
  },
  {
   "cell_type": "markdown",
   "metadata": {},
   "source": [
    "# Meta Data Analysis"
   ]
  },
  {
   "cell_type": "code",
   "execution_count": 84,
   "metadata": {},
   "outputs": [
    {
     "ename": "TypeError",
     "evalue": "unhashable type: 'list'",
     "output_type": "error",
     "traceback": [
      "\u001b[1;31m---------------------------------------------------------------------------\u001b[0m",
      "\u001b[1;31mTypeError\u001b[0m                                 Traceback (most recent call last)",
      "\u001b[1;32mpandas\\_libs\\hashtable_class_helper.pxi\u001b[0m in \u001b[0;36mpandas._libs.hashtable.PyObjectHashTable.map_locations\u001b[1;34m()\u001b[0m\n",
      "\u001b[1;31mTypeError\u001b[0m: unhashable type: 'list'"
     ]
    },
    {
     "name": "stderr",
     "output_type": "stream",
     "text": [
      "Exception ignored in: 'pandas._libs.index.IndexEngine._call_map_locations'\n",
      "Traceback (most recent call last):\n",
      "  File \"pandas\\_libs\\hashtable_class_helper.pxi\", line 1652, in pandas._libs.hashtable.PyObjectHashTable.map_locations\n",
      "TypeError: unhashable type: 'list'\n"
     ]
    },
    {
     "data": {
      "text/html": [
       "<div>\n",
       "<style scoped>\n",
       "    .dataframe tbody tr th:only-of-type {\n",
       "        vertical-align: middle;\n",
       "    }\n",
       "\n",
       "    .dataframe tbody tr th {\n",
       "        vertical-align: top;\n",
       "    }\n",
       "\n",
       "    .dataframe thead th {\n",
       "        text-align: right;\n",
       "    }\n",
       "</style>\n",
       "<table border=\"1\" class=\"dataframe\">\n",
       "  <thead>\n",
       "    <tr style=\"text-align: right;\">\n",
       "      <th></th>\n",
       "      <th>asin</th>\n",
       "      <th>description</th>\n",
       "      <th>title</th>\n",
       "      <th>date</th>\n",
       "      <th>brand</th>\n",
       "    </tr>\n",
       "  </thead>\n",
       "  <tbody>\n",
       "    <tr>\n",
       "      <th>count</th>\n",
       "      <td>18772</td>\n",
       "      <td>5130</td>\n",
       "      <td>18771</td>\n",
       "      <td>18588</td>\n",
       "      <td>18295</td>\n",
       "    </tr>\n",
       "    <tr>\n",
       "      <th>unique</th>\n",
       "      <td>18521</td>\n",
       "      <td>4437</td>\n",
       "      <td>18417</td>\n",
       "      <td>3042</td>\n",
       "      <td>5785</td>\n",
       "    </tr>\n",
       "    <tr>\n",
       "      <th>top</th>\n",
       "      <td>B00004Y74O</td>\n",
       "      <td>[]</td>\n",
       "      <td>onepix Hard Case for MacBook</td>\n",
       "      <td>2016-06-16 00:00:00</td>\n",
       "      <td>HP</td>\n",
       "    </tr>\n",
       "    <tr>\n",
       "      <th>freq</th>\n",
       "      <td>2</td>\n",
       "      <td>122</td>\n",
       "      <td>7</td>\n",
       "      <td>404</td>\n",
       "      <td>212</td>\n",
       "    </tr>\n",
       "    <tr>\n",
       "      <th>first</th>\n",
       "      <td>NaN</td>\n",
       "      <td>NaN</td>\n",
       "      <td>NaN</td>\n",
       "      <td>1973-09-04 00:00:00</td>\n",
       "      <td>NaN</td>\n",
       "    </tr>\n",
       "    <tr>\n",
       "      <th>last</th>\n",
       "      <td>NaN</td>\n",
       "      <td>NaN</td>\n",
       "      <td>NaN</td>\n",
       "      <td>2019-01-08 00:00:00</td>\n",
       "      <td>NaN</td>\n",
       "    </tr>\n",
       "  </tbody>\n",
       "</table>\n",
       "</div>"
      ],
      "text/plain": [
       "              asin description                         title  \\\n",
       "count        18772        5130                         18771   \n",
       "unique       18521        4437                         18417   \n",
       "top     B00004Y74O          []  onepix Hard Case for MacBook   \n",
       "freq             2         122                             7   \n",
       "first          NaN         NaN                           NaN   \n",
       "last           NaN         NaN                           NaN   \n",
       "\n",
       "                       date  brand  \n",
       "count                 18588  18295  \n",
       "unique                 3042   5785  \n",
       "top     2016-06-16 00:00:00     HP  \n",
       "freq                    404    212  \n",
       "first   1973-09-04 00:00:00    NaN  \n",
       "last    2019-01-08 00:00:00    NaN  "
      ]
     },
     "execution_count": 84,
     "metadata": {},
     "output_type": "execute_result"
    }
   ],
   "source": [
    "meta_data[['asin','description','title','date','brand']].describe(include='all')\n",
    "#The other columns are causing issues because they contain list"
   ]
  },
  {
   "cell_type": "markdown",
   "metadata": {},
   "source": [
    "Let's check if the duplicates are true duplicates i.e same ID, description and title"
   ]
  },
  {
   "cell_type": "code",
   "execution_count": 85,
   "metadata": {},
   "outputs": [
    {
     "data": {
      "text/html": [
       "<div>\n",
       "<style scoped>\n",
       "    .dataframe tbody tr th:only-of-type {\n",
       "        vertical-align: middle;\n",
       "    }\n",
       "\n",
       "    .dataframe tbody tr th {\n",
       "        vertical-align: top;\n",
       "    }\n",
       "\n",
       "    .dataframe thead th {\n",
       "        text-align: right;\n",
       "    }\n",
       "</style>\n",
       "<table border=\"1\" class=\"dataframe\">\n",
       "  <thead>\n",
       "    <tr style=\"text-align: right;\">\n",
       "      <th></th>\n",
       "      <th>asin</th>\n",
       "      <th>description</th>\n",
       "      <th>title</th>\n",
       "    </tr>\n",
       "  </thead>\n",
       "  <tbody>\n",
       "    <tr>\n",
       "      <th>0</th>\n",
       "      <td>0321732960</td>\n",
       "      <td>[Brand new. Still in factory-sealed plastic.]</td>\n",
       "      <td>Kelby Training DVD: The Adobe Photoshop CS5 7-...</td>\n",
       "    </tr>\n",
       "    <tr>\n",
       "      <th>1</th>\n",
       "      <td>0321735722</td>\n",
       "      <td>[If you're already a Photoshop user and want a...</td>\n",
       "      <td>Kelby Training DVD: Adobe Photoshop CS5 Power ...</td>\n",
       "    </tr>\n",
       "    <tr>\n",
       "      <th>2</th>\n",
       "      <td>0439651859</td>\n",
       "      <td>[School To Home Notes: Note From the Teacher!\\...</td>\n",
       "      <td>TEACHERS FRIEND NOTE FROM THE TEACHER SCHOOL T...</td>\n",
       "    </tr>\n",
       "    <tr>\n",
       "      <th>3</th>\n",
       "      <td>0545729971</td>\n",
       "      <td>[Dooqi is a young brand specializing in high-e...</td>\n",
       "      <td>[3-pack]Ipad Mini Screen Protector, Dooqi Scre...</td>\n",
       "    </tr>\n",
       "    <tr>\n",
       "      <th>4</th>\n",
       "      <td>0594450284</td>\n",
       "      <td>[Cover for Nook HD]</td>\n",
       "      <td>Hd+ Cheetah Cover- Nook</td>\n",
       "    </tr>\n",
       "  </tbody>\n",
       "</table>\n",
       "</div>"
      ],
      "text/plain": [
       "         asin                                        description  \\\n",
       "0  0321732960      [Brand new. Still in factory-sealed plastic.]   \n",
       "1  0321735722  [If you're already a Photoshop user and want a...   \n",
       "2  0439651859  [School To Home Notes: Note From the Teacher!\\...   \n",
       "3  0545729971  [Dooqi is a young brand specializing in high-e...   \n",
       "4  0594450284                                [Cover for Nook HD]   \n",
       "\n",
       "                                               title  \n",
       "0  Kelby Training DVD: The Adobe Photoshop CS5 7-...  \n",
       "1  Kelby Training DVD: Adobe Photoshop CS5 Power ...  \n",
       "2  TEACHERS FRIEND NOTE FROM THE TEACHER SCHOOL T...  \n",
       "3  [3-pack]Ipad Mini Screen Protector, Dooqi Scre...  \n",
       "4                            Hd+ Cheetah Cover- Nook  "
      ]
     },
     "execution_count": 85,
     "metadata": {},
     "output_type": "execute_result"
    }
   ],
   "source": [
    "duplicates=meta_data[['asin','description','title']]\n",
    "duplicates.head()"
   ]
  },
  {
   "cell_type": "code",
   "execution_count": 86,
   "metadata": {},
   "outputs": [
    {
     "data": {
      "text/html": [
       "<div>\n",
       "<style scoped>\n",
       "    .dataframe tbody tr th:only-of-type {\n",
       "        vertical-align: middle;\n",
       "    }\n",
       "\n",
       "    .dataframe tbody tr th {\n",
       "        vertical-align: top;\n",
       "    }\n",
       "\n",
       "    .dataframe thead th {\n",
       "        text-align: right;\n",
       "    }\n",
       "</style>\n",
       "<table border=\"1\" class=\"dataframe\">\n",
       "  <thead>\n",
       "    <tr style=\"text-align: right;\">\n",
       "      <th></th>\n",
       "      <th>description</th>\n",
       "    </tr>\n",
       "    <tr>\n",
       "      <th>asin</th>\n",
       "      <th></th>\n",
       "    </tr>\n",
       "  </thead>\n",
       "  <tbody>\n",
       "    <tr>\n",
       "      <th>0321732960</th>\n",
       "      <td>1</td>\n",
       "    </tr>\n",
       "    <tr>\n",
       "      <th>0321735722</th>\n",
       "      <td>1</td>\n",
       "    </tr>\n",
       "    <tr>\n",
       "      <th>0439651859</th>\n",
       "      <td>1</td>\n",
       "    </tr>\n",
       "    <tr>\n",
       "      <th>0545729971</th>\n",
       "      <td>1</td>\n",
       "    </tr>\n",
       "    <tr>\n",
       "      <th>0594450284</th>\n",
       "      <td>1</td>\n",
       "    </tr>\n",
       "  </tbody>\n",
       "</table>\n",
       "</div>"
      ],
      "text/plain": [
       "            description\n",
       "asin                   \n",
       "0321732960            1\n",
       "0321735722            1\n",
       "0439651859            1\n",
       "0545729971            1\n",
       "0594450284            1"
      ]
     },
     "execution_count": 86,
     "metadata": {},
     "output_type": "execute_result"
    }
   ],
   "source": [
    "cnt=duplicates[['asin','description']].groupby('asin').count()\n",
    "cnt.head()"
   ]
  },
  {
   "cell_type": "code",
   "execution_count": 87,
   "metadata": {},
   "outputs": [
    {
     "data": {
      "text/plain": [
       "Index(['description'], dtype='object')"
      ]
     },
     "execution_count": 87,
     "metadata": {},
     "output_type": "execute_result"
    }
   ],
   "source": [
    "cnt.columns"
   ]
  },
  {
   "cell_type": "code",
   "execution_count": 88,
   "metadata": {},
   "outputs": [
    {
     "data": {
      "text/html": [
       "<div>\n",
       "<style scoped>\n",
       "    .dataframe tbody tr th:only-of-type {\n",
       "        vertical-align: middle;\n",
       "    }\n",
       "\n",
       "    .dataframe tbody tr th {\n",
       "        vertical-align: top;\n",
       "    }\n",
       "\n",
       "    .dataframe thead th {\n",
       "        text-align: right;\n",
       "    }\n",
       "</style>\n",
       "<table border=\"1\" class=\"dataframe\">\n",
       "  <thead>\n",
       "    <tr style=\"text-align: right;\">\n",
       "      <th></th>\n",
       "      <th>cnt</th>\n",
       "    </tr>\n",
       "    <tr>\n",
       "      <th>asin</th>\n",
       "      <th></th>\n",
       "    </tr>\n",
       "  </thead>\n",
       "  <tbody>\n",
       "    <tr>\n",
       "      <th>B00001MXZ7</th>\n",
       "      <td>2</td>\n",
       "    </tr>\n",
       "    <tr>\n",
       "      <th>B00003Q09I</th>\n",
       "      <td>2</td>\n",
       "    </tr>\n",
       "    <tr>\n",
       "      <th>B00004SYNG</th>\n",
       "      <td>2</td>\n",
       "    </tr>\n",
       "    <tr>\n",
       "      <th>B00004SYNK</th>\n",
       "      <td>2</td>\n",
       "    </tr>\n",
       "    <tr>\n",
       "      <th>B00004TEBU</th>\n",
       "      <td>2</td>\n",
       "    </tr>\n",
       "  </tbody>\n",
       "</table>\n",
       "</div>"
      ],
      "text/plain": [
       "            cnt\n",
       "asin           \n",
       "B00001MXZ7    2\n",
       "B00003Q09I    2\n",
       "B00004SYNG    2\n",
       "B00004SYNK    2\n",
       "B00004TEBU    2"
      ]
     },
     "execution_count": 88,
     "metadata": {},
     "output_type": "execute_result"
    }
   ],
   "source": [
    "cnt=cnt.rename(columns={'description':'cnt'})\n",
    "cnt[cnt['cnt']>1].head()"
   ]
  },
  {
   "cell_type": "code",
   "execution_count": 89,
   "metadata": {},
   "outputs": [
    {
     "data": {
      "text/html": [
       "<div>\n",
       "<style scoped>\n",
       "    .dataframe tbody tr th:only-of-type {\n",
       "        vertical-align: middle;\n",
       "    }\n",
       "\n",
       "    .dataframe tbody tr th {\n",
       "        vertical-align: top;\n",
       "    }\n",
       "\n",
       "    .dataframe thead th {\n",
       "        text-align: right;\n",
       "    }\n",
       "</style>\n",
       "<table border=\"1\" class=\"dataframe\">\n",
       "  <thead>\n",
       "    <tr style=\"text-align: right;\">\n",
       "      <th></th>\n",
       "      <th>cnt</th>\n",
       "    </tr>\n",
       "    <tr>\n",
       "      <th>asin</th>\n",
       "      <th></th>\n",
       "    </tr>\n",
       "  </thead>\n",
       "  <tbody>\n",
       "    <tr>\n",
       "      <th>0321732960</th>\n",
       "      <td>1</td>\n",
       "    </tr>\n",
       "    <tr>\n",
       "      <th>0321735722</th>\n",
       "      <td>1</td>\n",
       "    </tr>\n",
       "    <tr>\n",
       "      <th>0439651859</th>\n",
       "      <td>1</td>\n",
       "    </tr>\n",
       "    <tr>\n",
       "      <th>0545729971</th>\n",
       "      <td>1</td>\n",
       "    </tr>\n",
       "    <tr>\n",
       "      <th>0594450284</th>\n",
       "      <td>1</td>\n",
       "    </tr>\n",
       "  </tbody>\n",
       "</table>\n",
       "</div>"
      ],
      "text/plain": [
       "            cnt\n",
       "asin           \n",
       "0321732960    1\n",
       "0321735722    1\n",
       "0439651859    1\n",
       "0545729971    1\n",
       "0594450284    1"
      ]
     },
     "execution_count": 89,
     "metadata": {},
     "output_type": "execute_result"
    }
   ],
   "source": [
    "#cnt=cnt.reset_index()\n",
    "#cnt=cnt.drop('level_0', axis=1)\n",
    "cnt.head()"
   ]
  },
  {
   "cell_type": "code",
   "execution_count": 90,
   "metadata": {},
   "outputs": [
    {
     "name": "stdout",
     "output_type": "stream",
     "text": [
      "cnt dtypes: cnt    int64\n",
      "dtype: object\n",
      "----------------\n",
      "duplicates dtypes: asin           object\n",
      "description    object\n",
      "title          object\n",
      "dtype: object\n"
     ]
    }
   ],
   "source": [
    "print('cnt dtypes:', cnt.dtypes)\n",
    "print('----------------')\n",
    "print('duplicates dtypes:',duplicates.dtypes)"
   ]
  },
  {
   "cell_type": "code",
   "execution_count": 91,
   "metadata": {},
   "outputs": [
    {
     "data": {
      "text/html": [
       "<div>\n",
       "<style scoped>\n",
       "    .dataframe tbody tr th:only-of-type {\n",
       "        vertical-align: middle;\n",
       "    }\n",
       "\n",
       "    .dataframe tbody tr th {\n",
       "        vertical-align: top;\n",
       "    }\n",
       "\n",
       "    .dataframe thead th {\n",
       "        text-align: right;\n",
       "    }\n",
       "</style>\n",
       "<table border=\"1\" class=\"dataframe\">\n",
       "  <thead>\n",
       "    <tr style=\"text-align: right;\">\n",
       "      <th></th>\n",
       "      <th>asin</th>\n",
       "      <th>description</th>\n",
       "      <th>title</th>\n",
       "      <th>cnt</th>\n",
       "    </tr>\n",
       "  </thead>\n",
       "  <tbody>\n",
       "    <tr>\n",
       "      <th>0</th>\n",
       "      <td>0321732960</td>\n",
       "      <td>[Brand new. Still in factory-sealed plastic.]</td>\n",
       "      <td>Kelby Training DVD: The Adobe Photoshop CS5 7-...</td>\n",
       "      <td>1</td>\n",
       "    </tr>\n",
       "    <tr>\n",
       "      <th>1</th>\n",
       "      <td>0321735722</td>\n",
       "      <td>[If you're already a Photoshop user and want a...</td>\n",
       "      <td>Kelby Training DVD: Adobe Photoshop CS5 Power ...</td>\n",
       "      <td>1</td>\n",
       "    </tr>\n",
       "    <tr>\n",
       "      <th>2</th>\n",
       "      <td>0439651859</td>\n",
       "      <td>[School To Home Notes: Note From the Teacher!\\...</td>\n",
       "      <td>TEACHERS FRIEND NOTE FROM THE TEACHER SCHOOL T...</td>\n",
       "      <td>1</td>\n",
       "    </tr>\n",
       "    <tr>\n",
       "      <th>3</th>\n",
       "      <td>0545729971</td>\n",
       "      <td>[Dooqi is a young brand specializing in high-e...</td>\n",
       "      <td>[3-pack]Ipad Mini Screen Protector, Dooqi Scre...</td>\n",
       "      <td>1</td>\n",
       "    </tr>\n",
       "    <tr>\n",
       "      <th>4</th>\n",
       "      <td>0594450284</td>\n",
       "      <td>[Cover for Nook HD]</td>\n",
       "      <td>Hd+ Cheetah Cover- Nook</td>\n",
       "      <td>1</td>\n",
       "    </tr>\n",
       "  </tbody>\n",
       "</table>\n",
       "</div>"
      ],
      "text/plain": [
       "         asin                                        description  \\\n",
       "0  0321732960      [Brand new. Still in factory-sealed plastic.]   \n",
       "1  0321735722  [If you're already a Photoshop user and want a...   \n",
       "2  0439651859  [School To Home Notes: Note From the Teacher!\\...   \n",
       "3  0545729971  [Dooqi is a young brand specializing in high-e...   \n",
       "4  0594450284                                [Cover for Nook HD]   \n",
       "\n",
       "                                               title  cnt  \n",
       "0  Kelby Training DVD: The Adobe Photoshop CS5 7-...    1  \n",
       "1  Kelby Training DVD: Adobe Photoshop CS5 Power ...    1  \n",
       "2  TEACHERS FRIEND NOTE FROM THE TEACHER SCHOOL T...    1  \n",
       "3  [3-pack]Ipad Mini Screen Protector, Dooqi Scre...    1  \n",
       "4                            Hd+ Cheetah Cover- Nook    1  "
      ]
     },
     "execution_count": 91,
     "metadata": {},
     "output_type": "execute_result"
    }
   ],
   "source": [
    "duplicates=duplicates.merge(cnt, on='asin',how='left')\n",
    "duplicates.head()"
   ]
  },
  {
   "cell_type": "code",
   "execution_count": 92,
   "metadata": {},
   "outputs": [
    {
     "data": {
      "text/html": [
       "<div>\n",
       "<style scoped>\n",
       "    .dataframe tbody tr th:only-of-type {\n",
       "        vertical-align: middle;\n",
       "    }\n",
       "\n",
       "    .dataframe tbody tr th {\n",
       "        vertical-align: top;\n",
       "    }\n",
       "\n",
       "    .dataframe thead th {\n",
       "        text-align: right;\n",
       "    }\n",
       "</style>\n",
       "<table border=\"1\" class=\"dataframe\">\n",
       "  <thead>\n",
       "    <tr style=\"text-align: right;\">\n",
       "      <th></th>\n",
       "      <th>asin</th>\n",
       "      <th>description</th>\n",
       "      <th>title</th>\n",
       "      <th>cnt</th>\n",
       "    </tr>\n",
       "  </thead>\n",
       "  <tbody>\n",
       "    <tr>\n",
       "      <th>38</th>\n",
       "      <td>B00001MXZ7</td>\n",
       "      <td>[The EO2010 21-inch (20.1-inch viewable) displ...</td>\n",
       "      <td>Princeton Eo2010 21\" Monitor (Pc/Mac)</td>\n",
       "      <td>2</td>\n",
       "    </tr>\n",
       "    <tr>\n",
       "      <th>39</th>\n",
       "      <td>B00003Q09I</td>\n",
       "      <td>[The ViewSonic GS790 Short Neck 19-inch monito...</td>\n",
       "      <td>Viewsonic Gs790 19\" Short Neck Monitor (Pc/Mac)</td>\n",
       "      <td>2</td>\n",
       "    </tr>\n",
       "    <tr>\n",
       "      <th>40</th>\n",
       "      <td>B00004SYNG</td>\n",
       "      <td>[NEC's AccuSync line of monitors is the compan...</td>\n",
       "      <td>NEC AccuSync 50 15\" Monitor (PC/Mac)</td>\n",
       "      <td>2</td>\n",
       "    </tr>\n",
       "    <tr>\n",
       "      <th>41</th>\n",
       "      <td>B00004SYNK</td>\n",
       "      <td>[If you're looking to move on from a teeny-tin...</td>\n",
       "      <td>NEC AccuSync 90 19\" Monitor (PC/Mac)</td>\n",
       "      <td>2</td>\n",
       "    </tr>\n",
       "    <tr>\n",
       "      <th>42</th>\n",
       "      <td>B00004TEBU</td>\n",
       "      <td>[The Viking IntelliFlash USB flash memory read...</td>\n",
       "      <td>Test Big Data 9658</td>\n",
       "      <td>2</td>\n",
       "    </tr>\n",
       "    <tr>\n",
       "      <th>43</th>\n",
       "      <td>B00004TS2P</td>\n",
       "      <td>[The ViewSonic E-790 19-inch monitor provides ...</td>\n",
       "      <td>ViewSonic E790 19\" Monitor</td>\n",
       "      <td>2</td>\n",
       "    </tr>\n",
       "    <tr>\n",
       "      <th>44</th>\n",
       "      <td>B00004TS2Q</td>\n",
       "      <td>[The ViewSonic E-790B 19-inch monitor provides...</td>\n",
       "      <td>ViewSonic E-790B 19\" Monitor</td>\n",
       "      <td>2</td>\n",
       "    </tr>\n",
       "    <tr>\n",
       "      <th>45</th>\n",
       "      <td>B00004TS2O</td>\n",
       "      <td>[The Optiquest Q-95 19-inch CRT monitor with P...</td>\n",
       "      <td>Optiquest Q-95 19\" Monitor</td>\n",
       "      <td>2</td>\n",
       "    </tr>\n",
       "    <tr>\n",
       "      <th>47</th>\n",
       "      <td>B00004Y74O</td>\n",
       "      <td>[The NEC MultiSync FE950 monitor features NEC'...</td>\n",
       "      <td>NEC MultiSync FE950 Totally Flat 19\" Monitor (...</td>\n",
       "      <td>2</td>\n",
       "    </tr>\n",
       "    <tr>\n",
       "      <th>48</th>\n",
       "      <td>B00004Y74J</td>\n",
       "      <td>[The NEC MultiSync FE700M flat monitor allows ...</td>\n",
       "      <td>NEC MultiSync FE700M Totally Flat 17\" Multimed...</td>\n",
       "      <td>2</td>\n",
       "    </tr>\n",
       "  </tbody>\n",
       "</table>\n",
       "</div>"
      ],
      "text/plain": [
       "          asin                                        description  \\\n",
       "38  B00001MXZ7  [The EO2010 21-inch (20.1-inch viewable) displ...   \n",
       "39  B00003Q09I  [The ViewSonic GS790 Short Neck 19-inch monito...   \n",
       "40  B00004SYNG  [NEC's AccuSync line of monitors is the compan...   \n",
       "41  B00004SYNK  [If you're looking to move on from a teeny-tin...   \n",
       "42  B00004TEBU  [The Viking IntelliFlash USB flash memory read...   \n",
       "43  B00004TS2P  [The ViewSonic E-790 19-inch monitor provides ...   \n",
       "44  B00004TS2Q  [The ViewSonic E-790B 19-inch monitor provides...   \n",
       "45  B00004TS2O  [The Optiquest Q-95 19-inch CRT monitor with P...   \n",
       "47  B00004Y74O  [The NEC MultiSync FE950 monitor features NEC'...   \n",
       "48  B00004Y74J  [The NEC MultiSync FE700M flat monitor allows ...   \n",
       "\n",
       "                                                title  cnt  \n",
       "38              Princeton Eo2010 21\" Monitor (Pc/Mac)    2  \n",
       "39    Viewsonic Gs790 19\" Short Neck Monitor (Pc/Mac)    2  \n",
       "40               NEC AccuSync 50 15\" Monitor (PC/Mac)    2  \n",
       "41               NEC AccuSync 90 19\" Monitor (PC/Mac)    2  \n",
       "42                                 Test Big Data 9658    2  \n",
       "43                         ViewSonic E790 19\" Monitor    2  \n",
       "44                       ViewSonic E-790B 19\" Monitor    2  \n",
       "45                         Optiquest Q-95 19\" Monitor    2  \n",
       "47  NEC MultiSync FE950 Totally Flat 19\" Monitor (...    2  \n",
       "48  NEC MultiSync FE700M Totally Flat 17\" Multimed...    2  "
      ]
     },
     "execution_count": 92,
     "metadata": {},
     "output_type": "execute_result"
    }
   ],
   "source": [
    "duplicates=duplicates[duplicates['cnt']>1]\n",
    "duplicates.head(10)"
   ]
  },
  {
   "cell_type": "code",
   "execution_count": 93,
   "metadata": {},
   "outputs": [
    {
     "data": {
      "text/html": [
       "<div>\n",
       "<style scoped>\n",
       "    .dataframe tbody tr th:only-of-type {\n",
       "        vertical-align: middle;\n",
       "    }\n",
       "\n",
       "    .dataframe tbody tr th {\n",
       "        vertical-align: top;\n",
       "    }\n",
       "\n",
       "    .dataframe thead th {\n",
       "        text-align: right;\n",
       "    }\n",
       "</style>\n",
       "<table border=\"1\" class=\"dataframe\">\n",
       "  <thead>\n",
       "    <tr style=\"text-align: right;\">\n",
       "      <th></th>\n",
       "      <th>asin</th>\n",
       "      <th>title</th>\n",
       "      <th>description</th>\n",
       "    </tr>\n",
       "  </thead>\n",
       "  <tbody>\n",
       "    <tr>\n",
       "      <th>38</th>\n",
       "      <td>B00001MXZ7</td>\n",
       "      <td>Princeton Eo2010 21\" Monitor (Pc/Mac)</td>\n",
       "      <td>[The EO2010 21-inch (20.1-inch viewable) displ...</td>\n",
       "    </tr>\n",
       "    <tr>\n",
       "      <th>39</th>\n",
       "      <td>B00003Q09I</td>\n",
       "      <td>Viewsonic Gs790 19\" Short Neck Monitor (Pc/Mac)</td>\n",
       "      <td>[The ViewSonic GS790 Short Neck 19-inch monito...</td>\n",
       "    </tr>\n",
       "    <tr>\n",
       "      <th>40</th>\n",
       "      <td>B00004SYNG</td>\n",
       "      <td>NEC AccuSync 50 15\" Monitor (PC/Mac)</td>\n",
       "      <td>[NEC's AccuSync line of monitors is the compan...</td>\n",
       "    </tr>\n",
       "    <tr>\n",
       "      <th>41</th>\n",
       "      <td>B00004SYNK</td>\n",
       "      <td>NEC AccuSync 90 19\" Monitor (PC/Mac)</td>\n",
       "      <td>[If you're looking to move on from a teeny-tin...</td>\n",
       "    </tr>\n",
       "    <tr>\n",
       "      <th>42</th>\n",
       "      <td>B00004TEBU</td>\n",
       "      <td>Test Big Data 9658</td>\n",
       "      <td>[The Viking IntelliFlash USB flash memory read...</td>\n",
       "    </tr>\n",
       "    <tr>\n",
       "      <th>43</th>\n",
       "      <td>B00004TS2P</td>\n",
       "      <td>ViewSonic E790 19\" Monitor</td>\n",
       "      <td>[The ViewSonic E-790 19-inch monitor provides ...</td>\n",
       "    </tr>\n",
       "    <tr>\n",
       "      <th>44</th>\n",
       "      <td>B00004TS2Q</td>\n",
       "      <td>ViewSonic E-790B 19\" Monitor</td>\n",
       "      <td>[The ViewSonic E-790B 19-inch monitor provides...</td>\n",
       "    </tr>\n",
       "    <tr>\n",
       "      <th>45</th>\n",
       "      <td>B00004TS2O</td>\n",
       "      <td>Optiquest Q-95 19\" Monitor</td>\n",
       "      <td>[The Optiquest Q-95 19-inch CRT monitor with P...</td>\n",
       "    </tr>\n",
       "    <tr>\n",
       "      <th>47</th>\n",
       "      <td>B00004Y74O</td>\n",
       "      <td>NEC MultiSync FE950 Totally Flat 19\" Monitor (...</td>\n",
       "      <td>[The NEC MultiSync FE950 monitor features NEC'...</td>\n",
       "    </tr>\n",
       "    <tr>\n",
       "      <th>48</th>\n",
       "      <td>B00004Y74J</td>\n",
       "      <td>NEC MultiSync FE700M Totally Flat 17\" Multimed...</td>\n",
       "      <td>[The NEC MultiSync FE700M flat monitor allows ...</td>\n",
       "    </tr>\n",
       "  </tbody>\n",
       "</table>\n",
       "</div>"
      ],
      "text/plain": [
       "          asin                                              title  \\\n",
       "38  B00001MXZ7              Princeton Eo2010 21\" Monitor (Pc/Mac)   \n",
       "39  B00003Q09I    Viewsonic Gs790 19\" Short Neck Monitor (Pc/Mac)   \n",
       "40  B00004SYNG               NEC AccuSync 50 15\" Monitor (PC/Mac)   \n",
       "41  B00004SYNK               NEC AccuSync 90 19\" Monitor (PC/Mac)   \n",
       "42  B00004TEBU                                 Test Big Data 9658   \n",
       "43  B00004TS2P                         ViewSonic E790 19\" Monitor   \n",
       "44  B00004TS2Q                       ViewSonic E-790B 19\" Monitor   \n",
       "45  B00004TS2O                         Optiquest Q-95 19\" Monitor   \n",
       "47  B00004Y74O  NEC MultiSync FE950 Totally Flat 19\" Monitor (...   \n",
       "48  B00004Y74J  NEC MultiSync FE700M Totally Flat 17\" Multimed...   \n",
       "\n",
       "                                          description  \n",
       "38  [The EO2010 21-inch (20.1-inch viewable) displ...  \n",
       "39  [The ViewSonic GS790 Short Neck 19-inch monito...  \n",
       "40  [NEC's AccuSync line of monitors is the compan...  \n",
       "41  [If you're looking to move on from a teeny-tin...  \n",
       "42  [The Viking IntelliFlash USB flash memory read...  \n",
       "43  [The ViewSonic E-790 19-inch monitor provides ...  \n",
       "44  [The ViewSonic E-790B 19-inch monitor provides...  \n",
       "45  [The Optiquest Q-95 19-inch CRT monitor with P...  \n",
       "47  [The NEC MultiSync FE950 monitor features NEC'...  \n",
       "48  [The NEC MultiSync FE700M flat monitor allows ...  "
      ]
     },
     "execution_count": 93,
     "metadata": {},
     "output_type": "execute_result"
    }
   ],
   "source": [
    "#duplicates.reset_index(inplace=True)\n",
    "duplicates.drop('cnt',axis=1,inplace=True)\n",
    "#duplicates.drop(['index','level_0'],axis=1,inplace=True)\n",
    "duplicates=duplicates[['asin','title','description']]\n",
    "duplicates.head(10)"
   ]
  },
  {
   "cell_type": "code",
   "execution_count": 98,
   "metadata": {},
   "outputs": [],
   "source": [
    "#duplicates['identifier']=duplicates['asin'].str.cat(duplicates['title'])\n",
    "#duplicates.drop(['asin','title'], axis=1, inplace=True)\n",
    "true_duplicates=duplicates.groupby(['identifier']).count()"
   ]
  },
  {
   "cell_type": "code",
   "execution_count": 101,
   "metadata": {},
   "outputs": [
    {
     "data": {
      "text/plain": [
       "Index(['description'], dtype='object')"
      ]
     },
     "execution_count": 101,
     "metadata": {},
     "output_type": "execute_result"
    }
   ],
   "source": [
    "true_duplicates.columns"
   ]
  },
  {
   "cell_type": "code",
   "execution_count": 105,
   "metadata": {},
   "outputs": [
    {
     "data": {
      "text/html": [
       "<div>\n",
       "<style scoped>\n",
       "    .dataframe tbody tr th:only-of-type {\n",
       "        vertical-align: middle;\n",
       "    }\n",
       "\n",
       "    .dataframe tbody tr th {\n",
       "        vertical-align: top;\n",
       "    }\n",
       "\n",
       "    .dataframe thead th {\n",
       "        text-align: right;\n",
       "    }\n",
       "</style>\n",
       "<table border=\"1\" class=\"dataframe\">\n",
       "  <thead>\n",
       "    <tr style=\"text-align: right;\">\n",
       "      <th></th>\n",
       "      <th>identifier</th>\n",
       "      <th>cnt</th>\n",
       "    </tr>\n",
       "  </thead>\n",
       "  <tbody>\n",
       "    <tr>\n",
       "      <th>0</th>\n",
       "      <td>B00001MXZ7Princeton Eo2010 21\" Monitor (Pc/Mac)</td>\n",
       "      <td>2</td>\n",
       "    </tr>\n",
       "    <tr>\n",
       "      <th>1</th>\n",
       "      <td>B00003Q09IViewsonic Gs790 19\" Short Neck Monit...</td>\n",
       "      <td>2</td>\n",
       "    </tr>\n",
       "    <tr>\n",
       "      <th>2</th>\n",
       "      <td>B00004SYNGNEC AccuSync 50 15\" Monitor (PC/Mac)</td>\n",
       "      <td>2</td>\n",
       "    </tr>\n",
       "    <tr>\n",
       "      <th>3</th>\n",
       "      <td>B00004SYNKNEC AccuSync 90 19\" Monitor (PC/Mac)</td>\n",
       "      <td>2</td>\n",
       "    </tr>\n",
       "    <tr>\n",
       "      <th>4</th>\n",
       "      <td>B00004TEBUTest Big Data 9658</td>\n",
       "      <td>2</td>\n",
       "    </tr>\n",
       "  </tbody>\n",
       "</table>\n",
       "</div>"
      ],
      "text/plain": [
       "                                          identifier  cnt\n",
       "0    B00001MXZ7Princeton Eo2010 21\" Monitor (Pc/Mac)    2\n",
       "1  B00003Q09IViewsonic Gs790 19\" Short Neck Monit...    2\n",
       "2     B00004SYNGNEC AccuSync 50 15\" Monitor (PC/Mac)    2\n",
       "3     B00004SYNKNEC AccuSync 90 19\" Monitor (PC/Mac)    2\n",
       "4                       B00004TEBUTest Big Data 9658    2"
      ]
     },
     "execution_count": 105,
     "metadata": {},
     "output_type": "execute_result"
    }
   ],
   "source": [
    "#true_duplicates.rename(columns={'description':'cnt'}, inplace=True)\n",
    "#true_duplicates=true_duplicates[true_duplicates['cnt']>1]\n",
    "#true_duplicates.reset_index(inplace=True)\n",
    "true_duplicates.head()"
   ]
  },
  {
   "cell_type": "code",
   "execution_count": 106,
   "metadata": {},
   "outputs": [
    {
     "name": "stdout",
     "output_type": "stream",
     "text": [
      "duplicates: (398, 2)\n",
      "-----------------------\n",
      "true duplicates: (199, 2)\n"
     ]
    }
   ],
   "source": [
    "print('duplicates:', duplicates.shape)\n",
    "print('-----------------------')\n",
    "print('true duplicates:', true_duplicates.shape)"
   ]
  },
  {
   "cell_type": "markdown",
   "metadata": {},
   "source": [
    "It looks strange that the true duplicates are exactly half of the duplicates"
   ]
  }
 ],
 "metadata": {
  "kernelspec": {
   "display_name": "Python 3",
   "language": "python",
   "name": "python3"
  },
  "language_info": {
   "codemirror_mode": {
    "name": "ipython",
    "version": 3
   },
   "file_extension": ".py",
   "mimetype": "text/x-python",
   "name": "python",
   "nbconvert_exporter": "python",
   "pygments_lexer": "ipython3",
   "version": "3.7.4"
  }
 },
 "nbformat": 4,
 "nbformat_minor": 2
}
