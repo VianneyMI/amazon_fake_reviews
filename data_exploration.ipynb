{
 "cells": [
  {
   "cell_type": "code",
   "execution_count": 1,
   "metadata": {},
   "outputs": [],
   "source": [
    "import pandas as pd\n",
    "import numpy as np"
   ]
  },
  {
   "cell_type": "code",
   "execution_count": 2,
   "metadata": {},
   "outputs": [],
   "source": [
    "#Loading datasets\n",
    "\n",
    "df_beauty=pd.read_json('data/ref/All_Beauty_5.json', lines=True)\n",
    "df_appliances=pd.read_json('data/ref/Appliances_5.json', lines=True)\n",
    "meta_data=pd.read_json('data/ref/meta_data.json', lines=True)"
   ]
  },
  {
   "cell_type": "markdown",
   "metadata": {},
   "source": [
    "Compared to the discovery phase, let's try to go further into the anlysis of the data, but let's aim at no modifying the data for now. The goal here is to list the actions that will need to be performed to clean the data and to identify the good features candidates"
   ]
  },
  {
   "cell_type": "markdown",
   "metadata": {},
   "source": [
    "# Meta Data Analysis"
   ]
  },
  {
   "cell_type": "code",
   "execution_count": 3,
   "metadata": {},
   "outputs": [
    {
     "ename": "TypeError",
     "evalue": "unhashable type: 'list'",
     "output_type": "error",
     "traceback": [
      "\u001b[1;31m---------------------------------------------------------------------------\u001b[0m",
      "\u001b[1;31mTypeError\u001b[0m                                 Traceback (most recent call last)",
      "\u001b[1;32mpandas\\_libs\\hashtable_class_helper.pxi\u001b[0m in \u001b[0;36mpandas._libs.hashtable.PyObjectHashTable.map_locations\u001b[1;34m()\u001b[0m\n",
      "\u001b[1;31mTypeError\u001b[0m: unhashable type: 'list'"
     ]
    },
    {
     "name": "stderr",
     "output_type": "stream",
     "text": [
      "Exception ignored in: 'pandas._libs.index.IndexEngine._call_map_locations'\n",
      "Traceback (most recent call last):\n",
      "  File \"pandas\\_libs\\hashtable_class_helper.pxi\", line 1652, in pandas._libs.hashtable.PyObjectHashTable.map_locations\n",
      "TypeError: unhashable type: 'list'\n"
     ]
    },
    {
     "data": {
      "text/html": [
       "<div>\n",
       "<style scoped>\n",
       "    .dataframe tbody tr th:only-of-type {\n",
       "        vertical-align: middle;\n",
       "    }\n",
       "\n",
       "    .dataframe tbody tr th {\n",
       "        vertical-align: top;\n",
       "    }\n",
       "\n",
       "    .dataframe thead th {\n",
       "        text-align: right;\n",
       "    }\n",
       "</style>\n",
       "<table border=\"1\" class=\"dataframe\">\n",
       "  <thead>\n",
       "    <tr style=\"text-align: right;\">\n",
       "      <th></th>\n",
       "      <th>asin</th>\n",
       "      <th>description</th>\n",
       "      <th>title</th>\n",
       "      <th>date</th>\n",
       "      <th>brand</th>\n",
       "    </tr>\n",
       "  </thead>\n",
       "  <tbody>\n",
       "    <tr>\n",
       "      <th>count</th>\n",
       "      <td>18772</td>\n",
       "      <td>5130</td>\n",
       "      <td>18771</td>\n",
       "      <td>18588</td>\n",
       "      <td>18295</td>\n",
       "    </tr>\n",
       "    <tr>\n",
       "      <th>unique</th>\n",
       "      <td>18521</td>\n",
       "      <td>4437</td>\n",
       "      <td>18417</td>\n",
       "      <td>3042</td>\n",
       "      <td>5785</td>\n",
       "    </tr>\n",
       "    <tr>\n",
       "      <th>top</th>\n",
       "      <td>B00011CRZY</td>\n",
       "      <td>[]</td>\n",
       "      <td>onepix Hard Case for MacBook</td>\n",
       "      <td>2016-06-16 00:00:00</td>\n",
       "      <td>HP</td>\n",
       "    </tr>\n",
       "    <tr>\n",
       "      <th>freq</th>\n",
       "      <td>2</td>\n",
       "      <td>122</td>\n",
       "      <td>7</td>\n",
       "      <td>404</td>\n",
       "      <td>212</td>\n",
       "    </tr>\n",
       "    <tr>\n",
       "      <th>first</th>\n",
       "      <td>NaN</td>\n",
       "      <td>NaN</td>\n",
       "      <td>NaN</td>\n",
       "      <td>1973-09-04 00:00:00</td>\n",
       "      <td>NaN</td>\n",
       "    </tr>\n",
       "    <tr>\n",
       "      <th>last</th>\n",
       "      <td>NaN</td>\n",
       "      <td>NaN</td>\n",
       "      <td>NaN</td>\n",
       "      <td>2019-01-08 00:00:00</td>\n",
       "      <td>NaN</td>\n",
       "    </tr>\n",
       "  </tbody>\n",
       "</table>\n",
       "</div>"
      ],
      "text/plain": [
       "              asin description                         title  \\\n",
       "count        18772        5130                         18771   \n",
       "unique       18521        4437                         18417   \n",
       "top     B00011CRZY          []  onepix Hard Case for MacBook   \n",
       "freq             2         122                             7   \n",
       "first          NaN         NaN                           NaN   \n",
       "last           NaN         NaN                           NaN   \n",
       "\n",
       "                       date  brand  \n",
       "count                 18588  18295  \n",
       "unique                 3042   5785  \n",
       "top     2016-06-16 00:00:00     HP  \n",
       "freq                    404    212  \n",
       "first   1973-09-04 00:00:00    NaN  \n",
       "last    2019-01-08 00:00:00    NaN  "
      ]
     },
     "execution_count": 3,
     "metadata": {},
     "output_type": "execute_result"
    }
   ],
   "source": [
    "meta_data[['asin','description','title','date','brand']].describe(include='all')\n",
    "#The other columns are causing issues because they contain list"
   ]
  },
  {
   "cell_type": "markdown",
   "metadata": {},
   "source": [
    "## Duplicates"
   ]
  },
  {
   "cell_type": "markdown",
   "metadata": {},
   "source": [
    "Let's check if the duplicates are true duplicates i.e same ID, description and title"
   ]
  },
  {
   "cell_type": "code",
   "execution_count": 4,
   "metadata": {},
   "outputs": [
    {
     "data": {
      "text/html": [
       "<div>\n",
       "<style scoped>\n",
       "    .dataframe tbody tr th:only-of-type {\n",
       "        vertical-align: middle;\n",
       "    }\n",
       "\n",
       "    .dataframe tbody tr th {\n",
       "        vertical-align: top;\n",
       "    }\n",
       "\n",
       "    .dataframe thead th {\n",
       "        text-align: right;\n",
       "    }\n",
       "</style>\n",
       "<table border=\"1\" class=\"dataframe\">\n",
       "  <thead>\n",
       "    <tr style=\"text-align: right;\">\n",
       "      <th></th>\n",
       "      <th>asin</th>\n",
       "      <th>description</th>\n",
       "      <th>title</th>\n",
       "    </tr>\n",
       "  </thead>\n",
       "  <tbody>\n",
       "    <tr>\n",
       "      <th>0</th>\n",
       "      <td>0321732960</td>\n",
       "      <td>[Brand new. Still in factory-sealed plastic.]</td>\n",
       "      <td>Kelby Training DVD: The Adobe Photoshop CS5 7-...</td>\n",
       "    </tr>\n",
       "    <tr>\n",
       "      <th>1</th>\n",
       "      <td>0321735722</td>\n",
       "      <td>[If you're already a Photoshop user and want a...</td>\n",
       "      <td>Kelby Training DVD: Adobe Photoshop CS5 Power ...</td>\n",
       "    </tr>\n",
       "    <tr>\n",
       "      <th>2</th>\n",
       "      <td>0439651859</td>\n",
       "      <td>[School To Home Notes: Note From the Teacher!\\...</td>\n",
       "      <td>TEACHERS FRIEND NOTE FROM THE TEACHER SCHOOL T...</td>\n",
       "    </tr>\n",
       "    <tr>\n",
       "      <th>3</th>\n",
       "      <td>0545729971</td>\n",
       "      <td>[Dooqi is a young brand specializing in high-e...</td>\n",
       "      <td>[3-pack]Ipad Mini Screen Protector, Dooqi Scre...</td>\n",
       "    </tr>\n",
       "    <tr>\n",
       "      <th>4</th>\n",
       "      <td>0594450284</td>\n",
       "      <td>[Cover for Nook HD]</td>\n",
       "      <td>Hd+ Cheetah Cover- Nook</td>\n",
       "    </tr>\n",
       "  </tbody>\n",
       "</table>\n",
       "</div>"
      ],
      "text/plain": [
       "         asin                                        description  \\\n",
       "0  0321732960      [Brand new. Still in factory-sealed plastic.]   \n",
       "1  0321735722  [If you're already a Photoshop user and want a...   \n",
       "2  0439651859  [School To Home Notes: Note From the Teacher!\\...   \n",
       "3  0545729971  [Dooqi is a young brand specializing in high-e...   \n",
       "4  0594450284                                [Cover for Nook HD]   \n",
       "\n",
       "                                               title  \n",
       "0  Kelby Training DVD: The Adobe Photoshop CS5 7-...  \n",
       "1  Kelby Training DVD: Adobe Photoshop CS5 Power ...  \n",
       "2  TEACHERS FRIEND NOTE FROM THE TEACHER SCHOOL T...  \n",
       "3  [3-pack]Ipad Mini Screen Protector, Dooqi Scre...  \n",
       "4                            Hd+ Cheetah Cover- Nook  "
      ]
     },
     "execution_count": 4,
     "metadata": {},
     "output_type": "execute_result"
    }
   ],
   "source": [
    "duplicates=meta_data[['asin','description','title']]\n",
    "duplicates.head()"
   ]
  },
  {
   "cell_type": "markdown",
   "metadata": {},
   "source": [
    "The descriptions are between brackets. This is causing an issue as well, let's remove them."
   ]
  },
  {
   "cell_type": "code",
   "execution_count": 5,
   "metadata": {},
   "outputs": [
    {
     "name": "stderr",
     "output_type": "stream",
     "text": [
      "C:\\Users\\viann\\Anaconda3\\lib\\site-packages\\ipykernel_launcher.py:1: SettingWithCopyWarning: \n",
      "A value is trying to be set on a copy of a slice from a DataFrame.\n",
      "Try using .loc[row_indexer,col_indexer] = value instead\n",
      "\n",
      "See the caveats in the documentation: https://pandas.pydata.org/pandas-docs/stable/user_guide/indexing.html#returning-a-view-versus-a-copy\n",
      "  \"\"\"Entry point for launching an IPython kernel.\n"
     ]
    },
    {
     "data": {
      "text/html": [
       "<div>\n",
       "<style scoped>\n",
       "    .dataframe tbody tr th:only-of-type {\n",
       "        vertical-align: middle;\n",
       "    }\n",
       "\n",
       "    .dataframe tbody tr th {\n",
       "        vertical-align: top;\n",
       "    }\n",
       "\n",
       "    .dataframe thead th {\n",
       "        text-align: right;\n",
       "    }\n",
       "</style>\n",
       "<table border=\"1\" class=\"dataframe\">\n",
       "  <thead>\n",
       "    <tr style=\"text-align: right;\">\n",
       "      <th></th>\n",
       "      <th>asin</th>\n",
       "      <th>description</th>\n",
       "      <th>title</th>\n",
       "    </tr>\n",
       "  </thead>\n",
       "  <tbody>\n",
       "    <tr>\n",
       "      <th>0</th>\n",
       "      <td>0321732960</td>\n",
       "      <td>Brand new. Still in factory-sealed plastic.</td>\n",
       "      <td>Kelby Training DVD: The Adobe Photoshop CS5 7-...</td>\n",
       "    </tr>\n",
       "    <tr>\n",
       "      <th>1</th>\n",
       "      <td>0321735722</td>\n",
       "      <td>If you're already a Photoshop user and want a ...</td>\n",
       "      <td>Kelby Training DVD: Adobe Photoshop CS5 Power ...</td>\n",
       "    </tr>\n",
       "    <tr>\n",
       "      <th>2</th>\n",
       "      <td>0439651859</td>\n",
       "      <td>School To Home Notes: Note From the Teacher!\\n...</td>\n",
       "      <td>TEACHERS FRIEND NOTE FROM THE TEACHER SCHOOL T...</td>\n",
       "    </tr>\n",
       "  </tbody>\n",
       "</table>\n",
       "</div>"
      ],
      "text/plain": [
       "         asin                                        description  \\\n",
       "0  0321732960        Brand new. Still in factory-sealed plastic.   \n",
       "1  0321735722  If you're already a Photoshop user and want a ...   \n",
       "2  0439651859  School To Home Notes: Note From the Teacher!\\n...   \n",
       "\n",
       "                                               title  \n",
       "0  Kelby Training DVD: The Adobe Photoshop CS5 7-...  \n",
       "1  Kelby Training DVD: Adobe Photoshop CS5 Power ...  \n",
       "2  TEACHERS FRIEND NOTE FROM THE TEACHER SCHOOL T...  "
      ]
     },
     "execution_count": 5,
     "metadata": {},
     "output_type": "execute_result"
    }
   ],
   "source": [
    "duplicates['description']=duplicates['description'].apply(lambda x: x[0] if isinstance(x,list) else str(x))\n",
    "duplicates.head(3)"
   ]
  },
  {
   "cell_type": "code",
   "execution_count": 6,
   "metadata": {},
   "outputs": [
    {
     "data": {
      "text/plain": [
       "count     18772\n",
       "unique     4192\n",
       "top         nan\n",
       "freq      13642\n",
       "Name: description, dtype: object"
      ]
     },
     "execution_count": 6,
     "metadata": {},
     "output_type": "execute_result"
    }
   ],
   "source": [
    "duplicates['description'].describe()"
   ]
  },
  {
   "cell_type": "code",
   "execution_count": 7,
   "metadata": {},
   "outputs": [
    {
     "data": {
      "text/html": [
       "<div>\n",
       "<style scoped>\n",
       "    .dataframe tbody tr th:only-of-type {\n",
       "        vertical-align: middle;\n",
       "    }\n",
       "\n",
       "    .dataframe tbody tr th {\n",
       "        vertical-align: top;\n",
       "    }\n",
       "\n",
       "    .dataframe thead th {\n",
       "        text-align: right;\n",
       "    }\n",
       "</style>\n",
       "<table border=\"1\" class=\"dataframe\">\n",
       "  <thead>\n",
       "    <tr style=\"text-align: right;\">\n",
       "      <th></th>\n",
       "      <th>asin</th>\n",
       "      <th>description</th>\n",
       "      <th>title</th>\n",
       "    </tr>\n",
       "  </thead>\n",
       "  <tbody>\n",
       "  </tbody>\n",
       "</table>\n",
       "</div>"
      ],
      "text/plain": [
       "Empty DataFrame\n",
       "Columns: [asin, description, title]\n",
       "Index: []"
      ]
     },
     "execution_count": 7,
     "metadata": {},
     "output_type": "execute_result"
    }
   ],
   "source": [
    "duplicates[pd.isnull(duplicates['description'])] #Checking the nan values"
   ]
  },
  {
   "cell_type": "code",
   "execution_count": 8,
   "metadata": {},
   "outputs": [
    {
     "data": {
      "text/html": [
       "<div>\n",
       "<style scoped>\n",
       "    .dataframe tbody tr th:only-of-type {\n",
       "        vertical-align: middle;\n",
       "    }\n",
       "\n",
       "    .dataframe tbody tr th {\n",
       "        vertical-align: top;\n",
       "    }\n",
       "\n",
       "    .dataframe thead th {\n",
       "        text-align: right;\n",
       "    }\n",
       "</style>\n",
       "<table border=\"1\" class=\"dataframe\">\n",
       "  <thead>\n",
       "    <tr style=\"text-align: right;\">\n",
       "      <th></th>\n",
       "      <th>asin</th>\n",
       "      <th>description</th>\n",
       "      <th>title</th>\n",
       "    </tr>\n",
       "  </thead>\n",
       "  <tbody>\n",
       "    <tr>\n",
       "      <th>7</th>\n",
       "      <td>0879394021</td>\n",
       "      <td>nan</td>\n",
       "      <td>Fire Detection &amp; Suppression Systems 4e USB St...</td>\n",
       "    </tr>\n",
       "    <tr>\n",
       "      <th>12</th>\n",
       "      <td>1616830867</td>\n",
       "      <td>nan</td>\n",
       "      <td>Airflow Lap Top Lap Desk</td>\n",
       "    </tr>\n",
       "    <tr>\n",
       "      <th>14</th>\n",
       "      <td>1848494483</td>\n",
       "      <td>nan</td>\n",
       "      <td>Music Theory Past Papers 2012, ABRSM Grade 1 (...</td>\n",
       "    </tr>\n",
       "    <tr>\n",
       "      <th>18</th>\n",
       "      <td>7884139057</td>\n",
       "      <td>nan</td>\n",
       "      <td>uxcell Flexible Neck Black Three Blade Compute...</td>\n",
       "    </tr>\n",
       "    <tr>\n",
       "      <th>19</th>\n",
       "      <td>9178910897</td>\n",
       "      <td>nan</td>\n",
       "      <td>IKEA - UPPTÄCKA Backpack, dark gray, yellow-or...</td>\n",
       "    </tr>\n",
       "    <tr>\n",
       "      <th>...</th>\n",
       "      <td>...</td>\n",
       "      <td>...</td>\n",
       "      <td>...</td>\n",
       "    </tr>\n",
       "    <tr>\n",
       "      <th>18766</th>\n",
       "      <td>B01HI76P24</td>\n",
       "      <td>nan</td>\n",
       "      <td>TURNMEON Smart Watch for Kids Children Smartwa...</td>\n",
       "    </tr>\n",
       "    <tr>\n",
       "      <th>18767</th>\n",
       "      <td>B01HI72XZW</td>\n",
       "      <td>nan</td>\n",
       "      <td>iPad Mini 4 Case, Aceguarder New Design [Dirtp...</td>\n",
       "    </tr>\n",
       "    <tr>\n",
       "      <th>18768</th>\n",
       "      <td>B01HIEI83Q</td>\n",
       "      <td>nan</td>\n",
       "      <td>MIJIU Nylon Canvas Military Tactical Men Waist...</td>\n",
       "    </tr>\n",
       "    <tr>\n",
       "      <th>18770</th>\n",
       "      <td>B01HIWBL46</td>\n",
       "      <td>nan</td>\n",
       "      <td>Funnel Cup (Ultra Pink)</td>\n",
       "    </tr>\n",
       "    <tr>\n",
       "      <th>18771</th>\n",
       "      <td>B01HJ49FSW</td>\n",
       "      <td>nan</td>\n",
       "      <td>Linux Ubuntu 16.04 Desktop Server 32bit 64bit ...</td>\n",
       "    </tr>\n",
       "  </tbody>\n",
       "</table>\n",
       "<p>13642 rows × 3 columns</p>\n",
       "</div>"
      ],
      "text/plain": [
       "             asin description  \\\n",
       "7      0879394021         nan   \n",
       "12     1616830867         nan   \n",
       "14     1848494483         nan   \n",
       "18     7884139057         nan   \n",
       "19     9178910897         nan   \n",
       "...           ...         ...   \n",
       "18766  B01HI76P24         nan   \n",
       "18767  B01HI72XZW         nan   \n",
       "18768  B01HIEI83Q         nan   \n",
       "18770  B01HIWBL46         nan   \n",
       "18771  B01HJ49FSW         nan   \n",
       "\n",
       "                                                   title  \n",
       "7      Fire Detection & Suppression Systems 4e USB St...  \n",
       "12                              Airflow Lap Top Lap Desk  \n",
       "14     Music Theory Past Papers 2012, ABRSM Grade 1 (...  \n",
       "18     uxcell Flexible Neck Black Three Blade Compute...  \n",
       "19     IKEA - UPPTÄCKA Backpack, dark gray, yellow-or...  \n",
       "...                                                  ...  \n",
       "18766  TURNMEON Smart Watch for Kids Children Smartwa...  \n",
       "18767  iPad Mini 4 Case, Aceguarder New Design [Dirtp...  \n",
       "18768  MIJIU Nylon Canvas Military Tactical Men Waist...  \n",
       "18770                            Funnel Cup (Ultra Pink)  \n",
       "18771  Linux Ubuntu 16.04 Desktop Server 32bit 64bit ...  \n",
       "\n",
       "[13642 rows x 3 columns]"
      ]
     },
     "execution_count": 8,
     "metadata": {},
     "output_type": "execute_result"
    }
   ],
   "source": [
    "duplicates[duplicates['description']==\"nan\"]"
   ]
  },
  {
   "cell_type": "markdown",
   "metadata": {},
   "source": [
    "Most of the descriptions are empty and are represented by a string \"nan\" and not by numpy NaN."
   ]
  },
  {
   "cell_type": "code",
   "execution_count": 9,
   "metadata": {},
   "outputs": [
    {
     "data": {
      "text/html": [
       "<div>\n",
       "<style scoped>\n",
       "    .dataframe tbody tr th:only-of-type {\n",
       "        vertical-align: middle;\n",
       "    }\n",
       "\n",
       "    .dataframe tbody tr th {\n",
       "        vertical-align: top;\n",
       "    }\n",
       "\n",
       "    .dataframe thead th {\n",
       "        text-align: right;\n",
       "    }\n",
       "</style>\n",
       "<table border=\"1\" class=\"dataframe\">\n",
       "  <thead>\n",
       "    <tr style=\"text-align: right;\">\n",
       "      <th></th>\n",
       "      <th>description</th>\n",
       "    </tr>\n",
       "    <tr>\n",
       "      <th>asin</th>\n",
       "      <th></th>\n",
       "    </tr>\n",
       "  </thead>\n",
       "  <tbody>\n",
       "    <tr>\n",
       "      <th>0321732960</th>\n",
       "      <td>1</td>\n",
       "    </tr>\n",
       "    <tr>\n",
       "      <th>0321735722</th>\n",
       "      <td>1</td>\n",
       "    </tr>\n",
       "    <tr>\n",
       "      <th>0439651859</th>\n",
       "      <td>1</td>\n",
       "    </tr>\n",
       "    <tr>\n",
       "      <th>0545729971</th>\n",
       "      <td>1</td>\n",
       "    </tr>\n",
       "    <tr>\n",
       "      <th>0594450284</th>\n",
       "      <td>1</td>\n",
       "    </tr>\n",
       "  </tbody>\n",
       "</table>\n",
       "</div>"
      ],
      "text/plain": [
       "            description\n",
       "asin                   \n",
       "0321732960            1\n",
       "0321735722            1\n",
       "0439651859            1\n",
       "0545729971            1\n",
       "0594450284            1"
      ]
     },
     "execution_count": 9,
     "metadata": {},
     "output_type": "execute_result"
    }
   ],
   "source": [
    "cnt=duplicates[['asin','description']].groupby('asin').count()\n",
    "cnt.head()"
   ]
  },
  {
   "cell_type": "code",
   "execution_count": 10,
   "metadata": {},
   "outputs": [
    {
     "data": {
      "text/plain": [
       "Index(['description'], dtype='object')"
      ]
     },
     "execution_count": 10,
     "metadata": {},
     "output_type": "execute_result"
    }
   ],
   "source": [
    "cnt.columns"
   ]
  },
  {
   "cell_type": "code",
   "execution_count": 11,
   "metadata": {},
   "outputs": [
    {
     "data": {
      "text/html": [
       "<div>\n",
       "<style scoped>\n",
       "    .dataframe tbody tr th:only-of-type {\n",
       "        vertical-align: middle;\n",
       "    }\n",
       "\n",
       "    .dataframe tbody tr th {\n",
       "        vertical-align: top;\n",
       "    }\n",
       "\n",
       "    .dataframe thead th {\n",
       "        text-align: right;\n",
       "    }\n",
       "</style>\n",
       "<table border=\"1\" class=\"dataframe\">\n",
       "  <thead>\n",
       "    <tr style=\"text-align: right;\">\n",
       "      <th></th>\n",
       "      <th>cnt</th>\n",
       "    </tr>\n",
       "    <tr>\n",
       "      <th>asin</th>\n",
       "      <th></th>\n",
       "    </tr>\n",
       "  </thead>\n",
       "  <tbody>\n",
       "    <tr>\n",
       "      <th>B00001MXZ7</th>\n",
       "      <td>2</td>\n",
       "    </tr>\n",
       "    <tr>\n",
       "      <th>B00003Q09I</th>\n",
       "      <td>2</td>\n",
       "    </tr>\n",
       "    <tr>\n",
       "      <th>B00004SYNG</th>\n",
       "      <td>2</td>\n",
       "    </tr>\n",
       "    <tr>\n",
       "      <th>B00004SYNK</th>\n",
       "      <td>2</td>\n",
       "    </tr>\n",
       "    <tr>\n",
       "      <th>B00004TEBU</th>\n",
       "      <td>2</td>\n",
       "    </tr>\n",
       "  </tbody>\n",
       "</table>\n",
       "</div>"
      ],
      "text/plain": [
       "            cnt\n",
       "asin           \n",
       "B00001MXZ7    2\n",
       "B00003Q09I    2\n",
       "B00004SYNG    2\n",
       "B00004SYNK    2\n",
       "B00004TEBU    2"
      ]
     },
     "execution_count": 11,
     "metadata": {},
     "output_type": "execute_result"
    }
   ],
   "source": [
    "cnt=cnt.rename(columns={'description':'cnt'})\n",
    "cnt[cnt['cnt']>1].head()"
   ]
  },
  {
   "cell_type": "code",
   "execution_count": 12,
   "metadata": {},
   "outputs": [
    {
     "data": {
      "text/plain": [
       "(18521, 1)"
      ]
     },
     "execution_count": 12,
     "metadata": {},
     "output_type": "execute_result"
    }
   ],
   "source": [
    "cnt.shape"
   ]
  },
  {
   "cell_type": "code",
   "execution_count": 13,
   "metadata": {},
   "outputs": [
    {
     "data": {
      "text/html": [
       "<div>\n",
       "<style scoped>\n",
       "    .dataframe tbody tr th:only-of-type {\n",
       "        vertical-align: middle;\n",
       "    }\n",
       "\n",
       "    .dataframe tbody tr th {\n",
       "        vertical-align: top;\n",
       "    }\n",
       "\n",
       "    .dataframe thead th {\n",
       "        text-align: right;\n",
       "    }\n",
       "</style>\n",
       "<table border=\"1\" class=\"dataframe\">\n",
       "  <thead>\n",
       "    <tr style=\"text-align: right;\">\n",
       "      <th></th>\n",
       "      <th>cnt</th>\n",
       "    </tr>\n",
       "    <tr>\n",
       "      <th>asin</th>\n",
       "      <th></th>\n",
       "    </tr>\n",
       "  </thead>\n",
       "  <tbody>\n",
       "  </tbody>\n",
       "</table>\n",
       "</div>"
      ],
      "text/plain": [
       "Empty DataFrame\n",
       "Columns: [cnt]\n",
       "Index: []"
      ]
     },
     "execution_count": 13,
     "metadata": {},
     "output_type": "execute_result"
    }
   ],
   "source": [
    "cnt[cnt['cnt']>2].head()"
   ]
  },
  {
   "cell_type": "markdown",
   "metadata": {},
   "source": [
    "There is no asin ID that is in the dataset more than twice"
   ]
  },
  {
   "cell_type": "code",
   "execution_count": 14,
   "metadata": {},
   "outputs": [
    {
     "data": {
      "text/html": [
       "<div>\n",
       "<style scoped>\n",
       "    .dataframe tbody tr th:only-of-type {\n",
       "        vertical-align: middle;\n",
       "    }\n",
       "\n",
       "    .dataframe tbody tr th {\n",
       "        vertical-align: top;\n",
       "    }\n",
       "\n",
       "    .dataframe thead th {\n",
       "        text-align: right;\n",
       "    }\n",
       "</style>\n",
       "<table border=\"1\" class=\"dataframe\">\n",
       "  <thead>\n",
       "    <tr style=\"text-align: right;\">\n",
       "      <th></th>\n",
       "      <th>asin</th>\n",
       "      <th>cnt</th>\n",
       "    </tr>\n",
       "  </thead>\n",
       "  <tbody>\n",
       "    <tr>\n",
       "      <th>0</th>\n",
       "      <td>0321732960</td>\n",
       "      <td>1</td>\n",
       "    </tr>\n",
       "    <tr>\n",
       "      <th>1</th>\n",
       "      <td>0321735722</td>\n",
       "      <td>1</td>\n",
       "    </tr>\n",
       "    <tr>\n",
       "      <th>2</th>\n",
       "      <td>0439651859</td>\n",
       "      <td>1</td>\n",
       "    </tr>\n",
       "    <tr>\n",
       "      <th>3</th>\n",
       "      <td>0545729971</td>\n",
       "      <td>1</td>\n",
       "    </tr>\n",
       "    <tr>\n",
       "      <th>4</th>\n",
       "      <td>0594450284</td>\n",
       "      <td>1</td>\n",
       "    </tr>\n",
       "  </tbody>\n",
       "</table>\n",
       "</div>"
      ],
      "text/plain": [
       "         asin  cnt\n",
       "0  0321732960    1\n",
       "1  0321735722    1\n",
       "2  0439651859    1\n",
       "3  0545729971    1\n",
       "4  0594450284    1"
      ]
     },
     "execution_count": 14,
     "metadata": {},
     "output_type": "execute_result"
    }
   ],
   "source": [
    "cnt=cnt.reset_index()\n",
    "#cnt=cnt.drop('level_0', axis=1)\n",
    "cnt.head()"
   ]
  },
  {
   "cell_type": "code",
   "execution_count": 22,
   "metadata": {},
   "outputs": [
    {
     "name": "stdout",
     "output_type": "stream",
     "text": [
      "cnt dtypes:\n",
      "asin    object\n",
      "cnt      int64\n",
      "dtype: object\n",
      "----------------\n",
      "duplicates dtypes:\n",
      "asin           object\n",
      "description    object\n",
      "title          object\n",
      "dtype: object\n"
     ]
    }
   ],
   "source": [
    "print('cnt dtypes:')\n",
    "print(cnt.dtypes)\n",
    "print('----------------')\n",
    "print('duplicates dtypes:')\n",
    "print(duplicates.dtypes)"
   ]
  },
  {
   "cell_type": "code",
   "execution_count": 23,
   "metadata": {},
   "outputs": [
    {
     "data": {
      "text/html": [
       "<div>\n",
       "<style scoped>\n",
       "    .dataframe tbody tr th:only-of-type {\n",
       "        vertical-align: middle;\n",
       "    }\n",
       "\n",
       "    .dataframe tbody tr th {\n",
       "        vertical-align: top;\n",
       "    }\n",
       "\n",
       "    .dataframe thead th {\n",
       "        text-align: right;\n",
       "    }\n",
       "</style>\n",
       "<table border=\"1\" class=\"dataframe\">\n",
       "  <thead>\n",
       "    <tr style=\"text-align: right;\">\n",
       "      <th></th>\n",
       "      <th>asin</th>\n",
       "      <th>description</th>\n",
       "      <th>title</th>\n",
       "      <th>cnt</th>\n",
       "    </tr>\n",
       "  </thead>\n",
       "  <tbody>\n",
       "    <tr>\n",
       "      <th>0</th>\n",
       "      <td>0321732960</td>\n",
       "      <td>Brand new. Still in factory-sealed plastic.</td>\n",
       "      <td>Kelby Training DVD: The Adobe Photoshop CS5 7-...</td>\n",
       "      <td>1</td>\n",
       "    </tr>\n",
       "    <tr>\n",
       "      <th>1</th>\n",
       "      <td>0321735722</td>\n",
       "      <td>If you're already a Photoshop user and want a ...</td>\n",
       "      <td>Kelby Training DVD: Adobe Photoshop CS5 Power ...</td>\n",
       "      <td>1</td>\n",
       "    </tr>\n",
       "    <tr>\n",
       "      <th>2</th>\n",
       "      <td>0439651859</td>\n",
       "      <td>School To Home Notes: Note From the Teacher!\\n...</td>\n",
       "      <td>TEACHERS FRIEND NOTE FROM THE TEACHER SCHOOL T...</td>\n",
       "      <td>1</td>\n",
       "    </tr>\n",
       "    <tr>\n",
       "      <th>3</th>\n",
       "      <td>0545729971</td>\n",
       "      <td>Dooqi is a young brand specializing in high-en...</td>\n",
       "      <td>[3-pack]Ipad Mini Screen Protector, Dooqi Scre...</td>\n",
       "      <td>1</td>\n",
       "    </tr>\n",
       "    <tr>\n",
       "      <th>4</th>\n",
       "      <td>0594450284</td>\n",
       "      <td>Cover for Nook HD</td>\n",
       "      <td>Hd+ Cheetah Cover- Nook</td>\n",
       "      <td>1</td>\n",
       "    </tr>\n",
       "  </tbody>\n",
       "</table>\n",
       "</div>"
      ],
      "text/plain": [
       "         asin                                        description  \\\n",
       "0  0321732960        Brand new. Still in factory-sealed plastic.   \n",
       "1  0321735722  If you're already a Photoshop user and want a ...   \n",
       "2  0439651859  School To Home Notes: Note From the Teacher!\\n...   \n",
       "3  0545729971  Dooqi is a young brand specializing in high-en...   \n",
       "4  0594450284                                  Cover for Nook HD   \n",
       "\n",
       "                                               title  cnt  \n",
       "0  Kelby Training DVD: The Adobe Photoshop CS5 7-...    1  \n",
       "1  Kelby Training DVD: Adobe Photoshop CS5 Power ...    1  \n",
       "2  TEACHERS FRIEND NOTE FROM THE TEACHER SCHOOL T...    1  \n",
       "3  [3-pack]Ipad Mini Screen Protector, Dooqi Scre...    1  \n",
       "4                            Hd+ Cheetah Cover- Nook    1  "
      ]
     },
     "execution_count": 23,
     "metadata": {},
     "output_type": "execute_result"
    }
   ],
   "source": [
    "duplicates=duplicates.merge(cnt, on='asin',how='left')\n",
    "duplicates.head()"
   ]
  },
  {
   "cell_type": "code",
   "execution_count": 24,
   "metadata": {},
   "outputs": [
    {
     "data": {
      "text/html": [
       "<div>\n",
       "<style scoped>\n",
       "    .dataframe tbody tr th:only-of-type {\n",
       "        vertical-align: middle;\n",
       "    }\n",
       "\n",
       "    .dataframe tbody tr th {\n",
       "        vertical-align: top;\n",
       "    }\n",
       "\n",
       "    .dataframe thead th {\n",
       "        text-align: right;\n",
       "    }\n",
       "</style>\n",
       "<table border=\"1\" class=\"dataframe\">\n",
       "  <thead>\n",
       "    <tr style=\"text-align: right;\">\n",
       "      <th></th>\n",
       "      <th>asin</th>\n",
       "      <th>description</th>\n",
       "      <th>title</th>\n",
       "      <th>cnt</th>\n",
       "    </tr>\n",
       "  </thead>\n",
       "  <tbody>\n",
       "    <tr>\n",
       "      <th>38</th>\n",
       "      <td>B00001MXZ7</td>\n",
       "      <td>The EO2010 21-inch (20.1-inch viewable) displa...</td>\n",
       "      <td>Princeton Eo2010 21\" Monitor (Pc/Mac)</td>\n",
       "      <td>2</td>\n",
       "    </tr>\n",
       "    <tr>\n",
       "      <th>39</th>\n",
       "      <td>B00003Q09I</td>\n",
       "      <td>The ViewSonic GS790 Short Neck 19-inch monitor...</td>\n",
       "      <td>Viewsonic Gs790 19\" Short Neck Monitor (Pc/Mac)</td>\n",
       "      <td>2</td>\n",
       "    </tr>\n",
       "    <tr>\n",
       "      <th>40</th>\n",
       "      <td>B00004SYNG</td>\n",
       "      <td>NEC's AccuSync line of monitors is the company...</td>\n",
       "      <td>NEC AccuSync 50 15\" Monitor (PC/Mac)</td>\n",
       "      <td>2</td>\n",
       "    </tr>\n",
       "    <tr>\n",
       "      <th>41</th>\n",
       "      <td>B00004SYNK</td>\n",
       "      <td>If you're looking to move on from a teeny-tiny...</td>\n",
       "      <td>NEC AccuSync 90 19\" Monitor (PC/Mac)</td>\n",
       "      <td>2</td>\n",
       "    </tr>\n",
       "    <tr>\n",
       "      <th>42</th>\n",
       "      <td>B00004TEBU</td>\n",
       "      <td>The Viking IntelliFlash USB flash memory reade...</td>\n",
       "      <td>Test Big Data 9658</td>\n",
       "      <td>2</td>\n",
       "    </tr>\n",
       "    <tr>\n",
       "      <th>43</th>\n",
       "      <td>B00004TS2P</td>\n",
       "      <td>The ViewSonic E-790 19-inch monitor provides c...</td>\n",
       "      <td>ViewSonic E790 19\" Monitor</td>\n",
       "      <td>2</td>\n",
       "    </tr>\n",
       "    <tr>\n",
       "      <th>44</th>\n",
       "      <td>B00004TS2Q</td>\n",
       "      <td>The ViewSonic E-790B 19-inch monitor provides ...</td>\n",
       "      <td>ViewSonic E-790B 19\" Monitor</td>\n",
       "      <td>2</td>\n",
       "    </tr>\n",
       "    <tr>\n",
       "      <th>45</th>\n",
       "      <td>B00004TS2O</td>\n",
       "      <td>The Optiquest Q-95 19-inch CRT monitor with Pe...</td>\n",
       "      <td>Optiquest Q-95 19\" Monitor</td>\n",
       "      <td>2</td>\n",
       "    </tr>\n",
       "    <tr>\n",
       "      <th>46</th>\n",
       "      <td>B00004WLQC</td>\n",
       "      <td>nan</td>\n",
       "      <td>Philips 17\" 107P Professional Series Monitor</td>\n",
       "      <td>2</td>\n",
       "    </tr>\n",
       "    <tr>\n",
       "      <th>47</th>\n",
       "      <td>B00004Y74O</td>\n",
       "      <td>The NEC MultiSync FE950 monitor features NEC's...</td>\n",
       "      <td>NEC MultiSync FE950 Totally Flat 19\" Monitor (...</td>\n",
       "      <td>2</td>\n",
       "    </tr>\n",
       "  </tbody>\n",
       "</table>\n",
       "</div>"
      ],
      "text/plain": [
       "          asin                                        description  \\\n",
       "38  B00001MXZ7  The EO2010 21-inch (20.1-inch viewable) displa...   \n",
       "39  B00003Q09I  The ViewSonic GS790 Short Neck 19-inch monitor...   \n",
       "40  B00004SYNG  NEC's AccuSync line of monitors is the company...   \n",
       "41  B00004SYNK  If you're looking to move on from a teeny-tiny...   \n",
       "42  B00004TEBU  The Viking IntelliFlash USB flash memory reade...   \n",
       "43  B00004TS2P  The ViewSonic E-790 19-inch monitor provides c...   \n",
       "44  B00004TS2Q  The ViewSonic E-790B 19-inch monitor provides ...   \n",
       "45  B00004TS2O  The Optiquest Q-95 19-inch CRT monitor with Pe...   \n",
       "46  B00004WLQC                                                nan   \n",
       "47  B00004Y74O  The NEC MultiSync FE950 monitor features NEC's...   \n",
       "\n",
       "                                                title  cnt  \n",
       "38              Princeton Eo2010 21\" Monitor (Pc/Mac)    2  \n",
       "39    Viewsonic Gs790 19\" Short Neck Monitor (Pc/Mac)    2  \n",
       "40               NEC AccuSync 50 15\" Monitor (PC/Mac)    2  \n",
       "41               NEC AccuSync 90 19\" Monitor (PC/Mac)    2  \n",
       "42                                 Test Big Data 9658    2  \n",
       "43                         ViewSonic E790 19\" Monitor    2  \n",
       "44                       ViewSonic E-790B 19\" Monitor    2  \n",
       "45                         Optiquest Q-95 19\" Monitor    2  \n",
       "46       Philips 17\" 107P Professional Series Monitor    2  \n",
       "47  NEC MultiSync FE950 Totally Flat 19\" Monitor (...    2  "
      ]
     },
     "execution_count": 24,
     "metadata": {},
     "output_type": "execute_result"
    }
   ],
   "source": [
    "duplicates=duplicates[duplicates['cnt']>1]\n",
    "duplicates.head(10)"
   ]
  },
  {
   "cell_type": "code",
   "execution_count": 25,
   "metadata": {},
   "outputs": [
    {
     "data": {
      "text/plain": [
       "502"
      ]
     },
     "execution_count": 25,
     "metadata": {},
     "output_type": "execute_result"
    }
   ],
   "source": [
    "duplicates.shape[0]"
   ]
  },
  {
   "cell_type": "code",
   "execution_count": 26,
   "metadata": {},
   "outputs": [
    {
     "data": {
      "text/html": [
       "<div>\n",
       "<style scoped>\n",
       "    .dataframe tbody tr th:only-of-type {\n",
       "        vertical-align: middle;\n",
       "    }\n",
       "\n",
       "    .dataframe tbody tr th {\n",
       "        vertical-align: top;\n",
       "    }\n",
       "\n",
       "    .dataframe thead th {\n",
       "        text-align: right;\n",
       "    }\n",
       "</style>\n",
       "<table border=\"1\" class=\"dataframe\">\n",
       "  <thead>\n",
       "    <tr style=\"text-align: right;\">\n",
       "      <th></th>\n",
       "      <th>asin</th>\n",
       "      <th>description</th>\n",
       "      <th>title</th>\n",
       "    </tr>\n",
       "  </thead>\n",
       "  <tbody>\n",
       "    <tr>\n",
       "      <th>0</th>\n",
       "      <td>B00001MXZ7</td>\n",
       "      <td>The EO2010 21-inch (20.1-inch viewable) displa...</td>\n",
       "      <td>Princeton Eo2010 21\" Monitor (Pc/Mac)</td>\n",
       "    </tr>\n",
       "    <tr>\n",
       "      <th>1</th>\n",
       "      <td>B00003Q09I</td>\n",
       "      <td>The ViewSonic GS790 Short Neck 19-inch monitor...</td>\n",
       "      <td>Viewsonic Gs790 19\" Short Neck Monitor (Pc/Mac)</td>\n",
       "    </tr>\n",
       "    <tr>\n",
       "      <th>2</th>\n",
       "      <td>B00004SYNG</td>\n",
       "      <td>NEC's AccuSync line of monitors is the company...</td>\n",
       "      <td>NEC AccuSync 50 15\" Monitor (PC/Mac)</td>\n",
       "    </tr>\n",
       "    <tr>\n",
       "      <th>3</th>\n",
       "      <td>B00004SYNK</td>\n",
       "      <td>If you're looking to move on from a teeny-tiny...</td>\n",
       "      <td>NEC AccuSync 90 19\" Monitor (PC/Mac)</td>\n",
       "    </tr>\n",
       "    <tr>\n",
       "      <th>4</th>\n",
       "      <td>B00004TEBU</td>\n",
       "      <td>The Viking IntelliFlash USB flash memory reade...</td>\n",
       "      <td>Test Big Data 9658</td>\n",
       "    </tr>\n",
       "    <tr>\n",
       "      <th>5</th>\n",
       "      <td>B00004TS2P</td>\n",
       "      <td>The ViewSonic E-790 19-inch monitor provides c...</td>\n",
       "      <td>ViewSonic E790 19\" Monitor</td>\n",
       "    </tr>\n",
       "    <tr>\n",
       "      <th>6</th>\n",
       "      <td>B00004TS2Q</td>\n",
       "      <td>The ViewSonic E-790B 19-inch monitor provides ...</td>\n",
       "      <td>ViewSonic E-790B 19\" Monitor</td>\n",
       "    </tr>\n",
       "    <tr>\n",
       "      <th>7</th>\n",
       "      <td>B00004TS2O</td>\n",
       "      <td>The Optiquest Q-95 19-inch CRT monitor with Pe...</td>\n",
       "      <td>Optiquest Q-95 19\" Monitor</td>\n",
       "    </tr>\n",
       "    <tr>\n",
       "      <th>8</th>\n",
       "      <td>B00004WLQC</td>\n",
       "      <td>nan</td>\n",
       "      <td>Philips 17\" 107P Professional Series Monitor</td>\n",
       "    </tr>\n",
       "    <tr>\n",
       "      <th>9</th>\n",
       "      <td>B00004Y74O</td>\n",
       "      <td>The NEC MultiSync FE950 monitor features NEC's...</td>\n",
       "      <td>NEC MultiSync FE950 Totally Flat 19\" Monitor (...</td>\n",
       "    </tr>\n",
       "  </tbody>\n",
       "</table>\n",
       "</div>"
      ],
      "text/plain": [
       "         asin                                        description  \\\n",
       "0  B00001MXZ7  The EO2010 21-inch (20.1-inch viewable) displa...   \n",
       "1  B00003Q09I  The ViewSonic GS790 Short Neck 19-inch monitor...   \n",
       "2  B00004SYNG  NEC's AccuSync line of monitors is the company...   \n",
       "3  B00004SYNK  If you're looking to move on from a teeny-tiny...   \n",
       "4  B00004TEBU  The Viking IntelliFlash USB flash memory reade...   \n",
       "5  B00004TS2P  The ViewSonic E-790 19-inch monitor provides c...   \n",
       "6  B00004TS2Q  The ViewSonic E-790B 19-inch monitor provides ...   \n",
       "7  B00004TS2O  The Optiquest Q-95 19-inch CRT monitor with Pe...   \n",
       "8  B00004WLQC                                                nan   \n",
       "9  B00004Y74O  The NEC MultiSync FE950 monitor features NEC's...   \n",
       "\n",
       "                                               title  \n",
       "0              Princeton Eo2010 21\" Monitor (Pc/Mac)  \n",
       "1    Viewsonic Gs790 19\" Short Neck Monitor (Pc/Mac)  \n",
       "2               NEC AccuSync 50 15\" Monitor (PC/Mac)  \n",
       "3               NEC AccuSync 90 19\" Monitor (PC/Mac)  \n",
       "4                                 Test Big Data 9658  \n",
       "5                         ViewSonic E790 19\" Monitor  \n",
       "6                       ViewSonic E-790B 19\" Monitor  \n",
       "7                         Optiquest Q-95 19\" Monitor  \n",
       "8       Philips 17\" 107P Professional Series Monitor  \n",
       "9  NEC MultiSync FE950 Totally Flat 19\" Monitor (...  "
      ]
     },
     "execution_count": 26,
     "metadata": {},
     "output_type": "execute_result"
    }
   ],
   "source": [
    "duplicates.reset_index(inplace=True)\n",
    "duplicates.drop('cnt',axis=1,inplace=True)\n",
    "duplicates.drop(['index'],axis=1,inplace=True)\n",
    "#duplicates=duplicates[['asin','title','description']]\n",
    "duplicates.head(10)"
   ]
  },
  {
   "cell_type": "code",
   "execution_count": 27,
   "metadata": {},
   "outputs": [
    {
     "data": {
      "text/plain": [
       "B00007M9SW    2\n",
       "B0000A277A    2\n",
       "B0002IU7XK    2\n",
       "B000083JYB    2\n",
       "B0000541NT    2\n",
       "             ..\n",
       "B00005QDWC    2\n",
       "B000063S3X    2\n",
       "B0002NVIFQ    2\n",
       "B00005T3IV    2\n",
       "B000068ZU0    2\n",
       "Name: asin, Length: 251, dtype: int64"
      ]
     },
     "execution_count": 27,
     "metadata": {},
     "output_type": "execute_result"
    }
   ],
   "source": [
    "duplicates['asin'].value_counts()"
   ]
  },
  {
   "cell_type": "code",
   "execution_count": 28,
   "metadata": {},
   "outputs": [],
   "source": [
    "temp=pd.Series(['-']*duplicates.shape[0])\n",
    "duplicates['identifier']=duplicates['asin'].str.cat(temp.str.cat(duplicates['title']))\n",
    "#duplicates.drop(['asin','title'], axis=1, inplace=True)\n",
    "true_duplicates=duplicates.drop(['asin','title'], axis=1).groupby(['identifier']).count()\n",
    "true_duplicates.head()"
   ]
  },
  {
   "cell_type": "code",
   "execution_count": 29,
   "metadata": {},
   "outputs": [
    {
     "data": {
      "text/plain": [
       "(251, 1)"
      ]
     },
     "execution_count": 29,
     "metadata": {},
     "output_type": "execute_result"
    }
   ],
   "source": [
    "true_duplicates.shape"
   ]
  },
  {
   "cell_type": "code",
   "execution_count": 30,
   "metadata": {},
   "outputs": [
    {
     "data": {
      "text/html": [
       "<div>\n",
       "<style scoped>\n",
       "    .dataframe tbody tr th:only-of-type {\n",
       "        vertical-align: middle;\n",
       "    }\n",
       "\n",
       "    .dataframe tbody tr th {\n",
       "        vertical-align: top;\n",
       "    }\n",
       "\n",
       "    .dataframe thead th {\n",
       "        text-align: right;\n",
       "    }\n",
       "</style>\n",
       "<table border=\"1\" class=\"dataframe\">\n",
       "  <thead>\n",
       "    <tr style=\"text-align: right;\">\n",
       "      <th></th>\n",
       "      <th>identifier</th>\n",
       "      <th>cnt</th>\n",
       "    </tr>\n",
       "  </thead>\n",
       "  <tbody>\n",
       "    <tr>\n",
       "      <th>0</th>\n",
       "      <td>B00001MXZ7-Princeton Eo2010 21\" Monitor (Pc/Mac)</td>\n",
       "      <td>2</td>\n",
       "    </tr>\n",
       "    <tr>\n",
       "      <th>1</th>\n",
       "      <td>B00003Q09I-Viewsonic Gs790 19\" Short Neck Moni...</td>\n",
       "      <td>2</td>\n",
       "    </tr>\n",
       "    <tr>\n",
       "      <th>2</th>\n",
       "      <td>B00004SYNG-NEC AccuSync 50 15\" Monitor (PC/Mac)</td>\n",
       "      <td>2</td>\n",
       "    </tr>\n",
       "    <tr>\n",
       "      <th>3</th>\n",
       "      <td>B00004SYNK-NEC AccuSync 90 19\" Monitor (PC/Mac)</td>\n",
       "      <td>2</td>\n",
       "    </tr>\n",
       "    <tr>\n",
       "      <th>4</th>\n",
       "      <td>B00004TEBU-Test Big Data 9658</td>\n",
       "      <td>2</td>\n",
       "    </tr>\n",
       "  </tbody>\n",
       "</table>\n",
       "</div>"
      ],
      "text/plain": [
       "                                          identifier  cnt\n",
       "0   B00001MXZ7-Princeton Eo2010 21\" Monitor (Pc/Mac)    2\n",
       "1  B00003Q09I-Viewsonic Gs790 19\" Short Neck Moni...    2\n",
       "2    B00004SYNG-NEC AccuSync 50 15\" Monitor (PC/Mac)    2\n",
       "3    B00004SYNK-NEC AccuSync 90 19\" Monitor (PC/Mac)    2\n",
       "4                      B00004TEBU-Test Big Data 9658    2"
      ]
     },
     "execution_count": 30,
     "metadata": {},
     "output_type": "execute_result"
    }
   ],
   "source": [
    "true_duplicates.rename(columns={'description':'cnt'}, inplace=True)\n",
    "true_duplicates=true_duplicates[true_duplicates['cnt']>1]\n",
    "true_duplicates.reset_index(inplace=True)"
   ]
  },
  {
   "cell_type": "code",
   "execution_count": 31,
   "metadata": {},
   "outputs": [
    {
     "name": "stdout",
     "output_type": "stream",
     "text": [
      "# duplicates: B00007M9SW    2\n",
      "B0000A277A    2\n",
      "B0002IU7XK    2\n",
      "B000083JYB    2\n",
      "B0000541NT    2\n",
      "             ..\n",
      "B00005QDWC    2\n",
      "B000063S3X    2\n",
      "B0002NVIFQ    2\n",
      "B00005T3IV    2\n",
      "B000068ZU0    2\n",
      "Name: asin, Length: 251, dtype: int64\n",
      "-----------------------\n",
      "# true duplicates: B0000ERWGC-Creative Sound Blaster Audigy 2 NX - Sound card - 24-bit - 96 kHz - 7.1 - Hi-Speed USB - Creative Audigy 2 NX                                                                 1\n",
      "B00005Y0JH-Toshiba Satellite 1805-S207 Laptop (1.1-GHz Celeron, 256 MB RAM, 20 GB hard drive)                                                                                            1\n",
      "B00004SYNK-NEC AccuSync 90 19\" Monitor (PC/Mac)                                                                                                                                          1\n",
      "B0001K5OAA-Gateway FMC-901X Family Room Media Center (3.0 GHz Pentium 4, 512 MB RAM, 250 GB Hard Drive, DVD-Burner) (Discontinued by Manufacturer)                                       1\n",
      "B00005R2IP-Compaq Presario 5310US Desktop (1.2-GHZ Celeron, 256 MB RAM, 40 GB hard drive) + FS740 17\" Flat Screen Monitor + IJ650 Color Inkjet Printer (Discontinued by Manufacturer)    1\n",
      "                                                                                                                                                                                        ..\n",
      "B00004Y74J-NEC MultiSync FE700M Totally Flat 17\" Multimedia Monitor (PC/Mac)                                                                                                             1\n",
      "B00006IRO5-Planar 17.4'' PV174 Flat Panel ( 996-0523-00 )                                                                                                                                1\n",
      "B00008LUOB-HP Pavilion 754n Desktop PC (2.53 GHz Pentium 4, 512MB RAM, 80GB hard drive) (Discontinued by Manufacturer)                                                                   1\n",
      "B00007EMC8-Apple Powerbook Laptop M8858LL/A (867-MHz PowerPC G4, 256 MB RAM, 40 GB Hard Drive)                                                                                           1\n",
      "B0002ZKGR0-Twin Size Solaron Korean Mink Acrylic Blanket - Black                                                                                                                         1\n",
      "Name: identifier, Length: 251, dtype: int64\n"
     ]
    }
   ],
   "source": [
    "print('# duplicates:', duplicates['asin'].value_counts())\n",
    "print('-----------------------')\n",
    "print('# true duplicates:', true_duplicates['identifier'].value_counts())"
   ]
  },
  {
   "cell_type": "markdown",
   "metadata": {},
   "source": [
    "All the 502 duplicates are true duplicates i.e same ID and same title"
   ]
  },
  {
   "cell_type": "markdown",
   "metadata": {},
   "source": [
    "## image, brand, rank, main_cat"
   ]
  },
  {
   "cell_type": "code",
   "execution_count": 33,
   "metadata": {},
   "outputs": [
    {
     "data": {
      "text/html": [
       "<div>\n",
       "<style scoped>\n",
       "    .dataframe tbody tr th:only-of-type {\n",
       "        vertical-align: middle;\n",
       "    }\n",
       "\n",
       "    .dataframe tbody tr th {\n",
       "        vertical-align: top;\n",
       "    }\n",
       "\n",
       "    .dataframe thead th {\n",
       "        text-align: right;\n",
       "    }\n",
       "</style>\n",
       "<table border=\"1\" class=\"dataframe\">\n",
       "  <thead>\n",
       "    <tr style=\"text-align: right;\">\n",
       "      <th></th>\n",
       "      <th>asin</th>\n",
       "      <th>image</th>\n",
       "      <th>brand</th>\n",
       "      <th>rank</th>\n",
       "      <th>main_cat</th>\n",
       "    </tr>\n",
       "  </thead>\n",
       "  <tbody>\n",
       "    <tr>\n",
       "      <th>0</th>\n",
       "      <td>0321732960</td>\n",
       "      <td>[https://images-na.ssl-images-amazon.com/image...</td>\n",
       "      <td>Kelby Training</td>\n",
       "      <td>[&gt;#654,681 in Electronics (See Top 100 in Elec...</td>\n",
       "      <td>Computers</td>\n",
       "    </tr>\n",
       "    <tr>\n",
       "      <th>1</th>\n",
       "      <td>0321735722</td>\n",
       "      <td>[https://images-na.ssl-images-amazon.com/image...</td>\n",
       "      <td>Kelby Training</td>\n",
       "      <td>[&gt;#830,165 in Electronics (See Top 100 in Elec...</td>\n",
       "      <td>Computers</td>\n",
       "    </tr>\n",
       "    <tr>\n",
       "      <th>2</th>\n",
       "      <td>0439651859</td>\n",
       "      <td>[https://images-na.ssl-images-amazon.com/image...</td>\n",
       "      <td>TEACHERS FRIEND</td>\n",
       "      <td>[&gt;#1,233,887 in Electronics (See Top 100 in El...</td>\n",
       "      <td>Computers</td>\n",
       "    </tr>\n",
       "    <tr>\n",
       "      <th>3</th>\n",
       "      <td>0545729971</td>\n",
       "      <td>[https://images-na.ssl-images-amazon.com/image...</td>\n",
       "      <td>dooqi</td>\n",
       "      <td>[&gt;#454,595 in Electronics (See Top 100 in Elec...</td>\n",
       "      <td>Computers</td>\n",
       "    </tr>\n",
       "    <tr>\n",
       "      <th>4</th>\n",
       "      <td>0594450284</td>\n",
       "      <td>NaN</td>\n",
       "      <td>Nook</td>\n",
       "      <td>[&gt;#85,661 in Computers &amp; Accessories (See top ...</td>\n",
       "      <td>Computers</td>\n",
       "    </tr>\n",
       "    <tr>\n",
       "      <th>5</th>\n",
       "      <td>0594626412</td>\n",
       "      <td>[https://images-na.ssl-images-amazon.com/image...</td>\n",
       "      <td>Samsung</td>\n",
       "      <td>[&gt;#1,013,527 in Electronics (See Top 100 in El...</td>\n",
       "      <td>Computers</td>\n",
       "    </tr>\n",
       "    <tr>\n",
       "      <th>6</th>\n",
       "      <td>0594626730</td>\n",
       "      <td>[https://images-na.ssl-images-amazon.com/image...</td>\n",
       "      <td>Barnes and Noble</td>\n",
       "      <td>[&gt;#211,266 in Electronics (See Top 100 in Elec...</td>\n",
       "      <td>Computers</td>\n",
       "    </tr>\n",
       "    <tr>\n",
       "      <th>7</th>\n",
       "      <td>0879394021</td>\n",
       "      <td>NaN</td>\n",
       "      <td>IFSTA</td>\n",
       "      <td>[&gt;#1,376,546 in Electronics (See Top 100 in El...</td>\n",
       "      <td>Computers</td>\n",
       "    </tr>\n",
       "    <tr>\n",
       "      <th>8</th>\n",
       "      <td>0988576902</td>\n",
       "      <td>[https://images-na.ssl-images-amazon.com/image...</td>\n",
       "      <td>Enter The Arena</td>\n",
       "      <td>[&gt;#212,572 in Electronics (See Top 100 in Elec...</td>\n",
       "      <td>Computers</td>\n",
       "    </tr>\n",
       "    <tr>\n",
       "      <th>9</th>\n",
       "      <td>1400501784</td>\n",
       "      <td>[https://images-na.ssl-images-amazon.com/image...</td>\n",
       "      <td>Barnes &amp;amp; Noble</td>\n",
       "      <td>[&gt;#39,745 in Computers &amp; Accessories (See top ...</td>\n",
       "      <td>Computers</td>\n",
       "    </tr>\n",
       "  </tbody>\n",
       "</table>\n",
       "</div>"
      ],
      "text/plain": [
       "         asin                                              image  \\\n",
       "0  0321732960  [https://images-na.ssl-images-amazon.com/image...   \n",
       "1  0321735722  [https://images-na.ssl-images-amazon.com/image...   \n",
       "2  0439651859  [https://images-na.ssl-images-amazon.com/image...   \n",
       "3  0545729971  [https://images-na.ssl-images-amazon.com/image...   \n",
       "4  0594450284                                                NaN   \n",
       "5  0594626412  [https://images-na.ssl-images-amazon.com/image...   \n",
       "6  0594626730  [https://images-na.ssl-images-amazon.com/image...   \n",
       "7  0879394021                                                NaN   \n",
       "8  0988576902  [https://images-na.ssl-images-amazon.com/image...   \n",
       "9  1400501784  [https://images-na.ssl-images-amazon.com/image...   \n",
       "\n",
       "                brand                                               rank  \\\n",
       "0      Kelby Training  [>#654,681 in Electronics (See Top 100 in Elec...   \n",
       "1      Kelby Training  [>#830,165 in Electronics (See Top 100 in Elec...   \n",
       "2     TEACHERS FRIEND  [>#1,233,887 in Electronics (See Top 100 in El...   \n",
       "3               dooqi  [>#454,595 in Electronics (See Top 100 in Elec...   \n",
       "4                Nook  [>#85,661 in Computers & Accessories (See top ...   \n",
       "5             Samsung  [>#1,013,527 in Electronics (See Top 100 in El...   \n",
       "6    Barnes and Noble  [>#211,266 in Electronics (See Top 100 in Elec...   \n",
       "7               IFSTA  [>#1,376,546 in Electronics (See Top 100 in El...   \n",
       "8     Enter The Arena  [>#212,572 in Electronics (See Top 100 in Elec...   \n",
       "9  Barnes &amp; Noble  [>#39,745 in Computers & Accessories (See top ...   \n",
       "\n",
       "    main_cat  \n",
       "0  Computers  \n",
       "1  Computers  \n",
       "2  Computers  \n",
       "3  Computers  \n",
       "4  Computers  \n",
       "5  Computers  \n",
       "6  Computers  \n",
       "7  Computers  \n",
       "8  Computers  \n",
       "9  Computers  "
      ]
     },
     "execution_count": 33,
     "metadata": {},
     "output_type": "execute_result"
    }
   ],
   "source": [
    "market=meta_data[['asin','image','brand','rank','main_cat']]\n",
    "market.head(10)"
   ]
  },
  {
   "cell_type": "markdown",
   "metadata": {},
   "source": [
    "image and rank like descriptions are enclosed in lists"
   ]
  },
  {
   "cell_type": "code",
   "execution_count": 37,
   "metadata": {},
   "outputs": [
    {
     "name": "stdout",
     "output_type": "stream",
     "text": [
      "Image:  https://images-na.ssl-images-amazon.com/images/I/31IlLImCVJL._SS40_.jpg\n",
      "Rank:  >#654,681 in Electronics (See Top 100 in Electronics)\n",
      "Image:  https://images-na.ssl-images-amazon.com/images/I/31TvjSNbFwL._SS40_.jpg\n",
      "Rank:  >#830,165 in Electronics (See Top 100 in Electronics)\n",
      "Image:  https://images-na.ssl-images-amazon.com/images/I/31GI7SdbS7L._SS40_.jpg\n",
      "Rank:  >#1,233,887 in Electronics (See Top 100 in Electronics)\n",
      "Image:  https://images-na.ssl-images-amazon.com/images/I/515Ui20DGVL._SS40_.jpg\n",
      "Rank:  >#454,595 in Electronics (See Top 100 in Electronics)\n"
     ]
    }
   ],
   "source": [
    "for i in range(4):\n",
    "    print('Image: ',market['image'][i][0])\n",
    "    print('Rank: ',market['rank'][i][0])\n",
    "    "
   ]
  },
  {
   "cell_type": "markdown",
   "metadata": {},
   "source": [
    "* The picture in itself does not necessary bring value but the presence or not of an image could play a role\n",
    "* The rank should be cleaned and transformed into an integer or into a range (categorical variable)"
   ]
  },
  {
   "cell_type": "code",
   "execution_count": 38,
   "metadata": {},
   "outputs": [
    {
     "name": "stderr",
     "output_type": "stream",
     "text": [
      "C:\\Users\\viann\\Anaconda3\\lib\\site-packages\\ipykernel_launcher.py:1: SettingWithCopyWarning: \n",
      "A value is trying to be set on a copy of a slice from a DataFrame.\n",
      "Try using .loc[row_indexer,col_indexer] = value instead\n",
      "\n",
      "See the caveats in the documentation: https://pandas.pydata.org/pandas-docs/stable/user_guide/indexing.html#returning-a-view-versus-a-copy\n",
      "  \"\"\"Entry point for launching an IPython kernel.\n",
      "C:\\Users\\viann\\Anaconda3\\lib\\site-packages\\ipykernel_launcher.py:2: SettingWithCopyWarning: \n",
      "A value is trying to be set on a copy of a slice from a DataFrame.\n",
      "Try using .loc[row_indexer,col_indexer] = value instead\n",
      "\n",
      "See the caveats in the documentation: https://pandas.pydata.org/pandas-docs/stable/user_guide/indexing.html#returning-a-view-versus-a-copy\n",
      "  \n"
     ]
    },
    {
     "data": {
      "text/html": [
       "<div>\n",
       "<style scoped>\n",
       "    .dataframe tbody tr th:only-of-type {\n",
       "        vertical-align: middle;\n",
       "    }\n",
       "\n",
       "    .dataframe tbody tr th {\n",
       "        vertical-align: top;\n",
       "    }\n",
       "\n",
       "    .dataframe thead th {\n",
       "        text-align: right;\n",
       "    }\n",
       "</style>\n",
       "<table border=\"1\" class=\"dataframe\">\n",
       "  <thead>\n",
       "    <tr style=\"text-align: right;\">\n",
       "      <th></th>\n",
       "      <th>asin</th>\n",
       "      <th>image</th>\n",
       "      <th>brand</th>\n",
       "      <th>rank</th>\n",
       "      <th>main_cat</th>\n",
       "    </tr>\n",
       "  </thead>\n",
       "  <tbody>\n",
       "    <tr>\n",
       "      <th>0</th>\n",
       "      <td>0321732960</td>\n",
       "      <td>https://images-na.ssl-images-amazon.com/images...</td>\n",
       "      <td>Kelby Training</td>\n",
       "      <td>&gt;#654,681 in Electronics (See Top 100 in Elect...</td>\n",
       "      <td>Computers</td>\n",
       "    </tr>\n",
       "    <tr>\n",
       "      <th>1</th>\n",
       "      <td>0321735722</td>\n",
       "      <td>https://images-na.ssl-images-amazon.com/images...</td>\n",
       "      <td>Kelby Training</td>\n",
       "      <td>&gt;#830,165 in Electronics (See Top 100 in Elect...</td>\n",
       "      <td>Computers</td>\n",
       "    </tr>\n",
       "    <tr>\n",
       "      <th>2</th>\n",
       "      <td>0439651859</td>\n",
       "      <td>https://images-na.ssl-images-amazon.com/images...</td>\n",
       "      <td>TEACHERS FRIEND</td>\n",
       "      <td>&gt;#1,233,887 in Electronics (See Top 100 in Ele...</td>\n",
       "      <td>Computers</td>\n",
       "    </tr>\n",
       "    <tr>\n",
       "      <th>3</th>\n",
       "      <td>0545729971</td>\n",
       "      <td>https://images-na.ssl-images-amazon.com/images...</td>\n",
       "      <td>dooqi</td>\n",
       "      <td>&gt;#454,595 in Electronics (See Top 100 in Elect...</td>\n",
       "      <td>Computers</td>\n",
       "    </tr>\n",
       "    <tr>\n",
       "      <th>4</th>\n",
       "      <td>0594450284</td>\n",
       "      <td>NaN</td>\n",
       "      <td>Nook</td>\n",
       "      <td>&gt;#85,661 in Computers &amp; Accessories (See top 100)</td>\n",
       "      <td>Computers</td>\n",
       "    </tr>\n",
       "  </tbody>\n",
       "</table>\n",
       "</div>"
      ],
      "text/plain": [
       "         asin                                              image  \\\n",
       "0  0321732960  https://images-na.ssl-images-amazon.com/images...   \n",
       "1  0321735722  https://images-na.ssl-images-amazon.com/images...   \n",
       "2  0439651859  https://images-na.ssl-images-amazon.com/images...   \n",
       "3  0545729971  https://images-na.ssl-images-amazon.com/images...   \n",
       "4  0594450284                                                NaN   \n",
       "\n",
       "             brand                                               rank  \\\n",
       "0   Kelby Training  >#654,681 in Electronics (See Top 100 in Elect...   \n",
       "1   Kelby Training  >#830,165 in Electronics (See Top 100 in Elect...   \n",
       "2  TEACHERS FRIEND  >#1,233,887 in Electronics (See Top 100 in Ele...   \n",
       "3            dooqi  >#454,595 in Electronics (See Top 100 in Elect...   \n",
       "4             Nook  >#85,661 in Computers & Accessories (See top 100)   \n",
       "\n",
       "    main_cat  \n",
       "0  Computers  \n",
       "1  Computers  \n",
       "2  Computers  \n",
       "3  Computers  \n",
       "4  Computers  "
      ]
     },
     "execution_count": 38,
     "metadata": {},
     "output_type": "execute_result"
    }
   ],
   "source": [
    "market['image']=market['image'].apply(lambda x: x[0] if isinstance(x,list) else x)\n",
    "market['rank']=market['rank'].apply(lambda x: x[0] if isinstance(x,list) else x)\n",
    "market.head()"
   ]
  },
  {
   "cell_type": "code",
   "execution_count": 39,
   "metadata": {},
   "outputs": [
    {
     "data": {
      "text/html": [
       "<div>\n",
       "<style scoped>\n",
       "    .dataframe tbody tr th:only-of-type {\n",
       "        vertical-align: middle;\n",
       "    }\n",
       "\n",
       "    .dataframe tbody tr th {\n",
       "        vertical-align: top;\n",
       "    }\n",
       "\n",
       "    .dataframe thead th {\n",
       "        text-align: right;\n",
       "    }\n",
       "</style>\n",
       "<table border=\"1\" class=\"dataframe\">\n",
       "  <thead>\n",
       "    <tr style=\"text-align: right;\">\n",
       "      <th></th>\n",
       "      <th>asin</th>\n",
       "      <th>image</th>\n",
       "      <th>brand</th>\n",
       "      <th>rank</th>\n",
       "      <th>main_cat</th>\n",
       "    </tr>\n",
       "  </thead>\n",
       "  <tbody>\n",
       "    <tr>\n",
       "      <th>count</th>\n",
       "      <td>18772</td>\n",
       "      <td>14084</td>\n",
       "      <td>18295</td>\n",
       "      <td>18080</td>\n",
       "      <td>18772</td>\n",
       "    </tr>\n",
       "    <tr>\n",
       "      <th>unique</th>\n",
       "      <td>18521</td>\n",
       "      <td>12299</td>\n",
       "      <td>5785</td>\n",
       "      <td>17794</td>\n",
       "      <td>1</td>\n",
       "    </tr>\n",
       "    <tr>\n",
       "      <th>top</th>\n",
       "      <td>B00011CRZY</td>\n",
       "      <td>https://images-na.ssl-images-amazon.com/images...</td>\n",
       "      <td>HP</td>\n",
       "      <td>&gt;#366,636 in Electronics (See Top 100 in Elect...</td>\n",
       "      <td>Computers</td>\n",
       "    </tr>\n",
       "    <tr>\n",
       "      <th>freq</th>\n",
       "      <td>2</td>\n",
       "      <td>33</td>\n",
       "      <td>212</td>\n",
       "      <td>2</td>\n",
       "      <td>18772</td>\n",
       "    </tr>\n",
       "  </tbody>\n",
       "</table>\n",
       "</div>"
      ],
      "text/plain": [
       "              asin                                              image  brand  \\\n",
       "count        18772                                              14084  18295   \n",
       "unique       18521                                              12299   5785   \n",
       "top     B00011CRZY  https://images-na.ssl-images-amazon.com/images...     HP   \n",
       "freq             2                                                 33    212   \n",
       "\n",
       "                                                     rank   main_cat  \n",
       "count                                               18080      18772  \n",
       "unique                                              17794          1  \n",
       "top     >#366,636 in Electronics (See Top 100 in Elect...  Computers  \n",
       "freq                                                    2      18772  "
      ]
     },
     "execution_count": 39,
     "metadata": {},
     "output_type": "execute_result"
    }
   ],
   "source": [
    "market.describe(include='all')"
   ]
  },
  {
   "cell_type": "markdown",
   "metadata": {},
   "source": [
    "* Most items do have an image\n",
    "* The category containing the most items is the computer category\n",
    "* There are 17794 for "
   ]
  }
 ],
 "metadata": {
  "kernelspec": {
   "display_name": "Python 3",
   "language": "python",
   "name": "python3"
  },
  "language_info": {
   "codemirror_mode": {
    "name": "ipython",
    "version": 3
   },
   "file_extension": ".py",
   "mimetype": "text/x-python",
   "name": "python",
   "nbconvert_exporter": "python",
   "pygments_lexer": "ipython3",
   "version": "3.7.4"
  }
 },
 "nbformat": 4,
 "nbformat_minor": 2
}
